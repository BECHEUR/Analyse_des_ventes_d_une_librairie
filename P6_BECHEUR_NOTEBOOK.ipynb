{
 "cells": [
  {
   "attachments": {
    "image.png": {
     "image/png": "[encoded data removed]"
    }
   },
   "cell_type": "markdown",
   "id": "cd1d1007",
   "metadata": {},
   "source": [
    "- BECHEUR Yazid \n",
    "- PARCOURS DATA ANALYST 2021 \n",
    "![image.png](attachment:image.png)"
   ]
  },
  {
   "cell_type": "markdown",
   "id": "0135fafe",
   "metadata": {},
   "source": [
    "--------\n",
    "# PROJET 6 : ANALYSE DES VENTES D'UNE LIBRAIRIE\n",
    "--------"
   ]
  },
  {
   "cell_type": "markdown",
   "id": "1ce71ad7",
   "metadata": {},
   "source": [
    "### PARTIE 1 : IMPORTATION ET NETTOYAGE DES DONNEES\n",
    "\n",
    "#### 1. IMPORTATION DES LIBRAIRES\n",
    "#### 2. DATASET 'customers.csv'\n",
    "#### 3. DATASET 'products.csv'\n",
    "#### 4. DATASET 'transactions.csv'\n",
    "#### 5. JOINTURES DES 3 DATASETS POUR ANALYSE\n",
    "### PARTIE 2 : ANALYSE DES DONNEES\n",
    "#### 1. EVOLUTION DU CHIFFRE D'AFFAIRE DANS LE TEMPS\n",
    "   - Chiffre d'affaire total\n",
    "   - Chiffre d'affaire annuel\n",
    "   - Chiffre d'affaire mensuel\n",
    "       \n",
    "#### 2. REPARTITION DU CHIFFRE D'AFFAIRE PAR CATEGORIE DE PRODUITS\n",
    "           \n",
    "#### 3. LISTE DES PRODUITS LES MIEUX VENDUS ET LES PRODUITS LES MOINS BIEN VENDUS\n",
    "   \n",
    "#### 4. REPARTITION DU CHIFFRE D'AFFAIRE ENTRE LES CLIENTS (courbe de LORENZ)    \n",
    "   \n",
    "#### 5. REPARTITION DU CHIFFRE D'AFFAIRE PAR GENRE  DU CLIENT ET CATEGORIE DES PRODUITS\n",
    "\n",
    "#### 6. ANALYSE DES CORRELATIONS ENTRE L'AGE ET :      \n",
    "   - A - Le montant total des achats\n",
    "   - B - La fréquence des achats\n",
    "   - C - La taille du panier moyen \n",
    "   - D - Les catégories des livres achetés\n",
    "      \n",
    "#### 7. Calcule de la probabilité qu’un client achète la référence 0_525 sachant qu’il a acheté la référence 2_159\n",
    "#### 8. Exploration des jours et heures des commandes \n",
    "---------"
   ]
  },
  {
   "cell_type": "markdown",
   "id": "4bf6a86d",
   "metadata": {},
   "source": [
    "# PARTIE 1 : IMPORTATION, VERIFICATION ET NETTOYAGE DES DONNEES"
   ]
  },
  {
   "cell_type": "markdown",
   "id": "7a418676",
   "metadata": {},
   "source": [
    "--------\n",
    "### 1. IMPORTATION DES LIBRAIRIES\n",
    "-------"
   ]
  },
  {
   "cell_type": "code",
   "execution_count": 1,
   "id": "73b65aed",
   "metadata": {},
   "outputs": [],
   "source": [
    "import pandas as pd\n",
    "import numpy as np\n",
    "import seaborn as sns\n",
    "import matplotlib.pyplot as plt\n",
    "from datetime import tzinfo, timedelta, datetime\n",
    "import scipy.stats as st\n",
    "pd.options.mode.chained_assignment = None"
   ]
  },
  {
   "cell_type": "markdown",
   "id": "1b928a25",
   "metadata": {},
   "source": [
    "-----\n",
    "### 2. DATASET 'customers.csv'\n",
    "----"
   ]
  },
  {
   "cell_type": "markdown",
   "id": "c975d126",
   "metadata": {},
   "source": [
    "#### Démarche :\n",
    "   - Vérification de la colonne client_id qu'elle bien une clé primaire du dataset clients \n",
    "   - Recherche d'éventuelles valeurs aberrantes dans la colonne 'client_id' qui ne respectent pas la forme de la clé primaire : suppression de 2 valeurs aberrantes\n",
    "   - Vérification des statistiques des colonnes du dataframe : RAS\n",
    "   - Vérification de l'absence de valeurs aberrantes : aucune valeur abberante\n",
    "   - Vérification du type des colonnes, les valeurs non nulles et des colonnes index : type des données conforme\n",
    "   - Vérification de l'absence de valeurs nulles : aucune valeur nulle\n",
    "  "
   ]
  },
  {
   "cell_type": "code",
   "execution_count": 2,
   "id": "fe84dc83",
   "metadata": {
    "scrolled": true
   },
   "outputs": [
    {
     "data": {
      "text/html": [
       "<div>\n",
       "<style scoped>\n",
       "    .dataframe tbody tr th:only-of-type {\n",
       "        vertical-align: middle;\n",
       "    }\n",
       "\n",
       "    .dataframe tbody tr th {\n",
       "        vertical-align: top;\n",
       "    }\n",
       "\n",
       "    .dataframe thead th {\n",
       "        text-align: right;\n",
       "    }\n",
       "</style>\n",
       "<table border=\"1\" class=\"dataframe\">\n",
       "  <thead>\n",
       "    <tr style=\"text-align: right;\">\n",
       "      <th></th>\n",
       "      <th>client_id</th>\n",
       "      <th>sex</th>\n",
       "      <th>birth</th>\n",
       "    </tr>\n",
       "  </thead>\n",
       "  <tbody>\n",
       "    <tr>\n",
       "      <th>0</th>\n",
       "      <td>c_4410</td>\n",
       "      <td>f</td>\n",
       "      <td>1967</td>\n",
       "    </tr>\n",
       "    <tr>\n",
       "      <th>1</th>\n",
       "      <td>c_7839</td>\n",
       "      <td>f</td>\n",
       "      <td>1975</td>\n",
       "    </tr>\n",
       "    <tr>\n",
       "      <th>2</th>\n",
       "      <td>c_1699</td>\n",
       "      <td>f</td>\n",
       "      <td>1984</td>\n",
       "    </tr>\n",
       "    <tr>\n",
       "      <th>3</th>\n",
       "      <td>c_5961</td>\n",
       "      <td>f</td>\n",
       "      <td>1962</td>\n",
       "    </tr>\n",
       "    <tr>\n",
       "      <th>4</th>\n",
       "      <td>c_5320</td>\n",
       "      <td>m</td>\n",
       "      <td>1943</td>\n",
       "    </tr>\n",
       "  </tbody>\n",
       "</table>\n",
       "</div>"
      ],
      "text/plain": [
       "  client_id sex  birth\n",
       "0    c_4410   f   1967\n",
       "1    c_7839   f   1975\n",
       "2    c_1699   f   1984\n",
       "3    c_5961   f   1962\n",
       "4    c_5320   m   1943"
      ]
     },
     "execution_count": 2,
     "metadata": {},
     "output_type": "execute_result"
    }
   ],
   "source": [
    "# Importer le fichier customers \n",
    "clients = pd.read_csv('customers.csv')\n",
    "clients.head()"
   ]
  },
  {
   "cell_type": "code",
   "execution_count": 3,
   "id": "5edcb9f5",
   "metadata": {},
   "outputs": [
    {
     "data": {
      "text/html": [
       "<div>\n",
       "<style scoped>\n",
       "    .dataframe tbody tr th:only-of-type {\n",
       "        vertical-align: middle;\n",
       "    }\n",
       "\n",
       "    .dataframe tbody tr th {\n",
       "        vertical-align: top;\n",
       "    }\n",
       "\n",
       "    .dataframe thead th {\n",
       "        text-align: right;\n",
       "    }\n",
       "</style>\n",
       "<table border=\"1\" class=\"dataframe\">\n",
       "  <thead>\n",
       "    <tr style=\"text-align: right;\">\n",
       "      <th></th>\n",
       "      <th>client_id</th>\n",
       "      <th>sex</th>\n",
       "      <th>birth</th>\n",
       "    </tr>\n",
       "  </thead>\n",
       "  <tbody>\n",
       "    <tr>\n",
       "      <th>2735</th>\n",
       "      <td>ct_0</td>\n",
       "      <td>f</td>\n",
       "      <td>2001</td>\n",
       "    </tr>\n",
       "    <tr>\n",
       "      <th>8494</th>\n",
       "      <td>ct_1</td>\n",
       "      <td>m</td>\n",
       "      <td>2001</td>\n",
       "    </tr>\n",
       "  </tbody>\n",
       "</table>\n",
       "</div>"
      ],
      "text/plain": [
       "     client_id sex  birth\n",
       "2735      ct_0   f   2001\n",
       "8494      ct_1   m   2001"
      ]
     },
     "execution_count": 3,
     "metadata": {},
     "output_type": "execute_result"
    }
   ],
   "source": [
    "# Rechercher d'éventuelles valeurs aberrantes dans la colonne 'client_id' qui ne respectent pas la forme de la clé primaire\n",
    "valeurs_aberr=clients[~clients['client_id'].str.contains(\"c_\")]\n",
    "valeurs_aberr.head()"
   ]
  },
  {
   "cell_type": "code",
   "execution_count": 4,
   "id": "7e5ee02a",
   "metadata": {},
   "outputs": [],
   "source": [
    "# Suppression des valeurs aberrantes (ct_0 et ct_1) de la colonne 'client_id'\n",
    "clients.drop(clients[clients['client_id'].str.contains(\"ct_\")].index, inplace=True)"
   ]
  },
  {
   "cell_type": "code",
   "execution_count": 5,
   "id": "ba2b5676",
   "metadata": {},
   "outputs": [
    {
     "data": {
      "text/html": [
       "<div>\n",
       "<style scoped>\n",
       "    .dataframe tbody tr th:only-of-type {\n",
       "        vertical-align: middle;\n",
       "    }\n",
       "\n",
       "    .dataframe tbody tr th {\n",
       "        vertical-align: top;\n",
       "    }\n",
       "\n",
       "    .dataframe thead th {\n",
       "        text-align: right;\n",
       "    }\n",
       "</style>\n",
       "<table border=\"1\" class=\"dataframe\">\n",
       "  <thead>\n",
       "    <tr style=\"text-align: right;\">\n",
       "      <th></th>\n",
       "      <th>client_id</th>\n",
       "      <th>sex</th>\n",
       "      <th>birth</th>\n",
       "    </tr>\n",
       "  </thead>\n",
       "  <tbody>\n",
       "  </tbody>\n",
       "</table>\n",
       "</div>"
      ],
      "text/plain": [
       "Empty DataFrame\n",
       "Columns: [client_id, sex, birth]\n",
       "Index: []"
      ]
     },
     "execution_count": 5,
     "metadata": {},
     "output_type": "execute_result"
    }
   ],
   "source": [
    "# vérification des valeurs aberrantes (ct_0 et ct_1) supprimées\n",
    "clients[clients['client_id'].str.contains(\"ct_\")]"
   ]
  },
  {
   "cell_type": "markdown",
   "id": "68d6c102",
   "metadata": {},
   "source": [
    "### Vérification que la colonne  'client_id' est bien une clé primaire "
   ]
  },
  {
   "cell_type": "code",
   "execution_count": 6,
   "id": "3950c428",
   "metadata": {},
   "outputs": [],
   "source": [
    "# création d'une fonction pour vérifier si une colonne est bien une clé primaire d'un dataframe\n",
    "def isPrimaryKey(df, columnList): \n",
    "     # Vérification si la colonne existe dans le dataframe\n",
    "    for columnInput in columnList:\n",
    "        if columnInput not in df.columns:\n",
    "            raise ValueError(\"'{}' is not a valid column\".format(columnInput))\n",
    "    # --> y a-t-il deux lignes identiques lorsque nous projetons df ?\n",
    "    # nous projetons df dans les colonnes données\n",
    "    # on supprime les doublons de la projection\n",
    "    # on compte le nombre de ligne et on le compare à l'initiale\n",
    "    return len(df) == len(df.drop_duplicates(subset=columnList))"
   ]
  },
  {
   "cell_type": "code",
   "execution_count": 7,
   "id": "b96630b0",
   "metadata": {
    "scrolled": true
   },
   "outputs": [
    {
     "data": {
      "text/plain": [
       "True"
      ]
     },
     "execution_count": 7,
     "metadata": {},
     "output_type": "execute_result"
    }
   ],
   "source": [
    "# Tester si la colonne 'product_id' est une clé primaire du daframe clients\n",
    "isPrimaryKey(clients, ['client_id'])"
   ]
  },
  {
   "cell_type": "code",
   "execution_count": 8,
   "id": "cf64776e",
   "metadata": {},
   "outputs": [
    {
     "name": "stdout",
     "output_type": "stream",
     "text": [
      "       client_id   sex        birth\n",
      "count       8621  8621  8621.000000\n",
      "unique      8621     2          NaN\n",
      "top       c_6270     f          NaN\n",
      "freq           1  4490          NaN\n",
      "mean         NaN   NaN  1978.275606\n",
      "std          NaN   NaN    16.917958\n",
      "min          NaN   NaN  1929.000000\n",
      "25%          NaN   NaN  1966.000000\n",
      "50%          NaN   NaN  1979.000000\n",
      "75%          NaN   NaN  1992.000000\n",
      "max          NaN   NaN  2004.000000\n"
     ]
    }
   ],
   "source": [
    "# Consultation des statistiques du dataframe 'clients'\n",
    "print(clients.describe(include='all'))"
   ]
  },
  {
   "cell_type": "code",
   "execution_count": 9,
   "id": "4deb0e8d",
   "metadata": {},
   "outputs": [
    {
     "name": "stdout",
     "output_type": "stream",
     "text": [
      "<class 'pandas.core.frame.DataFrame'>\n",
      "Int64Index: 8621 entries, 0 to 8622\n",
      "Data columns (total 3 columns):\n",
      " #   Column     Non-Null Count  Dtype \n",
      "---  ------     --------------  ----- \n",
      " 0   client_id  8621 non-null   object\n",
      " 1   sex        8621 non-null   object\n",
      " 2   birth      8621 non-null   int64 \n",
      "dtypes: int64(1), object(2)\n",
      "memory usage: 269.4+ KB\n"
     ]
    }
   ],
   "source": [
    "# Informations sur les type des colonnes, les valeurs non nulles et des colonnes index\n",
    "clients.info()"
   ]
  },
  {
   "cell_type": "code",
   "execution_count": 10,
   "id": "cb4c6755",
   "metadata": {},
   "outputs": [
    {
     "data": {
      "text/plain": [
       "client_id    0.0\n",
       "sex          0.0\n",
       "birth        0.0\n",
       "dtype: float64"
      ]
     },
     "execution_count": 10,
     "metadata": {},
     "output_type": "execute_result"
    }
   ],
   "source": [
    "# vérification des proportions des valeurs nulles\n",
    "(clients.isna().sum()/clients.shape[0]).sort_values(ascending=True)"
   ]
  },
  {
   "cell_type": "code",
   "execution_count": 11,
   "id": "02c047ed",
   "metadata": {},
   "outputs": [
    {
     "data": {
      "text/plain": [
       "array(['f', 'm'], dtype=object)"
      ]
     },
     "execution_count": 11,
     "metadata": {},
     "output_type": "execute_result"
    }
   ],
   "source": [
    "# Afficher uniquement les variables de la colonne 'sex'\n",
    "clients['sex'].unique()"
   ]
  },
  {
   "cell_type": "markdown",
   "id": "a1037c45",
   "metadata": {},
   "source": [
    "##### Informations :\n",
    "\n",
    "- 2 valeurs aberrantes ('ct_0','ct_1') supprimées de la colonne client_id\n",
    "- La colonne client_id est bien une clé primaire\n",
    "- nombre de lignes = 8621 \n",
    "- colonne sex (qualitative): f,h, type = 'object' \n",
    "- colonne birth (quantitative) : min = 1929, max = 2004, type = 'int64'\n",
    "- Aucune valeur nulle\n",
    "   \n",
    "  "
   ]
  },
  {
   "cell_type": "markdown",
   "id": "43e337f3",
   "metadata": {},
   "source": [
    "----\n",
    "### 3. DATASET 'products.csv'\n",
    "----"
   ]
  },
  {
   "cell_type": "markdown",
   "id": "38ac03d7",
   "metadata": {},
   "source": [
    "#### Démarche :\n",
    "   - Vérification de la colonne id_prod clé primaire du dataframe produits : la colonne est bien une clé primaire\n",
    "   - Recherche d'éventuelles valeurs aberrantes dans la colonne 'id_prod' qui ne respectent pas la forme de la clé primaire : une valeur aberrante supprimée\n",
    "   - Vérification des statistiques des colonnes du dataframe : RAS\n",
    "   - Vérification du type des colonnes, les valeurs non nulles et des colonnes index :\n",
    "   - Vérification de l'absence de valeurs nulles "
   ]
  },
  {
   "cell_type": "code",
   "execution_count": 12,
   "id": "870202df",
   "metadata": {
    "scrolled": false
   },
   "outputs": [
    {
     "data": {
      "text/html": [
       "<div>\n",
       "<style scoped>\n",
       "    .dataframe tbody tr th:only-of-type {\n",
       "        vertical-align: middle;\n",
       "    }\n",
       "\n",
       "    .dataframe tbody tr th {\n",
       "        vertical-align: top;\n",
       "    }\n",
       "\n",
       "    .dataframe thead th {\n",
       "        text-align: right;\n",
       "    }\n",
       "</style>\n",
       "<table border=\"1\" class=\"dataframe\">\n",
       "  <thead>\n",
       "    <tr style=\"text-align: right;\">\n",
       "      <th></th>\n",
       "      <th>id_prod</th>\n",
       "      <th>price</th>\n",
       "      <th>categ</th>\n",
       "    </tr>\n",
       "  </thead>\n",
       "  <tbody>\n",
       "    <tr>\n",
       "      <th>0</th>\n",
       "      <td>0_1421</td>\n",
       "      <td>19.99</td>\n",
       "      <td>0</td>\n",
       "    </tr>\n",
       "    <tr>\n",
       "      <th>1</th>\n",
       "      <td>0_1368</td>\n",
       "      <td>5.13</td>\n",
       "      <td>0</td>\n",
       "    </tr>\n",
       "    <tr>\n",
       "      <th>2</th>\n",
       "      <td>0_731</td>\n",
       "      <td>17.99</td>\n",
       "      <td>0</td>\n",
       "    </tr>\n",
       "    <tr>\n",
       "      <th>3</th>\n",
       "      <td>1_587</td>\n",
       "      <td>4.99</td>\n",
       "      <td>1</td>\n",
       "    </tr>\n",
       "    <tr>\n",
       "      <th>4</th>\n",
       "      <td>0_1507</td>\n",
       "      <td>3.99</td>\n",
       "      <td>0</td>\n",
       "    </tr>\n",
       "  </tbody>\n",
       "</table>\n",
       "</div>"
      ],
      "text/plain": [
       "  id_prod  price  categ\n",
       "0  0_1421  19.99      0\n",
       "1  0_1368   5.13      0\n",
       "2   0_731  17.99      0\n",
       "3   1_587   4.99      1\n",
       "4  0_1507   3.99      0"
      ]
     },
     "execution_count": 12,
     "metadata": {},
     "output_type": "execute_result"
    }
   ],
   "source": [
    "# Importer le fichier products au format csv \n",
    "produits = pd.read_csv('products.csv')\n",
    "produits.head()"
   ]
  },
  {
   "cell_type": "code",
   "execution_count": 13,
   "id": "cd7185ca",
   "metadata": {},
   "outputs": [
    {
     "data": {
      "text/html": [
       "<div>\n",
       "<style scoped>\n",
       "    .dataframe tbody tr th:only-of-type {\n",
       "        vertical-align: middle;\n",
       "    }\n",
       "\n",
       "    .dataframe tbody tr th {\n",
       "        vertical-align: top;\n",
       "    }\n",
       "\n",
       "    .dataframe thead th {\n",
       "        text-align: right;\n",
       "    }\n",
       "</style>\n",
       "<table border=\"1\" class=\"dataframe\">\n",
       "  <thead>\n",
       "    <tr style=\"text-align: right;\">\n",
       "      <th></th>\n",
       "      <th>id_prod</th>\n",
       "      <th>price</th>\n",
       "      <th>categ</th>\n",
       "    </tr>\n",
       "  </thead>\n",
       "  <tbody>\n",
       "    <tr>\n",
       "      <th>731</th>\n",
       "      <td>T_0</td>\n",
       "      <td>-1.0</td>\n",
       "      <td>0</td>\n",
       "    </tr>\n",
       "  </tbody>\n",
       "</table>\n",
       "</div>"
      ],
      "text/plain": [
       "    id_prod  price  categ\n",
       "731     T_0   -1.0      0"
      ]
     },
     "execution_count": 13,
     "metadata": {},
     "output_type": "execute_result"
    }
   ],
   "source": [
    "# Rechercher d'éventuelles valeurs aberrantes dans la colonne 'id_prod' qui ne respectent pas la forme de la clé primaire\n",
    "verif=produits[~produits['id_prod'].str.contains('0_|1_|2_')]\n",
    "verif.head()"
   ]
  },
  {
   "cell_type": "code",
   "execution_count": 14,
   "id": "75eb49b4",
   "metadata": {},
   "outputs": [],
   "source": [
    "# Suppression des valeurs aberrantes (ct_0 et ct_1) de la colonne 'client_id'\n",
    "produits.drop(produits[produits['id_prod'].str.contains(\"T_0\")].index, inplace=True)"
   ]
  },
  {
   "cell_type": "code",
   "execution_count": 15,
   "id": "6f52c2c3",
   "metadata": {},
   "outputs": [
    {
     "data": {
      "text/html": [
       "<div>\n",
       "<style scoped>\n",
       "    .dataframe tbody tr th:only-of-type {\n",
       "        vertical-align: middle;\n",
       "    }\n",
       "\n",
       "    .dataframe tbody tr th {\n",
       "        vertical-align: top;\n",
       "    }\n",
       "\n",
       "    .dataframe thead tr th {\n",
       "        text-align: left;\n",
       "    }\n",
       "\n",
       "    .dataframe thead tr:last-of-type th {\n",
       "        text-align: right;\n",
       "    }\n",
       "</style>\n",
       "<table border=\"1\" class=\"dataframe\">\n",
       "  <thead>\n",
       "    <tr>\n",
       "      <th></th>\n",
       "      <th>categ</th>\n",
       "    </tr>\n",
       "    <tr>\n",
       "      <th></th>\n",
       "      <th>count</th>\n",
       "    </tr>\n",
       "    <tr>\n",
       "      <th>categ</th>\n",
       "      <th></th>\n",
       "    </tr>\n",
       "  </thead>\n",
       "  <tbody>\n",
       "    <tr>\n",
       "      <th>0</th>\n",
       "      <td>2308</td>\n",
       "    </tr>\n",
       "    <tr>\n",
       "      <th>1</th>\n",
       "      <td>739</td>\n",
       "    </tr>\n",
       "    <tr>\n",
       "      <th>2</th>\n",
       "      <td>239</td>\n",
       "    </tr>\n",
       "  </tbody>\n",
       "</table>\n",
       "</div>"
      ],
      "text/plain": [
       "      categ\n",
       "      count\n",
       "categ      \n",
       "0      2308\n",
       "1       739\n",
       "2       239"
      ]
     },
     "execution_count": 15,
     "metadata": {},
     "output_type": "execute_result"
    }
   ],
   "source": [
    "# Nombre de produits par catégorie\n",
    "produits.groupby('categ')[['categ']].agg(['count'])"
   ]
  },
  {
   "cell_type": "code",
   "execution_count": 16,
   "id": "6d5644af",
   "metadata": {},
   "outputs": [
    {
     "data": {
      "text/plain": [
       "True"
      ]
     },
     "execution_count": 16,
     "metadata": {},
     "output_type": "execute_result"
    }
   ],
   "source": [
    "# Tester si la colonne 'id_prod' est une clé primaire du daframe produits\n",
    "isPrimaryKey(produits, ['id_prod'])"
   ]
  },
  {
   "cell_type": "code",
   "execution_count": 17,
   "id": "992dcd62",
   "metadata": {},
   "outputs": [
    {
     "name": "stdout",
     "output_type": "stream",
     "text": [
      "<class 'pandas.core.frame.DataFrame'>\n",
      "Int64Index: 3286 entries, 0 to 3286\n",
      "Data columns (total 3 columns):\n",
      " #   Column   Non-Null Count  Dtype  \n",
      "---  ------   --------------  -----  \n",
      " 0   id_prod  3286 non-null   object \n",
      " 1   price    3286 non-null   float64\n",
      " 2   categ    3286 non-null   int64  \n",
      "dtypes: float64(1), int64(1), object(1)\n",
      "memory usage: 231.7+ KB\n"
     ]
    }
   ],
   "source": [
    "# Vérification du type des colonnes, les valeurs non nulles et des colonnes index\n",
    "produits.info()"
   ]
  },
  {
   "cell_type": "code",
   "execution_count": 18,
   "id": "c7e795a1",
   "metadata": {},
   "outputs": [],
   "source": [
    "# modifer le type de la variable 'categ' en variable catégorielle\n",
    "produits['categ'] = produits['categ'].astype('category')"
   ]
  },
  {
   "cell_type": "code",
   "execution_count": 19,
   "id": "4d9e2328",
   "metadata": {},
   "outputs": [
    {
     "name": "stdout",
     "output_type": "stream",
     "text": [
      "<class 'pandas.core.frame.DataFrame'>\n",
      "Int64Index: 3286 entries, 0 to 3286\n",
      "Data columns (total 1 columns):\n",
      " #   Column  Non-Null Count  Dtype   \n",
      "---  ------  --------------  -----   \n",
      " 0   categ   3286 non-null   category\n",
      "dtypes: category(1)\n",
      "memory usage: 158.0 KB\n"
     ]
    }
   ],
   "source": [
    "# vérification\n",
    "produits[['categ']].info()"
   ]
  },
  {
   "cell_type": "code",
   "execution_count": 20,
   "id": "9d1ecf22",
   "metadata": {},
   "outputs": [
    {
     "data": {
      "text/plain": [
       "id_prod    0\n",
       "price      0\n",
       "categ      0\n",
       "dtype: int64"
      ]
     },
     "execution_count": 20,
     "metadata": {},
     "output_type": "execute_result"
    }
   ],
   "source": [
    "# Vérifications des valeurs nulles\n",
    "produits.isnull().sum()"
   ]
  },
  {
   "cell_type": "code",
   "execution_count": 21,
   "id": "6ee96d0f",
   "metadata": {
    "scrolled": true
   },
   "outputs": [
    {
     "name": "stdout",
     "output_type": "stream",
     "text": [
      "       id_prod        price   categ\n",
      "count     3286  3286.000000  3286.0\n",
      "unique    3286          NaN     3.0\n",
      "top      0_825          NaN     0.0\n",
      "freq         1          NaN  2308.0\n",
      "mean       NaN    21.863597     NaN\n",
      "std        NaN    29.849786     NaN\n",
      "min        NaN     0.620000     NaN\n",
      "25%        NaN     6.990000     NaN\n",
      "50%        NaN    13.075000     NaN\n",
      "75%        NaN    22.990000     NaN\n",
      "max        NaN   300.000000     NaN\n"
     ]
    }
   ],
   "source": [
    "# Consultation des statistiques des colonnes du dataframe 'produits'\n",
    "print(produits.describe(include='all'))"
   ]
  },
  {
   "cell_type": "markdown",
   "id": "450b4e01",
   "metadata": {},
   "source": [
    "##### Informations :\n",
    "\n",
    "- Une valeurs aberrantes ('T_0') supprimées de la colonne [id_prod]\n",
    "- La colonne id_prod est bien une clé primaire du dataset \"produis\"\n",
    "- Nombre de lignes =  3286\n",
    "- Colonne price (quanitative): min = 0.62, max = 300, type = 'float64' \n",
    "- Colonne categ (qualitative) : modalités = 0,1,2, type = 'category'\n",
    "- Aucune valeur nulle"
   ]
  },
  {
   "cell_type": "markdown",
   "id": "61464a24",
   "metadata": {},
   "source": [
    "-----\n",
    "### 4. DATASET 'transactions.csv'\n",
    "-----"
   ]
  },
  {
   "cell_type": "markdown",
   "id": "e0ce0a68",
   "metadata": {},
   "source": [
    "##### Démarche :\n",
    "   - Vérification des statistiques et valeurs aberrantes des colonnes du dataset : des valeurs test de la colonne 'date' représentent des valeurs aberrantes, ces valeurs sont supprimées; ex: test_2021-03-01 02:30:02.237413\n",
    "   - Vérification de l'absence de valeurs nulles : aucune valeur nulle\n",
    "   - Vérification du type des colonnes, les valeurs non nulles et des colonnes index : type des données de la colonne 'date' est au format 'object', elle sera convertie après avoir effectué les jointures\n",
    "   - Vérification de l'absence de doublons : pas de doublons\n",
    "   - Vérification (rapprochement) des références des produits et clients avec celles présentes dans le dataset 'transactions' :\n",
    "        -  Vérifier si tous les clients ayants effectués des transactions sont également référencés dans le dataset 'clients' et inversement\n",
    "        - Vérifier si tous les produits achetés sont également référencés dans le dataset 'produits' et inversement\n",
    "  \n",
    "   "
   ]
  },
  {
   "cell_type": "code",
   "execution_count": 22,
   "id": "86ab5bae",
   "metadata": {
    "scrolled": true
   },
   "outputs": [
    {
     "data": {
      "text/html": [
       "<div>\n",
       "<style scoped>\n",
       "    .dataframe tbody tr th:only-of-type {\n",
       "        vertical-align: middle;\n",
       "    }\n",
       "\n",
       "    .dataframe tbody tr th {\n",
       "        vertical-align: top;\n",
       "    }\n",
       "\n",
       "    .dataframe thead th {\n",
       "        text-align: right;\n",
       "    }\n",
       "</style>\n",
       "<table border=\"1\" class=\"dataframe\">\n",
       "  <thead>\n",
       "    <tr style=\"text-align: right;\">\n",
       "      <th></th>\n",
       "      <th>id_prod</th>\n",
       "      <th>date</th>\n",
       "      <th>session_id</th>\n",
       "      <th>client_id</th>\n",
       "    </tr>\n",
       "  </thead>\n",
       "  <tbody>\n",
       "    <tr>\n",
       "      <th>0</th>\n",
       "      <td>0_1518</td>\n",
       "      <td>2022-05-20 13:21:29.043970</td>\n",
       "      <td>s_211425</td>\n",
       "      <td>c_103</td>\n",
       "    </tr>\n",
       "    <tr>\n",
       "      <th>1</th>\n",
       "      <td>1_251</td>\n",
       "      <td>2022-02-02 07:55:19.149409</td>\n",
       "      <td>s_158752</td>\n",
       "      <td>c_8534</td>\n",
       "    </tr>\n",
       "    <tr>\n",
       "      <th>2</th>\n",
       "      <td>0_1277</td>\n",
       "      <td>2022-06-18 15:44:33.155329</td>\n",
       "      <td>s_225667</td>\n",
       "      <td>c_6714</td>\n",
       "    </tr>\n",
       "    <tr>\n",
       "      <th>3</th>\n",
       "      <td>2_209</td>\n",
       "      <td>2021-06-24 04:19:29.835891</td>\n",
       "      <td>s_52962</td>\n",
       "      <td>c_6941</td>\n",
       "    </tr>\n",
       "    <tr>\n",
       "      <th>4</th>\n",
       "      <td>0_1509</td>\n",
       "      <td>2023-01-11 08:22:08.194479</td>\n",
       "      <td>s_325227</td>\n",
       "      <td>c_4232</td>\n",
       "    </tr>\n",
       "  </tbody>\n",
       "</table>\n",
       "</div>"
      ],
      "text/plain": [
       "  id_prod                        date session_id client_id\n",
       "0  0_1518  2022-05-20 13:21:29.043970   s_211425     c_103\n",
       "1   1_251  2022-02-02 07:55:19.149409   s_158752    c_8534\n",
       "2  0_1277  2022-06-18 15:44:33.155329   s_225667    c_6714\n",
       "3   2_209  2021-06-24 04:19:29.835891    s_52962    c_6941\n",
       "4  0_1509  2023-01-11 08:22:08.194479   s_325227    c_4232"
      ]
     },
     "execution_count": 22,
     "metadata": {},
     "output_type": "execute_result"
    }
   ],
   "source": [
    "# Importer le fichier 'transactions' \n",
    "transactions = pd.read_csv('transactions.csv')\n",
    "transactions.head()"
   ]
  },
  {
   "cell_type": "code",
   "execution_count": 23,
   "id": "a94c28ca",
   "metadata": {
    "scrolled": true
   },
   "outputs": [
    {
     "name": "stdout",
     "output_type": "stream",
     "text": [
      "       id_prod                             date session_id client_id\n",
      "count   679532                           679532     679532    679532\n",
      "unique    3267                           679371     342316      8602\n",
      "top      1_369  test_2021-03-01 02:30:02.237413        s_0    c_1609\n",
      "freq      2252                               13        200     25488\n"
     ]
    }
   ],
   "source": [
    "# Consultation des statistiques du dataframe 'transactions'\n",
    "print(transactions.describe(include='all'))"
   ]
  },
  {
   "cell_type": "code",
   "execution_count": 24,
   "id": "04f8739a",
   "metadata": {},
   "outputs": [
    {
     "data": {
      "text/html": [
       "<div>\n",
       "<style scoped>\n",
       "    .dataframe tbody tr th:only-of-type {\n",
       "        vertical-align: middle;\n",
       "    }\n",
       "\n",
       "    .dataframe tbody tr th {\n",
       "        vertical-align: top;\n",
       "    }\n",
       "\n",
       "    .dataframe thead th {\n",
       "        text-align: right;\n",
       "    }\n",
       "</style>\n",
       "<table border=\"1\" class=\"dataframe\">\n",
       "  <thead>\n",
       "    <tr style=\"text-align: right;\">\n",
       "      <th></th>\n",
       "      <th>id_prod</th>\n",
       "      <th>date</th>\n",
       "      <th>session_id</th>\n",
       "      <th>client_id</th>\n",
       "    </tr>\n",
       "  </thead>\n",
       "  <tbody>\n",
       "    <tr>\n",
       "      <th>3019</th>\n",
       "      <td>T_0</td>\n",
       "      <td>test_2021-03-01 02:30:02.237419</td>\n",
       "      <td>s_0</td>\n",
       "      <td>ct_0</td>\n",
       "    </tr>\n",
       "    <tr>\n",
       "      <th>5138</th>\n",
       "      <td>T_0</td>\n",
       "      <td>test_2021-03-01 02:30:02.237425</td>\n",
       "      <td>s_0</td>\n",
       "      <td>ct_0</td>\n",
       "    </tr>\n",
       "    <tr>\n",
       "      <th>9668</th>\n",
       "      <td>T_0</td>\n",
       "      <td>test_2021-03-01 02:30:02.237437</td>\n",
       "      <td>s_0</td>\n",
       "      <td>ct_1</td>\n",
       "    </tr>\n",
       "    <tr>\n",
       "      <th>10728</th>\n",
       "      <td>T_0</td>\n",
       "      <td>test_2021-03-01 02:30:02.237436</td>\n",
       "      <td>s_0</td>\n",
       "      <td>ct_0</td>\n",
       "    </tr>\n",
       "    <tr>\n",
       "      <th>15292</th>\n",
       "      <td>T_0</td>\n",
       "      <td>test_2021-03-01 02:30:02.237430</td>\n",
       "      <td>s_0</td>\n",
       "      <td>ct_0</td>\n",
       "    </tr>\n",
       "    <tr>\n",
       "      <th>...</th>\n",
       "      <td>...</td>\n",
       "      <td>...</td>\n",
       "      <td>...</td>\n",
       "      <td>...</td>\n",
       "    </tr>\n",
       "    <tr>\n",
       "      <th>657830</th>\n",
       "      <td>T_0</td>\n",
       "      <td>test_2021-03-01 02:30:02.237417</td>\n",
       "      <td>s_0</td>\n",
       "      <td>ct_0</td>\n",
       "    </tr>\n",
       "    <tr>\n",
       "      <th>662081</th>\n",
       "      <td>T_0</td>\n",
       "      <td>test_2021-03-01 02:30:02.237427</td>\n",
       "      <td>s_0</td>\n",
       "      <td>ct_1</td>\n",
       "    </tr>\n",
       "    <tr>\n",
       "      <th>670680</th>\n",
       "      <td>T_0</td>\n",
       "      <td>test_2021-03-01 02:30:02.237449</td>\n",
       "      <td>s_0</td>\n",
       "      <td>ct_1</td>\n",
       "    </tr>\n",
       "    <tr>\n",
       "      <th>671647</th>\n",
       "      <td>T_0</td>\n",
       "      <td>test_2021-03-01 02:30:02.237424</td>\n",
       "      <td>s_0</td>\n",
       "      <td>ct_1</td>\n",
       "    </tr>\n",
       "    <tr>\n",
       "      <th>679180</th>\n",
       "      <td>T_0</td>\n",
       "      <td>test_2021-03-01 02:30:02.237425</td>\n",
       "      <td>s_0</td>\n",
       "      <td>ct_1</td>\n",
       "    </tr>\n",
       "  </tbody>\n",
       "</table>\n",
       "<p>200 rows × 4 columns</p>\n",
       "</div>"
      ],
      "text/plain": [
       "       id_prod                             date session_id client_id\n",
       "3019       T_0  test_2021-03-01 02:30:02.237419        s_0      ct_0\n",
       "5138       T_0  test_2021-03-01 02:30:02.237425        s_0      ct_0\n",
       "9668       T_0  test_2021-03-01 02:30:02.237437        s_0      ct_1\n",
       "10728      T_0  test_2021-03-01 02:30:02.237436        s_0      ct_0\n",
       "15292      T_0  test_2021-03-01 02:30:02.237430        s_0      ct_0\n",
       "...        ...                              ...        ...       ...\n",
       "657830     T_0  test_2021-03-01 02:30:02.237417        s_0      ct_0\n",
       "662081     T_0  test_2021-03-01 02:30:02.237427        s_0      ct_1\n",
       "670680     T_0  test_2021-03-01 02:30:02.237449        s_0      ct_1\n",
       "671647     T_0  test_2021-03-01 02:30:02.237424        s_0      ct_1\n",
       "679180     T_0  test_2021-03-01 02:30:02.237425        s_0      ct_1\n",
       "\n",
       "[200 rows x 4 columns]"
      ]
     },
     "execution_count": 24,
     "metadata": {},
     "output_type": "execute_result"
    }
   ],
   "source": [
    "# Afficher les valeurs aberrantes\n",
    "transactions[transactions['date'].str.contains(\"test\")]"
   ]
  },
  {
   "cell_type": "code",
   "execution_count": 25,
   "id": "8cf0522e",
   "metadata": {
    "scrolled": true
   },
   "outputs": [],
   "source": [
    "# Suppression des valeurs aberrantes (test) de la colonne 'date'\n",
    "transactions.drop(transactions[transactions['date'].str.contains(\"test\")].index,inplace=True)"
   ]
  },
  {
   "cell_type": "code",
   "execution_count": 26,
   "id": "d2a9d458",
   "metadata": {},
   "outputs": [
    {
     "name": "stdout",
     "output_type": "stream",
     "text": [
      "       id_prod                        date session_id client_id\n",
      "count   679332                      679332     679332    679332\n",
      "unique    3266                      679332     342315      8600\n",
      "top      1_369  2021-07-13 11:29:02.334340   s_118668    c_1609\n",
      "freq      2252                           1         14     25488\n"
     ]
    }
   ],
   "source": [
    "# Vérifications des statistiques des colonnes\n",
    "print(transactions.describe(include='all'))"
   ]
  },
  {
   "cell_type": "code",
   "execution_count": 27,
   "id": "22b1b551",
   "metadata": {},
   "outputs": [
    {
     "data": {
      "text/plain": [
       "id_prod       0\n",
       "date          0\n",
       "session_id    0\n",
       "client_id     0\n",
       "dtype: int64"
      ]
     },
     "execution_count": 27,
     "metadata": {},
     "output_type": "execute_result"
    }
   ],
   "source": [
    "# Vérificaton des valeurs nulles\n",
    "transactions.isnull().sum()"
   ]
  },
  {
   "cell_type": "code",
   "execution_count": 28,
   "id": "6140fbd9",
   "metadata": {},
   "outputs": [
    {
     "name": "stdout",
     "output_type": "stream",
     "text": [
      "<class 'pandas.core.frame.DataFrame'>\n",
      "Int64Index: 679332 entries, 0 to 679531\n",
      "Data columns (total 4 columns):\n",
      " #   Column      Non-Null Count   Dtype \n",
      "---  ------      --------------   ----- \n",
      " 0   id_prod     679332 non-null  object\n",
      " 1   date        679332 non-null  object\n",
      " 2   session_id  679332 non-null  object\n",
      " 3   client_id   679332 non-null  object\n",
      "dtypes: object(4)\n",
      "memory usage: 25.9+ MB\n"
     ]
    }
   ],
   "source": [
    "# Vérification du type des colonnes, et des valeurs non nulles\n",
    "transactions.info()"
   ]
  },
  {
   "cell_type": "code",
   "execution_count": 29,
   "id": "dfffb2b5",
   "metadata": {
    "scrolled": true
   },
   "outputs": [
    {
     "data": {
      "text/plain": [
       "id_prod       679332\n",
       "date          679332\n",
       "session_id    679332\n",
       "client_id     679332\n",
       "dtype: int64"
      ]
     },
     "execution_count": 29,
     "metadata": {},
     "output_type": "execute_result"
    }
   ],
   "source": [
    "# Vérification et supression des doublons\n",
    "transactions.drop_duplicates().count()"
   ]
  },
  {
   "cell_type": "markdown",
   "id": "c99adc47",
   "metadata": {},
   "source": [
    "-----\n",
    "##### VERIFICATION (RAPPROCHEMENT) DES REFERENCES DES 'PRODUITS' ET DES 'CLIENTS' DANS LE DATASET 'TRANSACTIONS'\n",
    "-----\n",
    "\n",
    "  "
   ]
  },
  {
   "cell_type": "markdown",
   "id": "52eef031",
   "metadata": {},
   "source": [
    "###### Références  clients "
   ]
  },
  {
   "cell_type": "markdown",
   "id": "5e6ab0c1",
   "metadata": {},
   "source": [
    "###### JOINTURE 'LEFT'"
   ]
  },
  {
   "cell_type": "code",
   "execution_count": 30,
   "id": "3ec4cd79",
   "metadata": {
    "scrolled": true
   },
   "outputs": [
    {
     "data": {
      "text/html": [
       "<div>\n",
       "<style scoped>\n",
       "    .dataframe tbody tr th:only-of-type {\n",
       "        vertical-align: middle;\n",
       "    }\n",
       "\n",
       "    .dataframe tbody tr th {\n",
       "        vertical-align: top;\n",
       "    }\n",
       "\n",
       "    .dataframe thead th {\n",
       "        text-align: right;\n",
       "    }\n",
       "</style>\n",
       "<table border=\"1\" class=\"dataframe\">\n",
       "  <thead>\n",
       "    <tr style=\"text-align: right;\">\n",
       "      <th></th>\n",
       "      <th>id_prod</th>\n",
       "      <th>date</th>\n",
       "      <th>session_id</th>\n",
       "      <th>client_id</th>\n",
       "      <th>sex</th>\n",
       "      <th>birth</th>\n",
       "    </tr>\n",
       "  </thead>\n",
       "  <tbody>\n",
       "    <tr>\n",
       "      <th>0</th>\n",
       "      <td>0_1518</td>\n",
       "      <td>2022-05-20 13:21:29.043970</td>\n",
       "      <td>s_211425</td>\n",
       "      <td>c_103</td>\n",
       "      <td>f</td>\n",
       "      <td>1986</td>\n",
       "    </tr>\n",
       "    <tr>\n",
       "      <th>1</th>\n",
       "      <td>1_251</td>\n",
       "      <td>2022-02-02 07:55:19.149409</td>\n",
       "      <td>s_158752</td>\n",
       "      <td>c_8534</td>\n",
       "      <td>m</td>\n",
       "      <td>1988</td>\n",
       "    </tr>\n",
       "    <tr>\n",
       "      <th>2</th>\n",
       "      <td>0_1277</td>\n",
       "      <td>2022-06-18 15:44:33.155329</td>\n",
       "      <td>s_225667</td>\n",
       "      <td>c_6714</td>\n",
       "      <td>f</td>\n",
       "      <td>1968</td>\n",
       "    </tr>\n",
       "    <tr>\n",
       "      <th>3</th>\n",
       "      <td>2_209</td>\n",
       "      <td>2021-06-24 04:19:29.835891</td>\n",
       "      <td>s_52962</td>\n",
       "      <td>c_6941</td>\n",
       "      <td>m</td>\n",
       "      <td>2000</td>\n",
       "    </tr>\n",
       "    <tr>\n",
       "      <th>4</th>\n",
       "      <td>0_1509</td>\n",
       "      <td>2023-01-11 08:22:08.194479</td>\n",
       "      <td>s_325227</td>\n",
       "      <td>c_4232</td>\n",
       "      <td>m</td>\n",
       "      <td>1980</td>\n",
       "    </tr>\n",
       "  </tbody>\n",
       "</table>\n",
       "</div>"
      ],
      "text/plain": [
       "  id_prod                        date session_id client_id sex  birth\n",
       "0  0_1518  2022-05-20 13:21:29.043970   s_211425     c_103   f   1986\n",
       "1   1_251  2022-02-02 07:55:19.149409   s_158752    c_8534   m   1988\n",
       "2  0_1277  2022-06-18 15:44:33.155329   s_225667    c_6714   f   1968\n",
       "3   2_209  2021-06-24 04:19:29.835891    s_52962    c_6941   m   2000\n",
       "4  0_1509  2023-01-11 08:22:08.194479   s_325227    c_4232   m   1980"
      ]
     },
     "execution_count": 30,
     "metadata": {},
     "output_type": "execute_result"
    }
   ],
   "source": [
    "# faire une joitures left entre le df transactions et clients pour vérifier la concordance \n",
    "# entre la colonne clé primaire des 2 df\n",
    "join_cli_left=transactions.merge(clients,on='client_id', how='left')\n",
    "join_cli_left.head()"
   ]
  },
  {
   "cell_type": "code",
   "execution_count": 31,
   "id": "5386b1ce",
   "metadata": {
    "scrolled": false
   },
   "outputs": [
    {
     "data": {
      "text/plain": [
       "id_prod       0\n",
       "date          0\n",
       "session_id    0\n",
       "client_id     0\n",
       "sex           0\n",
       "birth         0\n",
       "dtype: int64"
      ]
     },
     "execution_count": 31,
     "metadata": {},
     "output_type": "execute_result"
    }
   ],
   "source": [
    "# Vérifier les valeurs nulles\n",
    "join_cli_left.isnull().sum()"
   ]
  },
  {
   "cell_type": "markdown",
   "id": "621cc588",
   "metadata": {},
   "source": [
    "##### JOINTURE 'RIGHT'"
   ]
  },
  {
   "cell_type": "code",
   "execution_count": 32,
   "id": "6028f814",
   "metadata": {},
   "outputs": [
    {
     "data": {
      "text/html": [
       "<div>\n",
       "<style scoped>\n",
       "    .dataframe tbody tr th:only-of-type {\n",
       "        vertical-align: middle;\n",
       "    }\n",
       "\n",
       "    .dataframe tbody tr th {\n",
       "        vertical-align: top;\n",
       "    }\n",
       "\n",
       "    .dataframe thead th {\n",
       "        text-align: right;\n",
       "    }\n",
       "</style>\n",
       "<table border=\"1\" class=\"dataframe\">\n",
       "  <thead>\n",
       "    <tr style=\"text-align: right;\">\n",
       "      <th></th>\n",
       "      <th>id_prod</th>\n",
       "      <th>date</th>\n",
       "      <th>session_id</th>\n",
       "      <th>client_id</th>\n",
       "      <th>sex</th>\n",
       "      <th>birth</th>\n",
       "    </tr>\n",
       "  </thead>\n",
       "  <tbody>\n",
       "    <tr>\n",
       "      <th>0</th>\n",
       "      <td>0_1316</td>\n",
       "      <td>2021-12-29 09:11:18.860592</td>\n",
       "      <td>s_141762</td>\n",
       "      <td>c_4410</td>\n",
       "      <td>f</td>\n",
       "      <td>1967</td>\n",
       "    </tr>\n",
       "    <tr>\n",
       "      <th>1</th>\n",
       "      <td>1_385</td>\n",
       "      <td>2021-03-22 01:40:22.782925</td>\n",
       "      <td>s_9707</td>\n",
       "      <td>c_4410</td>\n",
       "      <td>f</td>\n",
       "      <td>1967</td>\n",
       "    </tr>\n",
       "    <tr>\n",
       "      <th>2</th>\n",
       "      <td>1_190</td>\n",
       "      <td>2021-11-12 18:11:43.280574</td>\n",
       "      <td>s_118628</td>\n",
       "      <td>c_4410</td>\n",
       "      <td>f</td>\n",
       "      <td>1967</td>\n",
       "    </tr>\n",
       "    <tr>\n",
       "      <th>3</th>\n",
       "      <td>0_1455</td>\n",
       "      <td>2021-03-22 14:29:25.189266</td>\n",
       "      <td>s_9942</td>\n",
       "      <td>c_4410</td>\n",
       "      <td>f</td>\n",
       "      <td>1967</td>\n",
       "    </tr>\n",
       "    <tr>\n",
       "      <th>4</th>\n",
       "      <td>1_483</td>\n",
       "      <td>2022-03-13 21:35:55.949042</td>\n",
       "      <td>s_178686</td>\n",
       "      <td>c_4410</td>\n",
       "      <td>f</td>\n",
       "      <td>1967</td>\n",
       "    </tr>\n",
       "  </tbody>\n",
       "</table>\n",
       "</div>"
      ],
      "text/plain": [
       "  id_prod                        date session_id client_id sex  birth\n",
       "0  0_1316  2021-12-29 09:11:18.860592   s_141762    c_4410   f   1967\n",
       "1   1_385  2021-03-22 01:40:22.782925     s_9707    c_4410   f   1967\n",
       "2   1_190  2021-11-12 18:11:43.280574   s_118628    c_4410   f   1967\n",
       "3  0_1455  2021-03-22 14:29:25.189266     s_9942    c_4410   f   1967\n",
       "4   1_483  2022-03-13 21:35:55.949042   s_178686    c_4410   f   1967"
      ]
     },
     "execution_count": 32,
     "metadata": {},
     "output_type": "execute_result"
    }
   ],
   "source": [
    "# faire une joitures right entre le df transactions et clients pour vérifier la concordance \n",
    "# entre la colonne clé primaire des 2 df\n",
    "join_cli_right=transactions.merge(clients,on='client_id', how='right')\n",
    "join_cli_right.head()"
   ]
  },
  {
   "cell_type": "code",
   "execution_count": 33,
   "id": "a7cbb217",
   "metadata": {},
   "outputs": [
    {
     "data": {
      "text/plain": [
       "id_prod       21\n",
       "date          21\n",
       "session_id    21\n",
       "client_id      0\n",
       "sex            0\n",
       "birth          0\n",
       "dtype: int64"
      ]
     },
     "execution_count": 33,
     "metadata": {},
     "output_type": "execute_result"
    }
   ],
   "source": [
    "# Vérifier les valeurs nulles\n",
    "join_cli_right.isnull().sum()"
   ]
  },
  {
   "cell_type": "markdown",
   "id": "9e207fc0",
   "metadata": {},
   "source": [
    "#####  Liste de 21 clients qui n'ont fait aucun achat en ligne "
   ]
  },
  {
   "cell_type": "code",
   "execution_count": 34,
   "id": "d2c60b77",
   "metadata": {},
   "outputs": [
    {
     "data": {
      "text/html": [
       "<div>\n",
       "<style scoped>\n",
       "    .dataframe tbody tr th:only-of-type {\n",
       "        vertical-align: middle;\n",
       "    }\n",
       "\n",
       "    .dataframe tbody tr th {\n",
       "        vertical-align: top;\n",
       "    }\n",
       "\n",
       "    .dataframe thead th {\n",
       "        text-align: right;\n",
       "    }\n",
       "</style>\n",
       "<table border=\"1\" class=\"dataframe\">\n",
       "  <thead>\n",
       "    <tr style=\"text-align: right;\">\n",
       "      <th></th>\n",
       "      <th>id_prod</th>\n",
       "      <th>date</th>\n",
       "      <th>session_id</th>\n",
       "      <th>client_id</th>\n",
       "      <th>sex</th>\n",
       "      <th>birth</th>\n",
       "    </tr>\n",
       "  </thead>\n",
       "  <tbody>\n",
       "    <tr>\n",
       "      <th>59493</th>\n",
       "      <td>NaN</td>\n",
       "      <td>NaN</td>\n",
       "      <td>NaN</td>\n",
       "      <td>c_8253</td>\n",
       "      <td>f</td>\n",
       "      <td>2001</td>\n",
       "    </tr>\n",
       "    <tr>\n",
       "      <th>200286</th>\n",
       "      <td>NaN</td>\n",
       "      <td>NaN</td>\n",
       "      <td>NaN</td>\n",
       "      <td>c_3789</td>\n",
       "      <td>f</td>\n",
       "      <td>1997</td>\n",
       "    </tr>\n",
       "    <tr>\n",
       "      <th>218173</th>\n",
       "      <td>NaN</td>\n",
       "      <td>NaN</td>\n",
       "      <td>NaN</td>\n",
       "      <td>c_4406</td>\n",
       "      <td>f</td>\n",
       "      <td>1998</td>\n",
       "    </tr>\n",
       "    <tr>\n",
       "      <th>220388</th>\n",
       "      <td>NaN</td>\n",
       "      <td>NaN</td>\n",
       "      <td>NaN</td>\n",
       "      <td>c_2706</td>\n",
       "      <td>f</td>\n",
       "      <td>1967</td>\n",
       "    </tr>\n",
       "    <tr>\n",
       "      <th>225538</th>\n",
       "      <td>NaN</td>\n",
       "      <td>NaN</td>\n",
       "      <td>NaN</td>\n",
       "      <td>c_3443</td>\n",
       "      <td>m</td>\n",
       "      <td>1959</td>\n",
       "    </tr>\n",
       "  </tbody>\n",
       "</table>\n",
       "</div>"
      ],
      "text/plain": [
       "       id_prod date session_id client_id sex  birth\n",
       "59493      NaN  NaN        NaN    c_8253   f   2001\n",
       "200286     NaN  NaN        NaN    c_3789   f   1997\n",
       "218173     NaN  NaN        NaN    c_4406   f   1998\n",
       "220388     NaN  NaN        NaN    c_2706   f   1967\n",
       "225538     NaN  NaN        NaN    c_3443   m   1959"
      ]
     },
     "execution_count": 34,
     "metadata": {},
     "output_type": "execute_result"
    }
   ],
   "source": [
    "# Afficher les lignes avec les valeurs nulles\n",
    "val_manquantes_clients = join_cli_right[join_cli_right.isna().any(axis=1)]\n",
    "val_manquantes_clients.head()"
   ]
  },
  {
   "cell_type": "markdown",
   "id": "59ebe0c9",
   "metadata": {},
   "source": [
    "##### REFERENCES PRODUITS "
   ]
  },
  {
   "cell_type": "markdown",
   "id": "56560b18",
   "metadata": {},
   "source": [
    "###### JOINTURE 'LEFT'"
   ]
  },
  {
   "cell_type": "code",
   "execution_count": 35,
   "id": "cdbd30ae",
   "metadata": {},
   "outputs": [
    {
     "data": {
      "text/html": [
       "<div>\n",
       "<style scoped>\n",
       "    .dataframe tbody tr th:only-of-type {\n",
       "        vertical-align: middle;\n",
       "    }\n",
       "\n",
       "    .dataframe tbody tr th {\n",
       "        vertical-align: top;\n",
       "    }\n",
       "\n",
       "    .dataframe thead th {\n",
       "        text-align: right;\n",
       "    }\n",
       "</style>\n",
       "<table border=\"1\" class=\"dataframe\">\n",
       "  <thead>\n",
       "    <tr style=\"text-align: right;\">\n",
       "      <th></th>\n",
       "      <th>id_prod</th>\n",
       "      <th>date</th>\n",
       "      <th>session_id</th>\n",
       "      <th>client_id</th>\n",
       "      <th>price</th>\n",
       "      <th>categ</th>\n",
       "    </tr>\n",
       "  </thead>\n",
       "  <tbody>\n",
       "    <tr>\n",
       "      <th>679327</th>\n",
       "      <td>0_1551</td>\n",
       "      <td>2022-01-15 13:05:06.246925</td>\n",
       "      <td>s_150195</td>\n",
       "      <td>c_8489</td>\n",
       "      <td>12.99</td>\n",
       "      <td>0</td>\n",
       "    </tr>\n",
       "    <tr>\n",
       "      <th>679328</th>\n",
       "      <td>1_639</td>\n",
       "      <td>2022-03-19 16:03:23.429229</td>\n",
       "      <td>s_181434</td>\n",
       "      <td>c_4370</td>\n",
       "      <td>10.99</td>\n",
       "      <td>1</td>\n",
       "    </tr>\n",
       "    <tr>\n",
       "      <th>679329</th>\n",
       "      <td>0_1425</td>\n",
       "      <td>2022-12-20 04:33:37.584749</td>\n",
       "      <td>s_314704</td>\n",
       "      <td>c_304</td>\n",
       "      <td>12.99</td>\n",
       "      <td>0</td>\n",
       "    </tr>\n",
       "    <tr>\n",
       "      <th>679330</th>\n",
       "      <td>0_1994</td>\n",
       "      <td>2021-07-16 20:36:35.350579</td>\n",
       "      <td>s_63204</td>\n",
       "      <td>c_2227</td>\n",
       "      <td>4.98</td>\n",
       "      <td>0</td>\n",
       "    </tr>\n",
       "    <tr>\n",
       "      <th>679331</th>\n",
       "      <td>1_523</td>\n",
       "      <td>2022-09-28 01:12:01.973763</td>\n",
       "      <td>s_274568</td>\n",
       "      <td>c_3873</td>\n",
       "      <td>23.99</td>\n",
       "      <td>1</td>\n",
       "    </tr>\n",
       "  </tbody>\n",
       "</table>\n",
       "</div>"
      ],
      "text/plain": [
       "       id_prod                        date session_id client_id  price categ\n",
       "679327  0_1551  2022-01-15 13:05:06.246925   s_150195    c_8489  12.99     0\n",
       "679328   1_639  2022-03-19 16:03:23.429229   s_181434    c_4370  10.99     1\n",
       "679329  0_1425  2022-12-20 04:33:37.584749   s_314704     c_304  12.99     0\n",
       "679330  0_1994  2021-07-16 20:36:35.350579    s_63204    c_2227   4.98     0\n",
       "679331   1_523  2022-09-28 01:12:01.973763   s_274568    c_3873  23.99     1"
      ]
     },
     "execution_count": 35,
     "metadata": {},
     "output_type": "execute_result"
    }
   ],
   "source": [
    "# faire une joitures left entre le df 'transactions' et 'produits' pour vérifier la concordance \n",
    "# entre la colonne clé primaire des 2 df\n",
    "join_prod_left=transactions.merge(produits,on='id_prod', how='left')\n",
    "join_prod_left.tail()"
   ]
  },
  {
   "cell_type": "code",
   "execution_count": 36,
   "id": "1d4c5da3",
   "metadata": {
    "scrolled": true
   },
   "outputs": [
    {
     "data": {
      "text/plain": [
       "id_prod         0\n",
       "date            0\n",
       "session_id      0\n",
       "client_id       0\n",
       "price         221\n",
       "categ         221\n",
       "dtype: int64"
      ]
     },
     "execution_count": 36,
     "metadata": {},
     "output_type": "execute_result"
    }
   ],
   "source": [
    "# vérification des valeurs nulles\n",
    "join_prod_left.isnull().sum()"
   ]
  },
  {
   "cell_type": "markdown",
   "id": "4aa72f62",
   "metadata": {},
   "source": [
    "##### 221 achats du produit 0_2245  dont on ne connait ni le prix ni la catégorie"
   ]
  },
  {
   "cell_type": "code",
   "execution_count": 37,
   "id": "5cb2987a",
   "metadata": {
    "scrolled": false
   },
   "outputs": [
    {
     "data": {
      "text/html": [
       "<div>\n",
       "<style scoped>\n",
       "    .dataframe tbody tr th:only-of-type {\n",
       "        vertical-align: middle;\n",
       "    }\n",
       "\n",
       "    .dataframe tbody tr th {\n",
       "        vertical-align: top;\n",
       "    }\n",
       "\n",
       "    .dataframe thead th {\n",
       "        text-align: right;\n",
       "    }\n",
       "</style>\n",
       "<table border=\"1\" class=\"dataframe\">\n",
       "  <thead>\n",
       "    <tr style=\"text-align: right;\">\n",
       "      <th></th>\n",
       "      <th>id_prod</th>\n",
       "      <th>date</th>\n",
       "      <th>session_id</th>\n",
       "      <th>client_id</th>\n",
       "      <th>price</th>\n",
       "      <th>categ</th>\n",
       "    </tr>\n",
       "  </thead>\n",
       "  <tbody>\n",
       "    <tr>\n",
       "      <th>2633</th>\n",
       "      <td>0_2245</td>\n",
       "      <td>2022-09-23 07:22:38.636773</td>\n",
       "      <td>s_272266</td>\n",
       "      <td>c_4746</td>\n",
       "      <td>NaN</td>\n",
       "      <td>NaN</td>\n",
       "    </tr>\n",
       "    <tr>\n",
       "      <th>10103</th>\n",
       "      <td>0_2245</td>\n",
       "      <td>2022-07-23 09:24:14.133889</td>\n",
       "      <td>s_242482</td>\n",
       "      <td>c_6713</td>\n",
       "      <td>NaN</td>\n",
       "      <td>NaN</td>\n",
       "    </tr>\n",
       "    <tr>\n",
       "      <th>11723</th>\n",
       "      <td>0_2245</td>\n",
       "      <td>2022-12-03 03:26:35.696673</td>\n",
       "      <td>s_306338</td>\n",
       "      <td>c_5108</td>\n",
       "      <td>NaN</td>\n",
       "      <td>NaN</td>\n",
       "    </tr>\n",
       "    <tr>\n",
       "      <th>15670</th>\n",
       "      <td>0_2245</td>\n",
       "      <td>2021-08-16 11:33:25.481411</td>\n",
       "      <td>s_76493</td>\n",
       "      <td>c_1391</td>\n",
       "      <td>NaN</td>\n",
       "      <td>NaN</td>\n",
       "    </tr>\n",
       "    <tr>\n",
       "      <th>16372</th>\n",
       "      <td>0_2245</td>\n",
       "      <td>2022-07-16 05:53:01.627491</td>\n",
       "      <td>s_239078</td>\n",
       "      <td>c_7954</td>\n",
       "      <td>NaN</td>\n",
       "      <td>NaN</td>\n",
       "    </tr>\n",
       "  </tbody>\n",
       "</table>\n",
       "</div>"
      ],
      "text/plain": [
       "      id_prod                        date session_id client_id  price categ\n",
       "2633   0_2245  2022-09-23 07:22:38.636773   s_272266    c_4746    NaN   NaN\n",
       "10103  0_2245  2022-07-23 09:24:14.133889   s_242482    c_6713    NaN   NaN\n",
       "11723  0_2245  2022-12-03 03:26:35.696673   s_306338    c_5108    NaN   NaN\n",
       "15670  0_2245  2021-08-16 11:33:25.481411    s_76493    c_1391    NaN   NaN\n",
       "16372  0_2245  2022-07-16 05:53:01.627491   s_239078    c_7954    NaN   NaN"
      ]
     },
     "execution_count": 37,
     "metadata": {},
     "output_type": "execute_result"
    }
   ],
   "source": [
    "# Afficher les lignes avec les valeurs nulles\n",
    "val_manquantes = join_prod_left[join_prod_left.isna().any(axis=1)]\n",
    "val_manquantes.head()"
   ]
  },
  {
   "cell_type": "code",
   "execution_count": 38,
   "id": "146cb15e",
   "metadata": {},
   "outputs": [
    {
     "data": {
      "text/plain": [
       "array(['0_2245'], dtype=object)"
      ]
     },
     "execution_count": 38,
     "metadata": {},
     "output_type": "execute_result"
    }
   ],
   "source": [
    "# vérification des références id_prod uniques\n",
    "val_manquantes['id_prod'].unique()"
   ]
  },
  {
   "cell_type": "markdown",
   "id": "cd061862",
   "metadata": {},
   "source": [
    "##### JOINTURE 'RIGHT'"
   ]
  },
  {
   "cell_type": "code",
   "execution_count": 39,
   "id": "8725e7d5",
   "metadata": {
    "scrolled": true
   },
   "outputs": [
    {
     "data": {
      "text/html": [
       "<div>\n",
       "<style scoped>\n",
       "    .dataframe tbody tr th:only-of-type {\n",
       "        vertical-align: middle;\n",
       "    }\n",
       "\n",
       "    .dataframe tbody tr th {\n",
       "        vertical-align: top;\n",
       "    }\n",
       "\n",
       "    .dataframe thead th {\n",
       "        text-align: right;\n",
       "    }\n",
       "</style>\n",
       "<table border=\"1\" class=\"dataframe\">\n",
       "  <thead>\n",
       "    <tr style=\"text-align: right;\">\n",
       "      <th></th>\n",
       "      <th>id_prod</th>\n",
       "      <th>date</th>\n",
       "      <th>session_id</th>\n",
       "      <th>client_id</th>\n",
       "      <th>price</th>\n",
       "      <th>categ</th>\n",
       "    </tr>\n",
       "  </thead>\n",
       "  <tbody>\n",
       "    <tr>\n",
       "      <th>0</th>\n",
       "      <td>0_1421</td>\n",
       "      <td>2022-02-20 17:04:37.204937</td>\n",
       "      <td>s_168213</td>\n",
       "      <td>c_6389</td>\n",
       "      <td>19.99</td>\n",
       "      <td>0</td>\n",
       "    </tr>\n",
       "    <tr>\n",
       "      <th>1</th>\n",
       "      <td>0_1421</td>\n",
       "      <td>2022-11-19 03:42:20.707442</td>\n",
       "      <td>s_299590</td>\n",
       "      <td>c_8364</td>\n",
       "      <td>19.99</td>\n",
       "      <td>0</td>\n",
       "    </tr>\n",
       "    <tr>\n",
       "      <th>2</th>\n",
       "      <td>0_1421</td>\n",
       "      <td>2021-09-19 14:58:46.726179</td>\n",
       "      <td>s_92304</td>\n",
       "      <td>c_3544</td>\n",
       "      <td>19.99</td>\n",
       "      <td>0</td>\n",
       "    </tr>\n",
       "    <tr>\n",
       "      <th>3</th>\n",
       "      <td>0_1421</td>\n",
       "      <td>2023-01-11 16:04:24.367855</td>\n",
       "      <td>s_325369</td>\n",
       "      <td>c_1025</td>\n",
       "      <td>19.99</td>\n",
       "      <td>0</td>\n",
       "    </tr>\n",
       "    <tr>\n",
       "      <th>4</th>\n",
       "      <td>0_1421</td>\n",
       "      <td>2021-08-01 19:33:18.877168</td>\n",
       "      <td>s_70071</td>\n",
       "      <td>c_2298</td>\n",
       "      <td>19.99</td>\n",
       "      <td>0</td>\n",
       "    </tr>\n",
       "  </tbody>\n",
       "</table>\n",
       "</div>"
      ],
      "text/plain": [
       "  id_prod                        date session_id client_id  price categ\n",
       "0  0_1421  2022-02-20 17:04:37.204937   s_168213    c_6389  19.99     0\n",
       "1  0_1421  2022-11-19 03:42:20.707442   s_299590    c_8364  19.99     0\n",
       "2  0_1421  2021-09-19 14:58:46.726179    s_92304    c_3544  19.99     0\n",
       "3  0_1421  2023-01-11 16:04:24.367855   s_325369    c_1025  19.99     0\n",
       "4  0_1421  2021-08-01 19:33:18.877168    s_70071    c_2298  19.99     0"
      ]
     },
     "execution_count": 39,
     "metadata": {},
     "output_type": "execute_result"
    }
   ],
   "source": [
    "# faire une joitures left entre le df transactions et produits pour vérifier la concordance \n",
    "# entre la colonne clé primaire des 2 df\n",
    "join_prod_right=transactions.merge(produits,on='id_prod', how='right')\n",
    "join_prod_right.head()"
   ]
  },
  {
   "cell_type": "code",
   "execution_count": 40,
   "id": "23284647",
   "metadata": {},
   "outputs": [
    {
     "data": {
      "text/plain": [
       "id_prod        0\n",
       "date          21\n",
       "session_id    21\n",
       "client_id     21\n",
       "price          0\n",
       "categ          0\n",
       "dtype: int64"
      ]
     },
     "execution_count": 40,
     "metadata": {},
     "output_type": "execute_result"
    }
   ],
   "source": [
    "# vérification des valeurs nulles\n",
    "join_prod_right.isnull().sum()"
   ]
  },
  {
   "cell_type": "markdown",
   "id": "28a7acf9",
   "metadata": {},
   "source": [
    "##### Liste de 21 produits qui n'ont fait objet d'aucune commande "
   ]
  },
  {
   "cell_type": "code",
   "execution_count": 41,
   "id": "d44cf666",
   "metadata": {
    "scrolled": true
   },
   "outputs": [
    {
     "data": {
      "text/html": [
       "<div>\n",
       "<style scoped>\n",
       "    .dataframe tbody tr th:only-of-type {\n",
       "        vertical-align: middle;\n",
       "    }\n",
       "\n",
       "    .dataframe tbody tr th {\n",
       "        vertical-align: top;\n",
       "    }\n",
       "\n",
       "    .dataframe thead th {\n",
       "        text-align: right;\n",
       "    }\n",
       "</style>\n",
       "<table border=\"1\" class=\"dataframe\">\n",
       "  <thead>\n",
       "    <tr style=\"text-align: right;\">\n",
       "      <th></th>\n",
       "      <th>id_prod</th>\n",
       "      <th>date</th>\n",
       "      <th>session_id</th>\n",
       "      <th>client_id</th>\n",
       "      <th>price</th>\n",
       "      <th>categ</th>\n",
       "    </tr>\n",
       "  </thead>\n",
       "  <tbody>\n",
       "    <tr>\n",
       "      <th>39705</th>\n",
       "      <td>0_1016</td>\n",
       "      <td>NaN</td>\n",
       "      <td>NaN</td>\n",
       "      <td>NaN</td>\n",
       "      <td>35.06</td>\n",
       "      <td>0</td>\n",
       "    </tr>\n",
       "    <tr>\n",
       "      <th>62805</th>\n",
       "      <td>0_1780</td>\n",
       "      <td>NaN</td>\n",
       "      <td>NaN</td>\n",
       "      <td>NaN</td>\n",
       "      <td>1.67</td>\n",
       "      <td>0</td>\n",
       "    </tr>\n",
       "    <tr>\n",
       "      <th>162765</th>\n",
       "      <td>0_1062</td>\n",
       "      <td>NaN</td>\n",
       "      <td>NaN</td>\n",
       "      <td>NaN</td>\n",
       "      <td>20.08</td>\n",
       "      <td>0</td>\n",
       "    </tr>\n",
       "    <tr>\n",
       "      <th>177522</th>\n",
       "      <td>0_1119</td>\n",
       "      <td>NaN</td>\n",
       "      <td>NaN</td>\n",
       "      <td>NaN</td>\n",
       "      <td>2.99</td>\n",
       "      <td>0</td>\n",
       "    </tr>\n",
       "    <tr>\n",
       "      <th>181172</th>\n",
       "      <td>0_1014</td>\n",
       "      <td>NaN</td>\n",
       "      <td>NaN</td>\n",
       "      <td>NaN</td>\n",
       "      <td>1.15</td>\n",
       "      <td>0</td>\n",
       "    </tr>\n",
       "  </tbody>\n",
       "</table>\n",
       "</div>"
      ],
      "text/plain": [
       "       id_prod date session_id client_id  price categ\n",
       "39705   0_1016  NaN        NaN       NaN  35.06     0\n",
       "62805   0_1780  NaN        NaN       NaN   1.67     0\n",
       "162765  0_1062  NaN        NaN       NaN  20.08     0\n",
       "177522  0_1119  NaN        NaN       NaN   2.99     0\n",
       "181172  0_1014  NaN        NaN       NaN   1.15     0"
      ]
     },
     "execution_count": 41,
     "metadata": {},
     "output_type": "execute_result"
    }
   ],
   "source": [
    "# Afficher les lignes avec les valeurs nulles\n",
    "val_manquantes_prod = join_prod_right[join_prod_right.isna().any(axis=1)]\n",
    "val_manquantes_prod.head()"
   ]
  },
  {
   "cell_type": "markdown",
   "id": "f13dbafe",
   "metadata": {},
   "source": [
    "##### Informations : \n",
    "\n",
    "- 200 valeurs aberrantes test (ex: test_2021-03-01 02:30:02.237413) supprimées de la colonne [date]\n",
    "- Nombre de lignes =   679332 \n",
    "- Valeurs uniques: colonne id_pro = 3266   colonne clien_id = 8600\n",
    "- Type des données de la colonne 'date' est au format 'object', elle sera convertie en datetime après avoir effectué les jointures\n",
    "- Pas de doublons\n",
    "- Aucune valeur nulle\n",
    "- 21 clients présents dans le dataset 'customers' n'ont fait aucun achat sur toute cette periode\n",
    "- 221 achats du produit 0_2245  dont on ne connait ni le prix ni la catégorie\n",
    "- 21 produits qui n'ont fait objet d'aucune commande sur tooute cette période"
   ]
  },
  {
   "cell_type": "markdown",
   "id": "ad704070",
   "metadata": {},
   "source": [
    "-----\n",
    "-----\n",
    "### 5. JOINTURES ENTRE LES 3 DATASETS POUR ANALYSE\n",
    "-----\n",
    "-----\n",
    "##### Démarche :\n",
    "   - Effectuer une jointure interne entre les dataframe 'transactions' et 'clients'  ====> join1\n",
    "   - Effectuer une jointure interne entre les dataframe join1 et produits  ====> join2\n",
    "   - Création de 3 nouvelles colonnes [jour], [mois], [année]\n",
    "   "
   ]
  },
  {
   "cell_type": "markdown",
   "id": "782dcfc4",
   "metadata": {},
   "source": [
    "### Jointure 'inner' entre les 2 dataset 'transactions' et 'clients'"
   ]
  },
  {
   "cell_type": "code",
   "execution_count": 42,
   "id": "441b5850",
   "metadata": {},
   "outputs": [
    {
     "data": {
      "text/html": [
       "<div>\n",
       "<style scoped>\n",
       "    .dataframe tbody tr th:only-of-type {\n",
       "        vertical-align: middle;\n",
       "    }\n",
       "\n",
       "    .dataframe tbody tr th {\n",
       "        vertical-align: top;\n",
       "    }\n",
       "\n",
       "    .dataframe thead th {\n",
       "        text-align: right;\n",
       "    }\n",
       "</style>\n",
       "<table border=\"1\" class=\"dataframe\">\n",
       "  <thead>\n",
       "    <tr style=\"text-align: right;\">\n",
       "      <th></th>\n",
       "      <th>id_prod</th>\n",
       "      <th>date</th>\n",
       "      <th>session_id</th>\n",
       "      <th>client_id</th>\n",
       "      <th>sex</th>\n",
       "      <th>birth</th>\n",
       "    </tr>\n",
       "  </thead>\n",
       "  <tbody>\n",
       "    <tr>\n",
       "      <th>0</th>\n",
       "      <td>0_1518</td>\n",
       "      <td>2022-05-20 13:21:29.043970</td>\n",
       "      <td>s_211425</td>\n",
       "      <td>c_103</td>\n",
       "      <td>f</td>\n",
       "      <td>1986</td>\n",
       "    </tr>\n",
       "    <tr>\n",
       "      <th>1</th>\n",
       "      <td>0_1627</td>\n",
       "      <td>2022-06-18 05:55:31.816994</td>\n",
       "      <td>s_225494</td>\n",
       "      <td>c_103</td>\n",
       "      <td>f</td>\n",
       "      <td>1986</td>\n",
       "    </tr>\n",
       "    <tr>\n",
       "      <th>2</th>\n",
       "      <td>0_1104</td>\n",
       "      <td>2023-02-08 17:31:06.898425</td>\n",
       "      <td>s_338755</td>\n",
       "      <td>c_103</td>\n",
       "      <td>f</td>\n",
       "      <td>1986</td>\n",
       "    </tr>\n",
       "    <tr>\n",
       "      <th>3</th>\n",
       "      <td>0_1390</td>\n",
       "      <td>2021-04-20 06:18:39.939761</td>\n",
       "      <td>s_23078</td>\n",
       "      <td>c_103</td>\n",
       "      <td>f</td>\n",
       "      <td>1986</td>\n",
       "    </tr>\n",
       "    <tr>\n",
       "      <th>4</th>\n",
       "      <td>0_1547</td>\n",
       "      <td>2022-03-15 19:54:53.904123</td>\n",
       "      <td>s_179629</td>\n",
       "      <td>c_103</td>\n",
       "      <td>f</td>\n",
       "      <td>1986</td>\n",
       "    </tr>\n",
       "  </tbody>\n",
       "</table>\n",
       "</div>"
      ],
      "text/plain": [
       "  id_prod                        date session_id client_id sex  birth\n",
       "0  0_1518  2022-05-20 13:21:29.043970   s_211425     c_103   f   1986\n",
       "1  0_1627  2022-06-18 05:55:31.816994   s_225494     c_103   f   1986\n",
       "2  0_1104  2023-02-08 17:31:06.898425   s_338755     c_103   f   1986\n",
       "3  0_1390  2021-04-20 06:18:39.939761    s_23078     c_103   f   1986\n",
       "4  0_1547  2022-03-15 19:54:53.904123   s_179629     c_103   f   1986"
      ]
     },
     "execution_count": 42,
     "metadata": {},
     "output_type": "execute_result"
    }
   ],
   "source": [
    "# faire une jointure 'inner' entre df transactions et clients \n",
    "join1=transactions.merge(clients,on='client_id', how='inner')\n",
    "join1.head()"
   ]
  },
  {
   "cell_type": "markdown",
   "id": "a7b9af51",
   "metadata": {},
   "source": [
    "### Jointure entre dataframe 'join1' et 'produits'"
   ]
  },
  {
   "cell_type": "code",
   "execution_count": 43,
   "id": "bed21c20",
   "metadata": {
    "scrolled": false
   },
   "outputs": [
    {
     "data": {
      "text/html": [
       "<div>\n",
       "<style scoped>\n",
       "    .dataframe tbody tr th:only-of-type {\n",
       "        vertical-align: middle;\n",
       "    }\n",
       "\n",
       "    .dataframe tbody tr th {\n",
       "        vertical-align: top;\n",
       "    }\n",
       "\n",
       "    .dataframe thead th {\n",
       "        text-align: right;\n",
       "    }\n",
       "</style>\n",
       "<table border=\"1\" class=\"dataframe\">\n",
       "  <thead>\n",
       "    <tr style=\"text-align: right;\">\n",
       "      <th></th>\n",
       "      <th>id_prod</th>\n",
       "      <th>date</th>\n",
       "      <th>session_id</th>\n",
       "      <th>client_id</th>\n",
       "      <th>sex</th>\n",
       "      <th>birth</th>\n",
       "      <th>price</th>\n",
       "      <th>categ</th>\n",
       "    </tr>\n",
       "  </thead>\n",
       "  <tbody>\n",
       "    <tr>\n",
       "      <th>0</th>\n",
       "      <td>0_1518</td>\n",
       "      <td>2022-05-20 13:21:29.043970</td>\n",
       "      <td>s_211425</td>\n",
       "      <td>c_103</td>\n",
       "      <td>f</td>\n",
       "      <td>1986</td>\n",
       "      <td>4.18</td>\n",
       "      <td>0</td>\n",
       "    </tr>\n",
       "    <tr>\n",
       "      <th>1</th>\n",
       "      <td>0_1518</td>\n",
       "      <td>2021-07-20 13:21:29.043970</td>\n",
       "      <td>s_64849</td>\n",
       "      <td>c_103</td>\n",
       "      <td>f</td>\n",
       "      <td>1986</td>\n",
       "      <td>4.18</td>\n",
       "      <td>0</td>\n",
       "    </tr>\n",
       "    <tr>\n",
       "      <th>2</th>\n",
       "      <td>0_1518</td>\n",
       "      <td>2022-08-20 13:21:29.043970</td>\n",
       "      <td>s_255965</td>\n",
       "      <td>c_103</td>\n",
       "      <td>f</td>\n",
       "      <td>1986</td>\n",
       "      <td>4.18</td>\n",
       "      <td>0</td>\n",
       "    </tr>\n",
       "    <tr>\n",
       "      <th>3</th>\n",
       "      <td>0_1518</td>\n",
       "      <td>2021-05-09 11:52:55.100386</td>\n",
       "      <td>s_32104</td>\n",
       "      <td>c_6714</td>\n",
       "      <td>f</td>\n",
       "      <td>1968</td>\n",
       "      <td>4.18</td>\n",
       "      <td>0</td>\n",
       "    </tr>\n",
       "    <tr>\n",
       "      <th>4</th>\n",
       "      <td>0_1518</td>\n",
       "      <td>2022-05-30 01:17:07.487046</td>\n",
       "      <td>s_216118</td>\n",
       "      <td>c_6714</td>\n",
       "      <td>f</td>\n",
       "      <td>1968</td>\n",
       "      <td>4.18</td>\n",
       "      <td>0</td>\n",
       "    </tr>\n",
       "  </tbody>\n",
       "</table>\n",
       "</div>"
      ],
      "text/plain": [
       "  id_prod                        date session_id client_id sex  birth  price  \\\n",
       "0  0_1518  2022-05-20 13:21:29.043970   s_211425     c_103   f   1986   4.18   \n",
       "1  0_1518  2021-07-20 13:21:29.043970    s_64849     c_103   f   1986   4.18   \n",
       "2  0_1518  2022-08-20 13:21:29.043970   s_255965     c_103   f   1986   4.18   \n",
       "3  0_1518  2021-05-09 11:52:55.100386    s_32104    c_6714   f   1968   4.18   \n",
       "4  0_1518  2022-05-30 01:17:07.487046   s_216118    c_6714   f   1968   4.18   \n",
       "\n",
       "  categ  \n",
       "0     0  \n",
       "1     0  \n",
       "2     0  \n",
       "3     0  \n",
       "4     0  "
      ]
     },
     "execution_count": 43,
     "metadata": {},
     "output_type": "execute_result"
    }
   ],
   "source": [
    "# faire une jointure entre join1 et produits\n",
    "join2=join1.merge(produits,on='id_prod', how='inner')\n",
    "join2.head()"
   ]
  },
  {
   "cell_type": "code",
   "execution_count": 44,
   "id": "1a039c3e",
   "metadata": {
    "scrolled": false
   },
   "outputs": [
    {
     "name": "stdout",
     "output_type": "stream",
     "text": [
      "       id_prod                        date session_id client_id     sex  \\\n",
      "count   679111                      679111     679111    679111  679111   \n",
      "unique    3265                      679111     342275      8600       2   \n",
      "top      1_369  2021-10-18 00:27:45.786963   s_118668    c_1609       m   \n",
      "freq      2252                           1         14     25488  340826   \n",
      "mean       NaN                         NaN        NaN       NaN     NaN   \n",
      "std        NaN                         NaN        NaN       NaN     NaN   \n",
      "min        NaN                         NaN        NaN       NaN     NaN   \n",
      "25%        NaN                         NaN        NaN       NaN     NaN   \n",
      "50%        NaN                         NaN        NaN       NaN     NaN   \n",
      "75%        NaN                         NaN        NaN       NaN     NaN   \n",
      "max        NaN                         NaN        NaN       NaN     NaN   \n",
      "\n",
      "                birth          price     categ  \n",
      "count   679111.000000  679111.000000  679111.0  \n",
      "unique            NaN            NaN       3.0  \n",
      "top               NaN            NaN       0.0  \n",
      "freq              NaN            NaN  415459.0  \n",
      "mean      1977.811149      17.454773       NaN  \n",
      "std         13.575361      18.328998       NaN  \n",
      "min       1929.000000       0.620000       NaN  \n",
      "25%       1970.000000       8.870000       NaN  \n",
      "50%       1980.000000      13.990000       NaN  \n",
      "75%       1987.000000      18.990000       NaN  \n",
      "max       2004.000000     300.000000       NaN  \n"
     ]
    }
   ],
   "source": [
    "# Vérifications des statistiques des colonnes\n",
    "print(join2.describe(include='all'))"
   ]
  },
  {
   "cell_type": "code",
   "execution_count": 45,
   "id": "18a80e97",
   "metadata": {
    "scrolled": true
   },
   "outputs": [
    {
     "data": {
      "text/html": [
       "<div>\n",
       "<style scoped>\n",
       "    .dataframe tbody tr th:only-of-type {\n",
       "        vertical-align: middle;\n",
       "    }\n",
       "\n",
       "    .dataframe tbody tr th {\n",
       "        vertical-align: top;\n",
       "    }\n",
       "\n",
       "    .dataframe thead th {\n",
       "        text-align: right;\n",
       "    }\n",
       "</style>\n",
       "<table border=\"1\" class=\"dataframe\">\n",
       "  <thead>\n",
       "    <tr style=\"text-align: right;\">\n",
       "      <th></th>\n",
       "      <th>id_prod</th>\n",
       "      <th>session_id</th>\n",
       "      <th>client_id</th>\n",
       "      <th>sex</th>\n",
       "      <th>birth</th>\n",
       "      <th>price</th>\n",
       "      <th>categ</th>\n",
       "    </tr>\n",
       "    <tr>\n",
       "      <th>date</th>\n",
       "      <th></th>\n",
       "      <th></th>\n",
       "      <th></th>\n",
       "      <th></th>\n",
       "      <th></th>\n",
       "      <th></th>\n",
       "      <th></th>\n",
       "    </tr>\n",
       "  </thead>\n",
       "  <tbody>\n",
       "    <tr>\n",
       "      <th>2022-05-20 13:21:29.043970</th>\n",
       "      <td>0_1518</td>\n",
       "      <td>s_211425</td>\n",
       "      <td>c_103</td>\n",
       "      <td>f</td>\n",
       "      <td>1986</td>\n",
       "      <td>4.18</td>\n",
       "      <td>0</td>\n",
       "    </tr>\n",
       "    <tr>\n",
       "      <th>2021-07-20 13:21:29.043970</th>\n",
       "      <td>0_1518</td>\n",
       "      <td>s_64849</td>\n",
       "      <td>c_103</td>\n",
       "      <td>f</td>\n",
       "      <td>1986</td>\n",
       "      <td>4.18</td>\n",
       "      <td>0</td>\n",
       "    </tr>\n",
       "    <tr>\n",
       "      <th>2022-08-20 13:21:29.043970</th>\n",
       "      <td>0_1518</td>\n",
       "      <td>s_255965</td>\n",
       "      <td>c_103</td>\n",
       "      <td>f</td>\n",
       "      <td>1986</td>\n",
       "      <td>4.18</td>\n",
       "      <td>0</td>\n",
       "    </tr>\n",
       "    <tr>\n",
       "      <th>2021-05-09 11:52:55.100386</th>\n",
       "      <td>0_1518</td>\n",
       "      <td>s_32104</td>\n",
       "      <td>c_6714</td>\n",
       "      <td>f</td>\n",
       "      <td>1968</td>\n",
       "      <td>4.18</td>\n",
       "      <td>0</td>\n",
       "    </tr>\n",
       "    <tr>\n",
       "      <th>2022-05-30 01:17:07.487046</th>\n",
       "      <td>0_1518</td>\n",
       "      <td>s_216118</td>\n",
       "      <td>c_6714</td>\n",
       "      <td>f</td>\n",
       "      <td>1968</td>\n",
       "      <td>4.18</td>\n",
       "      <td>0</td>\n",
       "    </tr>\n",
       "  </tbody>\n",
       "</table>\n",
       "</div>"
      ],
      "text/plain": [
       "                           id_prod session_id client_id sex  birth  price  \\\n",
       "date                                                                        \n",
       "2022-05-20 13:21:29.043970  0_1518   s_211425     c_103   f   1986   4.18   \n",
       "2021-07-20 13:21:29.043970  0_1518    s_64849     c_103   f   1986   4.18   \n",
       "2022-08-20 13:21:29.043970  0_1518   s_255965     c_103   f   1986   4.18   \n",
       "2021-05-09 11:52:55.100386  0_1518    s_32104    c_6714   f   1968   4.18   \n",
       "2022-05-30 01:17:07.487046  0_1518   s_216118    c_6714   f   1968   4.18   \n",
       "\n",
       "                           categ  \n",
       "date                              \n",
       "2022-05-20 13:21:29.043970     0  \n",
       "2021-07-20 13:21:29.043970     0  \n",
       "2022-08-20 13:21:29.043970     0  \n",
       "2021-05-09 11:52:55.100386     0  \n",
       "2022-05-30 01:17:07.487046     0  "
      ]
     },
     "execution_count": 45,
     "metadata": {},
     "output_type": "execute_result"
    }
   ],
   "source": [
    "# indexer la colonne date et conversion en datetime\n",
    "join2['date']=pd.to_datetime(join2['date'])\n",
    "join2=join2.set_index('date')\n",
    "join2.head()"
   ]
  },
  {
   "cell_type": "code",
   "execution_count": 46,
   "id": "4876bd49",
   "metadata": {
    "scrolled": false
   },
   "outputs": [
    {
     "data": {
      "text/html": [
       "<div>\n",
       "<style scoped>\n",
       "    .dataframe tbody tr th:only-of-type {\n",
       "        vertical-align: middle;\n",
       "    }\n",
       "\n",
       "    .dataframe tbody tr th {\n",
       "        vertical-align: top;\n",
       "    }\n",
       "\n",
       "    .dataframe thead th {\n",
       "        text-align: right;\n",
       "    }\n",
       "</style>\n",
       "<table border=\"1\" class=\"dataframe\">\n",
       "  <thead>\n",
       "    <tr style=\"text-align: right;\">\n",
       "      <th></th>\n",
       "      <th>id_prod</th>\n",
       "      <th>session_id</th>\n",
       "      <th>client_id</th>\n",
       "      <th>sex</th>\n",
       "      <th>birth</th>\n",
       "      <th>price</th>\n",
       "      <th>categ</th>\n",
       "      <th>année</th>\n",
       "      <th>mois</th>\n",
       "      <th>heure</th>\n",
       "      <th>jour</th>\n",
       "    </tr>\n",
       "    <tr>\n",
       "      <th>date</th>\n",
       "      <th></th>\n",
       "      <th></th>\n",
       "      <th></th>\n",
       "      <th></th>\n",
       "      <th></th>\n",
       "      <th></th>\n",
       "      <th></th>\n",
       "      <th></th>\n",
       "      <th></th>\n",
       "      <th></th>\n",
       "      <th></th>\n",
       "    </tr>\n",
       "  </thead>\n",
       "  <tbody>\n",
       "    <tr>\n",
       "      <th>2022-05-20 13:21:29.043970</th>\n",
       "      <td>0_1518</td>\n",
       "      <td>s_211425</td>\n",
       "      <td>c_103</td>\n",
       "      <td>f</td>\n",
       "      <td>1986</td>\n",
       "      <td>4.18</td>\n",
       "      <td>0</td>\n",
       "      <td>2022</td>\n",
       "      <td>5</td>\n",
       "      <td>13</td>\n",
       "      <td>Friday</td>\n",
       "    </tr>\n",
       "    <tr>\n",
       "      <th>2021-07-20 13:21:29.043970</th>\n",
       "      <td>0_1518</td>\n",
       "      <td>s_64849</td>\n",
       "      <td>c_103</td>\n",
       "      <td>f</td>\n",
       "      <td>1986</td>\n",
       "      <td>4.18</td>\n",
       "      <td>0</td>\n",
       "      <td>2021</td>\n",
       "      <td>7</td>\n",
       "      <td>13</td>\n",
       "      <td>Tuesday</td>\n",
       "    </tr>\n",
       "    <tr>\n",
       "      <th>2022-08-20 13:21:29.043970</th>\n",
       "      <td>0_1518</td>\n",
       "      <td>s_255965</td>\n",
       "      <td>c_103</td>\n",
       "      <td>f</td>\n",
       "      <td>1986</td>\n",
       "      <td>4.18</td>\n",
       "      <td>0</td>\n",
       "      <td>2022</td>\n",
       "      <td>8</td>\n",
       "      <td>13</td>\n",
       "      <td>Saturday</td>\n",
       "    </tr>\n",
       "    <tr>\n",
       "      <th>2021-05-09 11:52:55.100386</th>\n",
       "      <td>0_1518</td>\n",
       "      <td>s_32104</td>\n",
       "      <td>c_6714</td>\n",
       "      <td>f</td>\n",
       "      <td>1968</td>\n",
       "      <td>4.18</td>\n",
       "      <td>0</td>\n",
       "      <td>2021</td>\n",
       "      <td>5</td>\n",
       "      <td>11</td>\n",
       "      <td>Sunday</td>\n",
       "    </tr>\n",
       "    <tr>\n",
       "      <th>2022-05-30 01:17:07.487046</th>\n",
       "      <td>0_1518</td>\n",
       "      <td>s_216118</td>\n",
       "      <td>c_6714</td>\n",
       "      <td>f</td>\n",
       "      <td>1968</td>\n",
       "      <td>4.18</td>\n",
       "      <td>0</td>\n",
       "      <td>2022</td>\n",
       "      <td>5</td>\n",
       "      <td>1</td>\n",
       "      <td>Monday</td>\n",
       "    </tr>\n",
       "  </tbody>\n",
       "</table>\n",
       "</div>"
      ],
      "text/plain": [
       "                           id_prod session_id client_id sex  birth  price  \\\n",
       "date                                                                        \n",
       "2022-05-20 13:21:29.043970  0_1518   s_211425     c_103   f   1986   4.18   \n",
       "2021-07-20 13:21:29.043970  0_1518    s_64849     c_103   f   1986   4.18   \n",
       "2022-08-20 13:21:29.043970  0_1518   s_255965     c_103   f   1986   4.18   \n",
       "2021-05-09 11:52:55.100386  0_1518    s_32104    c_6714   f   1968   4.18   \n",
       "2022-05-30 01:17:07.487046  0_1518   s_216118    c_6714   f   1968   4.18   \n",
       "\n",
       "                           categ  année  mois  heure      jour  \n",
       "date                                                            \n",
       "2022-05-20 13:21:29.043970     0   2022     5     13    Friday  \n",
       "2021-07-20 13:21:29.043970     0   2021     7     13   Tuesday  \n",
       "2022-08-20 13:21:29.043970     0   2022     8     13  Saturday  \n",
       "2021-05-09 11:52:55.100386     0   2021     5     11    Sunday  \n",
       "2022-05-30 01:17:07.487046     0   2022     5      1    Monday  "
      ]
     },
     "execution_count": 46,
     "metadata": {},
     "output_type": "execute_result"
    }
   ],
   "source": [
    "# création des colonnes : année,mois,heure et jour\n",
    "join2['année']=join2.index.year\n",
    "join2['mois']=join2.index.month\n",
    "join2['heure']=join2.index.hour\n",
    "join2['jour']=join2.index.day_name()\n",
    "join2.head()"
   ]
  },
  {
   "cell_type": "code",
   "execution_count": 47,
   "id": "8a92dbe5",
   "metadata": {},
   "outputs": [
    {
     "name": "stdout",
     "output_type": "stream",
     "text": [
      "<class 'pandas.core.frame.DataFrame'>\n",
      "DatetimeIndex: 679111 entries, 2022-05-20 13:21:29.043970 to 2021-03-08 21:10:32.250919\n",
      "Data columns (total 11 columns):\n",
      " #   Column      Non-Null Count   Dtype   \n",
      "---  ------      --------------   -----   \n",
      " 0   id_prod     679111 non-null  object  \n",
      " 1   session_id  679111 non-null  object  \n",
      " 2   client_id   679111 non-null  object  \n",
      " 3   sex         679111 non-null  object  \n",
      " 4   birth       679111 non-null  int64   \n",
      " 5   price       679111 non-null  float64 \n",
      " 6   categ       679111 non-null  category\n",
      " 7   année       679111 non-null  int64   \n",
      " 8   mois        679111 non-null  int64   \n",
      " 9   heure       679111 non-null  int64   \n",
      " 10  jour        679111 non-null  object  \n",
      "dtypes: category(1), float64(1), int64(4), object(5)\n",
      "memory usage: 57.6+ MB\n"
     ]
    }
   ],
   "source": [
    "#Vérification du type des colonnes, et des valeurs non nulles\n",
    "join2.info()"
   ]
  },
  {
   "cell_type": "code",
   "execution_count": 48,
   "id": "3d0ccbbf",
   "metadata": {},
   "outputs": [
    {
     "data": {
      "text/plain": [
       "id_prod       0\n",
       "session_id    0\n",
       "client_id     0\n",
       "sex           0\n",
       "birth         0\n",
       "price         0\n",
       "categ         0\n",
       "année         0\n",
       "mois          0\n",
       "heure         0\n",
       "jour          0\n",
       "dtype: int64"
      ]
     },
     "execution_count": 48,
     "metadata": {},
     "output_type": "execute_result"
    }
   ],
   "source": [
    "# vérification des valeurs nulles\n",
    "join2.isnull().sum()"
   ]
  },
  {
   "cell_type": "markdown",
   "id": "51de4192",
   "metadata": {},
   "source": [
    "##### Informations : \n",
    "\n",
    "##### Dataset join2 final\n",
    "- Nombre de lignes =   679111\n",
    "- Nombre de colonnes : 10, dtypes: category(1), float64(1), int64(3), object(5)\n",
    "- Valeurs uniques: colonne id_prod = 3265,   colonne clien_id = 8600\n",
    "- Pas de doublons\n",
    "- Aucune valeur nulle\n"
   ]
  },
  {
   "cell_type": "markdown",
   "id": "5f553dc7",
   "metadata": {},
   "source": [
    "----\n",
    "----\n",
    "# Partie 2 : ANALYSE DES DONNEES\n",
    "----\n",
    "----"
   ]
  },
  {
   "cell_type": "code",
   "execution_count": 49,
   "id": "6743cc16",
   "metadata": {
    "scrolled": false
   },
   "outputs": [
    {
     "data": {
      "text/html": [
       "<div>\n",
       "<style scoped>\n",
       "    .dataframe tbody tr th:only-of-type {\n",
       "        vertical-align: middle;\n",
       "    }\n",
       "\n",
       "    .dataframe tbody tr th {\n",
       "        vertical-align: top;\n",
       "    }\n",
       "\n",
       "    .dataframe thead th {\n",
       "        text-align: right;\n",
       "    }\n",
       "</style>\n",
       "<table border=\"1\" class=\"dataframe\">\n",
       "  <thead>\n",
       "    <tr style=\"text-align: right;\">\n",
       "      <th></th>\n",
       "      <th>id_prod</th>\n",
       "      <th>session_id</th>\n",
       "      <th>client_id</th>\n",
       "      <th>sex</th>\n",
       "      <th>birth</th>\n",
       "      <th>price</th>\n",
       "      <th>categ</th>\n",
       "      <th>année</th>\n",
       "      <th>mois</th>\n",
       "      <th>heure</th>\n",
       "      <th>jour</th>\n",
       "    </tr>\n",
       "    <tr>\n",
       "      <th>date</th>\n",
       "      <th></th>\n",
       "      <th></th>\n",
       "      <th></th>\n",
       "      <th></th>\n",
       "      <th></th>\n",
       "      <th></th>\n",
       "      <th></th>\n",
       "      <th></th>\n",
       "      <th></th>\n",
       "      <th></th>\n",
       "      <th></th>\n",
       "    </tr>\n",
       "  </thead>\n",
       "  <tbody>\n",
       "    <tr>\n",
       "      <th>2022-05-20 13:21:29.043970</th>\n",
       "      <td>0_1518</td>\n",
       "      <td>s_211425</td>\n",
       "      <td>c_103</td>\n",
       "      <td>f</td>\n",
       "      <td>1986</td>\n",
       "      <td>4.18</td>\n",
       "      <td>0</td>\n",
       "      <td>2022</td>\n",
       "      <td>5</td>\n",
       "      <td>13</td>\n",
       "      <td>Friday</td>\n",
       "    </tr>\n",
       "    <tr>\n",
       "      <th>2021-07-20 13:21:29.043970</th>\n",
       "      <td>0_1518</td>\n",
       "      <td>s_64849</td>\n",
       "      <td>c_103</td>\n",
       "      <td>f</td>\n",
       "      <td>1986</td>\n",
       "      <td>4.18</td>\n",
       "      <td>0</td>\n",
       "      <td>2021</td>\n",
       "      <td>7</td>\n",
       "      <td>13</td>\n",
       "      <td>Tuesday</td>\n",
       "    </tr>\n",
       "    <tr>\n",
       "      <th>2022-08-20 13:21:29.043970</th>\n",
       "      <td>0_1518</td>\n",
       "      <td>s_255965</td>\n",
       "      <td>c_103</td>\n",
       "      <td>f</td>\n",
       "      <td>1986</td>\n",
       "      <td>4.18</td>\n",
       "      <td>0</td>\n",
       "      <td>2022</td>\n",
       "      <td>8</td>\n",
       "      <td>13</td>\n",
       "      <td>Saturday</td>\n",
       "    </tr>\n",
       "    <tr>\n",
       "      <th>2021-05-09 11:52:55.100386</th>\n",
       "      <td>0_1518</td>\n",
       "      <td>s_32104</td>\n",
       "      <td>c_6714</td>\n",
       "      <td>f</td>\n",
       "      <td>1968</td>\n",
       "      <td>4.18</td>\n",
       "      <td>0</td>\n",
       "      <td>2021</td>\n",
       "      <td>5</td>\n",
       "      <td>11</td>\n",
       "      <td>Sunday</td>\n",
       "    </tr>\n",
       "    <tr>\n",
       "      <th>2022-05-30 01:17:07.487046</th>\n",
       "      <td>0_1518</td>\n",
       "      <td>s_216118</td>\n",
       "      <td>c_6714</td>\n",
       "      <td>f</td>\n",
       "      <td>1968</td>\n",
       "      <td>4.18</td>\n",
       "      <td>0</td>\n",
       "      <td>2022</td>\n",
       "      <td>5</td>\n",
       "      <td>1</td>\n",
       "      <td>Monday</td>\n",
       "    </tr>\n",
       "  </tbody>\n",
       "</table>\n",
       "</div>"
      ],
      "text/plain": [
       "                           id_prod session_id client_id sex  birth  price  \\\n",
       "date                                                                        \n",
       "2022-05-20 13:21:29.043970  0_1518   s_211425     c_103   f   1986   4.18   \n",
       "2021-07-20 13:21:29.043970  0_1518    s_64849     c_103   f   1986   4.18   \n",
       "2022-08-20 13:21:29.043970  0_1518   s_255965     c_103   f   1986   4.18   \n",
       "2021-05-09 11:52:55.100386  0_1518    s_32104    c_6714   f   1968   4.18   \n",
       "2022-05-30 01:17:07.487046  0_1518   s_216118    c_6714   f   1968   4.18   \n",
       "\n",
       "                           categ  année  mois  heure      jour  \n",
       "date                                                            \n",
       "2022-05-20 13:21:29.043970     0   2022     5     13    Friday  \n",
       "2021-07-20 13:21:29.043970     0   2021     7     13   Tuesday  \n",
       "2022-08-20 13:21:29.043970     0   2022     8     13  Saturday  \n",
       "2021-05-09 11:52:55.100386     0   2021     5     11    Sunday  \n",
       "2022-05-30 01:17:07.487046     0   2022     5      1    Monday  "
      ]
     },
     "execution_count": 49,
     "metadata": {},
     "output_type": "execute_result"
    }
   ],
   "source": [
    "# Affichage de dataframe final join2\n",
    "join2.head()"
   ]
  },
  {
   "cell_type": "code",
   "execution_count": 50,
   "id": "0a2959b5",
   "metadata": {},
   "outputs": [
    {
     "data": {
      "text/plain": [
       "415459"
      ]
     },
     "execution_count": 50,
     "metadata": {},
     "output_type": "execute_result"
    }
   ],
   "source": [
    "join2[join2['categ']==0].shape[0]"
   ]
  },
  {
   "cell_type": "code",
   "execution_count": 51,
   "id": "a55b86e3",
   "metadata": {},
   "outputs": [],
   "source": [
    "#join2.resample?"
   ]
  },
  {
   "cell_type": "markdown",
   "id": "8c5d3f9b",
   "metadata": {},
   "source": [
    "-----\n",
    "-----\n",
    "### 1. EVOLUTION DU CHIFFRE D'AFFAIRE DANS LE TEMPS\n",
    "----\n",
    "##### Démarche :\n",
    "- Calculer les chiffres d'affaires annuels\n",
    "- Calculer les chiffres d'affaires mensuels\n",
    "- Vérification des valeurs aberrantes\n",
    "- Analyse graphique des résultats\n",
    "----"
   ]
  },
  {
   "cell_type": "markdown",
   "id": "87c866b0",
   "metadata": {},
   "source": [
    "#### A. CHIFFRE D'AFFAIRE TOTAL : 2021, 2022, 2023 "
   ]
  },
  {
   "cell_type": "code",
   "execution_count": 52,
   "id": "39b11a7b",
   "metadata": {},
   "outputs": [
    {
     "data": {
      "text/plain": [
       "11853728.680000002"
      ]
     },
     "execution_count": 52,
     "metadata": {},
     "output_type": "execute_result"
    }
   ],
   "source": [
    "# Calculer le chiffre d'affaire total\n",
    "join2['price'].sum()"
   ]
  },
  {
   "cell_type": "markdown",
   "id": "37799cdc",
   "metadata": {},
   "source": [
    "#### B. CHIFFRE D'AFFAIRE ANNUEL\n",
    "   - L'analyse de l'évolution des chiffres d'affaires annuels ne semble pas pertinente vu que les années 2021 et 2023 sont incomplètes, les chiffres d'affaires sont donnés à titre informatif"
   ]
  },
  {
   "cell_type": "code",
   "execution_count": 53,
   "id": "9bc2893c",
   "metadata": {},
   "outputs": [
    {
     "data": {
      "text/html": [
       "<div>\n",
       "<style scoped>\n",
       "    .dataframe tbody tr th:only-of-type {\n",
       "        vertical-align: middle;\n",
       "    }\n",
       "\n",
       "    .dataframe tbody tr th {\n",
       "        vertical-align: top;\n",
       "    }\n",
       "\n",
       "    .dataframe thead th {\n",
       "        text-align: right;\n",
       "    }\n",
       "</style>\n",
       "<table border=\"1\" class=\"dataframe\">\n",
       "  <thead>\n",
       "    <tr style=\"text-align: right;\">\n",
       "      <th></th>\n",
       "      <th>chiffre_affaire</th>\n",
       "    </tr>\n",
       "    <tr>\n",
       "      <th>date</th>\n",
       "      <th></th>\n",
       "    </tr>\n",
       "  </thead>\n",
       "  <tbody>\n",
       "    <tr>\n",
       "      <th>2021-12-31</th>\n",
       "      <td>4770827.0</td>\n",
       "    </tr>\n",
       "    <tr>\n",
       "      <th>2022-12-31</th>\n",
       "      <td>6108682.0</td>\n",
       "    </tr>\n",
       "    <tr>\n",
       "      <th>2023-12-31</th>\n",
       "      <td>974220.0</td>\n",
       "    </tr>\n",
       "  </tbody>\n",
       "</table>\n",
       "</div>"
      ],
      "text/plain": [
       "            chiffre_affaire\n",
       "date                       \n",
       "2021-12-31        4770827.0\n",
       "2022-12-31        6108682.0\n",
       "2023-12-31         974220.0"
      ]
     },
     "execution_count": 53,
     "metadata": {},
     "output_type": "execute_result"
    }
   ],
   "source": [
    "# Afficher le chiffre d'affaire annuel\n",
    "o=round(join2['price'].resample('Y').agg(['sum']))\n",
    "o.rename(columns ={\"sum\": \"chiffre_affaire\",\"date\": \"année\"}, inplace= True)\n",
    "o.head()"
   ]
  },
  {
   "cell_type": "code",
   "execution_count": 54,
   "id": "d18c21da",
   "metadata": {},
   "outputs": [
    {
     "data": {
      "image/png": "[encoded data removed]",
      "text/plain": [
       "<Figure size 360x360 with 1 Axes>"
      ]
     },
     "metadata": {},
     "output_type": "display_data"
    }
   ],
   "source": [
    "# Affichage du graphique (camembert) du chiffre d'affaire réalisé par année\n",
    "fig=plt.figure(figsize = (5, 5))\n",
    "explode = (0,0,0) # explode \"Alimentation des touristes\"\n",
    "plt.pie(o['chiffre_affaire'],explode= explode,labels=['2021','2022','2023'],autopct='%1.1f%%', shadow=True, startangle=70)\n",
    "plt.title('Chiffres d\\'affaires annuels')\n",
    "plt.axis('equal')\n",
    "plt.show()\n"
   ]
  },
  {
   "cell_type": "markdown",
   "id": "0dae483e",
   "metadata": {},
   "source": [
    "#### C. CHIFFRES D'AFFAIRES MENSUELS"
   ]
  },
  {
   "cell_type": "code",
   "execution_count": 55,
   "id": "7eca1570",
   "metadata": {
    "scrolled": true
   },
   "outputs": [
    {
     "data": {
      "text/html": [
       "<div>\n",
       "<style scoped>\n",
       "    .dataframe tbody tr th:only-of-type {\n",
       "        vertical-align: middle;\n",
       "    }\n",
       "\n",
       "    .dataframe tbody tr th {\n",
       "        vertical-align: top;\n",
       "    }\n",
       "\n",
       "    .dataframe thead th {\n",
       "        text-align: right;\n",
       "    }\n",
       "</style>\n",
       "<table border=\"1\" class=\"dataframe\">\n",
       "  <thead>\n",
       "    <tr style=\"text-align: right;\">\n",
       "      <th></th>\n",
       "      <th>date</th>\n",
       "      <th>chiffre_affaire</th>\n",
       "    </tr>\n",
       "  </thead>\n",
       "  <tbody>\n",
       "    <tr>\n",
       "      <th>0</th>\n",
       "      <td>2021-03-31</td>\n",
       "      <td>482440.61</td>\n",
       "    </tr>\n",
       "    <tr>\n",
       "      <th>1</th>\n",
       "      <td>2021-04-30</td>\n",
       "      <td>476109.30</td>\n",
       "    </tr>\n",
       "    <tr>\n",
       "      <th>2</th>\n",
       "      <td>2021-05-31</td>\n",
       "      <td>492943.47</td>\n",
       "    </tr>\n",
       "    <tr>\n",
       "      <th>3</th>\n",
       "      <td>2021-06-30</td>\n",
       "      <td>484088.56</td>\n",
       "    </tr>\n",
       "    <tr>\n",
       "      <th>4</th>\n",
       "      <td>2021-07-31</td>\n",
       "      <td>482835.40</td>\n",
       "    </tr>\n",
       "  </tbody>\n",
       "</table>\n",
       "</div>"
      ],
      "text/plain": [
       "        date  chiffre_affaire\n",
       "0 2021-03-31        482440.61\n",
       "1 2021-04-30        476109.30\n",
       "2 2021-05-31        492943.47\n",
       "3 2021-06-30        484088.56\n",
       "4 2021-07-31        482835.40"
      ]
     },
     "execution_count": 55,
     "metadata": {},
     "output_type": "execute_result"
    }
   ],
   "source": [
    "# Afficher le chiffre d'affaire mensuel\n",
    "chiff_affai_mensuel=join2['price'].resample('M').agg(['sum']).reset_index()\n",
    "chiff_affai_mensuel.rename(columns ={\"sum\": \"chiffre_affaire\"},inplace =True)\n",
    "chiff_affai_mensuel.head()"
   ]
  },
  {
   "cell_type": "code",
   "execution_count": 56,
   "id": "35034793",
   "metadata": {},
   "outputs": [
    {
     "data": {
      "image/png": "[encoded data removed]",
      "text/plain": [
       "<Figure size 1008x360 with 1 Axes>"
      ]
     },
     "metadata": {
      "needs_background": "light"
     },
     "output_type": "display_data"
    }
   ],
   "source": [
    "chiff_affai_mensuel.plot(x='date', y='chiffre_affaire',linestyle = 'dashed',marker = 'o')\n",
    "plt.xticks(rotation='vertical')\n",
    "plt.title('Evolution mensuelle du chiffre d\\'affaire')\n",
    "plt.xlabel('Mois')\n",
    "plt.ylabel('Chiffre d\\'affaire')\n",
    "plt.gcf().set_size_inches(14, 5)\n",
    "plt.grid()\n",
    "#plt.savefig('image.png', transparent = True)\n",
    "plt.show()"
   ]
  },
  {
   "cell_type": "markdown",
   "id": "34306955",
   "metadata": {},
   "source": [
    "### VERIFICATION DES VALEURS ABERRANTES\n",
    "##### Résultats et Interprétation\n",
    "   - Au vu du graphique ci-dessous la valeur du chiffre d'affaire du mois d'octobre semble être une valeur abérrante.\n",
    "   - Au vu de l'histograme ci-dessous la distribution des valeurs des chiffres d'affaires mensuels est étalée à gauche avec une valeur (octobre 2021) complétement décalée du reste des valeurs\n",
    "   - Au vu de la boite à moustache ci-dessous la valeur du mois d'octobre est effectivement en dehors de extrimité gauche de la moustache\n",
    "   - Calculer l'indicateur d'asymétrie de la ditribution avec le skew = -3.42\n",
    "   - Calculer du z-score = -4.20 pour le mois d'octobre 2021, le décalage par rapport à la moyenne est très important\n",
    "   - Analyser le chiffre d'affaire du mois d'octobre et par catégorie de produits chiffre_affaire : cat 0 : 62% (199251€), cat 1 : 11% (33762€), cat 3 : 27% (87786€)\t\n",
    "   \n",
    "\n",
    "###### Conclusion\n",
    "  - Le chiffre d'affaire du mois d'octobre semble anormalement bas au vu des autres mois et constitue un outlier qui pourrait biaiser nos analyses.\n",
    "  - Par conséquent cette valeur est supprimée\n",
    "  - La catégorie 1 en particulier et la catégorie 2 présentent un chiffre d'affaire très bas, cela est probablement à l'origine du chiffre d'affaire anormalement bas, les raisons sont à explorer, mais nous pouvons emettre une hypothèse de rupture des stocks de ce produits là.\n"
   ]
  },
  {
   "cell_type": "markdown",
   "id": "2ca47798",
   "metadata": {},
   "source": [
    "#### LA FORME DE DISTRIBUTION\n",
    " "
   ]
  },
  {
   "cell_type": "code",
   "execution_count": 57,
   "id": "94107705",
   "metadata": {},
   "outputs": [
    {
     "data": {
      "text/plain": [
       "-3.4232517039873103"
      ]
     },
     "execution_count": 57,
     "metadata": {},
     "output_type": "execute_result"
    }
   ],
   "source": [
    "# Calculer la symertie de la distribution\n",
    "chiff_affai_mensuel['chiffre_affaire'].skew()"
   ]
  },
  {
   "cell_type": "code",
   "execution_count": 58,
   "id": "7934db01",
   "metadata": {},
   "outputs": [
    {
     "data": {
      "text/plain": [
       "<matplotlib.lines.Line2D at 0x1dca0a9b4c0>"
      ]
     },
     "execution_count": 58,
     "metadata": {},
     "output_type": "execute_result"
    },
    {
     "data": {
      "image/png": "[encoded data removed]",
      "text/plain": [
       "<Figure size 432x288 with 1 Axes>"
      ]
     },
     "metadata": {
      "needs_background": "light"
     },
     "output_type": "display_data"
    }
   ],
   "source": [
    "chiff_affai_mensuel['chiffre_affaire'].hist(density=True,bins=20)\n",
    "plt.axvline(chiff_affai_mensuel['chiffre_affaire'].mean(), color='k', linestyle='dashed', linewidth=2)"
   ]
  },
  {
   "cell_type": "code",
   "execution_count": 59,
   "id": "615c20ea",
   "metadata": {
    "scrolled": false
   },
   "outputs": [
    {
     "data": {
      "text/plain": [
       "Text(0.5, 1.0, 'figure 2 : Représentation de la distribution des valeurs chiffre_affaire')"
      ]
     },
     "execution_count": 59,
     "metadata": {},
     "output_type": "execute_result"
    },
    {
     "data": {
      "image/png": "[encoded data removed]",
      "text/plain": [
       "<Figure size 432x288 with 1 Axes>"
      ]
     },
     "metadata": {
      "needs_background": "light"
     },
     "output_type": "display_data"
    }
   ],
   "source": [
    "# Affichage d'une boite à moustache representant la distribution de la valeur chiffre d'affaire\n",
    "sns.boxplot(x=chiff_affai_mensuel['chiffre_affaire'] )\n",
    "plt.title('figure 2 : Représentation de la distribution des valeurs chiffre_affaire')"
   ]
  },
  {
   "cell_type": "markdown",
   "id": "0fb3470b",
   "metadata": {},
   "source": [
    "#### Calculer le nombre d'écart-type par rapport à la moyenne =  z-score"
   ]
  },
  {
   "cell_type": "code",
   "execution_count": 60,
   "id": "073ddcfa",
   "metadata": {
    "scrolled": true
   },
   "outputs": [
    {
     "data": {
      "text/html": [
       "<div>\n",
       "<style scoped>\n",
       "    .dataframe tbody tr th:only-of-type {\n",
       "        vertical-align: middle;\n",
       "    }\n",
       "\n",
       "    .dataframe tbody tr th {\n",
       "        vertical-align: top;\n",
       "    }\n",
       "\n",
       "    .dataframe thead th {\n",
       "        text-align: right;\n",
       "    }\n",
       "</style>\n",
       "<table border=\"1\" class=\"dataframe\">\n",
       "  <thead>\n",
       "    <tr style=\"text-align: right;\">\n",
       "      <th></th>\n",
       "      <th>date</th>\n",
       "      <th>chiffre_affaire</th>\n",
       "      <th>z_score</th>\n",
       "    </tr>\n",
       "  </thead>\n",
       "  <tbody>\n",
       "    <tr>\n",
       "      <th>0</th>\n",
       "      <td>2021-03-31</td>\n",
       "      <td>482440.61</td>\n",
       "      <td>-0.278212</td>\n",
       "    </tr>\n",
       "    <tr>\n",
       "      <th>1</th>\n",
       "      <td>2021-04-30</td>\n",
       "      <td>476109.30</td>\n",
       "      <td>-0.431852</td>\n",
       "    </tr>\n",
       "    <tr>\n",
       "      <th>2</th>\n",
       "      <td>2021-05-31</td>\n",
       "      <td>492943.47</td>\n",
       "      <td>-0.023342</td>\n",
       "    </tr>\n",
       "    <tr>\n",
       "      <th>3</th>\n",
       "      <td>2021-06-30</td>\n",
       "      <td>484088.56</td>\n",
       "      <td>-0.238221</td>\n",
       "    </tr>\n",
       "    <tr>\n",
       "      <th>4</th>\n",
       "      <td>2021-07-31</td>\n",
       "      <td>482835.40</td>\n",
       "      <td>-0.268631</td>\n",
       "    </tr>\n",
       "    <tr>\n",
       "      <th>5</th>\n",
       "      <td>2021-08-31</td>\n",
       "      <td>482284.79</td>\n",
       "      <td>-0.281993</td>\n",
       "    </tr>\n",
       "    <tr>\n",
       "      <th>6</th>\n",
       "      <td>2021-09-30</td>\n",
       "      <td>507240.68</td>\n",
       "      <td>0.323604</td>\n",
       "    </tr>\n",
       "    <tr>\n",
       "      <th>7</th>\n",
       "      <td>2021-10-31</td>\n",
       "      <td>320798.74</td>\n",
       "      <td>-4.200726</td>\n",
       "    </tr>\n",
       "    <tr>\n",
       "      <th>8</th>\n",
       "      <td>2021-11-30</td>\n",
       "      <td>516167.73</td>\n",
       "      <td>0.540234</td>\n",
       "    </tr>\n",
       "    <tr>\n",
       "      <th>9</th>\n",
       "      <td>2021-12-31</td>\n",
       "      <td>525917.28</td>\n",
       "      <td>0.776824</td>\n",
       "    </tr>\n",
       "    <tr>\n",
       "      <th>10</th>\n",
       "      <td>2022-01-31</td>\n",
       "      <td>525338.99</td>\n",
       "      <td>0.762790</td>\n",
       "    </tr>\n",
       "    <tr>\n",
       "      <th>11</th>\n",
       "      <td>2022-02-28</td>\n",
       "      <td>535571.50</td>\n",
       "      <td>1.011100</td>\n",
       "    </tr>\n",
       "    <tr>\n",
       "      <th>12</th>\n",
       "      <td>2022-03-31</td>\n",
       "      <td>515456.53</td>\n",
       "      <td>0.522976</td>\n",
       "    </tr>\n",
       "    <tr>\n",
       "      <th>13</th>\n",
       "      <td>2022-04-30</td>\n",
       "      <td>492998.94</td>\n",
       "      <td>-0.021996</td>\n",
       "    </tr>\n",
       "    <tr>\n",
       "      <th>14</th>\n",
       "      <td>2022-05-31</td>\n",
       "      <td>517132.60</td>\n",
       "      <td>0.563648</td>\n",
       "    </tr>\n",
       "    <tr>\n",
       "      <th>15</th>\n",
       "      <td>2022-06-30</td>\n",
       "      <td>496016.12</td>\n",
       "      <td>0.051221</td>\n",
       "    </tr>\n",
       "    <tr>\n",
       "      <th>16</th>\n",
       "      <td>2022-07-31</td>\n",
       "      <td>510783.12</td>\n",
       "      <td>0.409567</td>\n",
       "    </tr>\n",
       "    <tr>\n",
       "      <th>17</th>\n",
       "      <td>2022-08-31</td>\n",
       "      <td>506467.27</td>\n",
       "      <td>0.304836</td>\n",
       "    </tr>\n",
       "    <tr>\n",
       "      <th>18</th>\n",
       "      <td>2022-09-30</td>\n",
       "      <td>494114.53</td>\n",
       "      <td>0.005076</td>\n",
       "    </tr>\n",
       "    <tr>\n",
       "      <th>19</th>\n",
       "      <td>2022-10-31</td>\n",
       "      <td>507917.77</td>\n",
       "      <td>0.340035</td>\n",
       "    </tr>\n",
       "  </tbody>\n",
       "</table>\n",
       "</div>"
      ],
      "text/plain": [
       "         date  chiffre_affaire   z_score\n",
       "0  2021-03-31        482440.61 -0.278212\n",
       "1  2021-04-30        476109.30 -0.431852\n",
       "2  2021-05-31        492943.47 -0.023342\n",
       "3  2021-06-30        484088.56 -0.238221\n",
       "4  2021-07-31        482835.40 -0.268631\n",
       "5  2021-08-31        482284.79 -0.281993\n",
       "6  2021-09-30        507240.68  0.323604\n",
       "7  2021-10-31        320798.74 -4.200726\n",
       "8  2021-11-30        516167.73  0.540234\n",
       "9  2021-12-31        525917.28  0.776824\n",
       "10 2022-01-31        525338.99  0.762790\n",
       "11 2022-02-28        535571.50  1.011100\n",
       "12 2022-03-31        515456.53  0.522976\n",
       "13 2022-04-30        492998.94 -0.021996\n",
       "14 2022-05-31        517132.60  0.563648\n",
       "15 2022-06-30        496016.12  0.051221\n",
       "16 2022-07-31        510783.12  0.409567\n",
       "17 2022-08-31        506467.27  0.304836\n",
       "18 2022-09-30        494114.53  0.005076\n",
       "19 2022-10-31        507917.77  0.340035"
      ]
     },
     "execution_count": 60,
     "metadata": {},
     "output_type": "execute_result"
    }
   ],
   "source": [
    "# Calculer le z-score \n",
    "chiff_affai_mensuel['z_score']=(chiff_affai_mensuel['chiffre_affaire']-chiff_affai_mensuel['chiffre_affaire'].mean())/chiff_affai_mensuel['chiffre_affaire'].std()\n",
    "chiff_affai_mensuel.head(20)"
   ]
  },
  {
   "cell_type": "code",
   "execution_count": 61,
   "id": "a47502c5",
   "metadata": {},
   "outputs": [
    {
     "data": {
      "text/plain": [
       "<AxesSubplot:>"
      ]
     },
     "execution_count": 61,
     "metadata": {},
     "output_type": "execute_result"
    },
    {
     "data": {
      "image/png": "[encoded data removed]",
      "text/plain": [
       "<Figure size 432x288 with 1 Axes>"
      ]
     },
     "metadata": {
      "needs_background": "light"
     },
     "output_type": "display_data"
    }
   ],
   "source": [
    "# representation graphique du z-score\n",
    "chiff_affai_mensuel['z_score'].plot.bar()"
   ]
  },
  {
   "cell_type": "markdown",
   "id": "53f0c73c",
   "metadata": {},
   "source": [
    "### Analyser le chiffre d'affaire du mois d'octobre par catégorie de produits"
   ]
  },
  {
   "cell_type": "code",
   "execution_count": 62,
   "id": "7b612f4d",
   "metadata": {
    "scrolled": false
   },
   "outputs": [
    {
     "data": {
      "text/html": [
       "<div>\n",
       "<style scoped>\n",
       "    .dataframe tbody tr th:only-of-type {\n",
       "        vertical-align: middle;\n",
       "    }\n",
       "\n",
       "    .dataframe tbody tr th {\n",
       "        vertical-align: top;\n",
       "    }\n",
       "\n",
       "    .dataframe thead th {\n",
       "        text-align: right;\n",
       "    }\n",
       "</style>\n",
       "<table border=\"1\" class=\"dataframe\">\n",
       "  <thead>\n",
       "    <tr style=\"text-align: right;\">\n",
       "      <th></th>\n",
       "      <th>chiffre_affaire</th>\n",
       "    </tr>\n",
       "    <tr>\n",
       "      <th>categ</th>\n",
       "      <th></th>\n",
       "    </tr>\n",
       "  </thead>\n",
       "  <tbody>\n",
       "    <tr>\n",
       "      <th>0</th>\n",
       "      <td>199251.0</td>\n",
       "    </tr>\n",
       "    <tr>\n",
       "      <th>1</th>\n",
       "      <td>33762.0</td>\n",
       "    </tr>\n",
       "    <tr>\n",
       "      <th>2</th>\n",
       "      <td>87786.0</td>\n",
       "    </tr>\n",
       "  </tbody>\n",
       "</table>\n",
       "</div>"
      ],
      "text/plain": [
       "       chiffre_affaire\n",
       "categ                 \n",
       "0             199251.0\n",
       "1              33762.0\n",
       "2              87786.0"
      ]
     },
     "execution_count": 62,
     "metadata": {},
     "output_type": "execute_result"
    }
   ],
   "source": [
    "# Calculer les chiffres d'affaire pour le mois d'octobre et par catégorie\n",
    "raison=round(join2[join2.index.strftime('%Y-%m') == '2021-10'].groupby('categ')['price'].agg(['sum']))\n",
    "raison.rename(columns ={\"sum\": \"chiffre_affaire\"}, inplace= True)\n",
    "raison.head()"
   ]
  },
  {
   "cell_type": "code",
   "execution_count": 63,
   "id": "a8306e6d",
   "metadata": {
    "scrolled": true
   },
   "outputs": [
    {
     "data": {
      "image/png": "[encoded data removed]",
      "text/plain": [
       "<Figure size 360x360 with 1 Axes>"
      ]
     },
     "metadata": {},
     "output_type": "display_data"
    }
   ],
   "source": [
    "# Affichage du graphique (camembert) du chiffre d'affaire réalisé par année\n",
    "fig=plt.figure(figsize = (5, 5))\n",
    "explode = (0,0,0) # explode \"Alimentation des touristes\"\n",
    "plt.pie(raison['chiffre_affaire'],explode= explode,labels=['Catégorie 0','Catégorie 1','Catégorie 2'],autopct='%1.1f%%', shadow=True, startangle=70)\n",
    "plt.title('Chiffres d\\'affaires octobre 2021')\n",
    "plt.axis('equal')\n",
    "plt.show()"
   ]
  },
  {
   "cell_type": "code",
   "execution_count": 64,
   "id": "0bfb0daf",
   "metadata": {
    "scrolled": false
   },
   "outputs": [
    {
     "data": {
      "text/html": [
       "<div>\n",
       "<style scoped>\n",
       "    .dataframe tbody tr th:only-of-type {\n",
       "        vertical-align: middle;\n",
       "    }\n",
       "\n",
       "    .dataframe tbody tr th {\n",
       "        vertical-align: top;\n",
       "    }\n",
       "\n",
       "    .dataframe thead th {\n",
       "        text-align: right;\n",
       "    }\n",
       "</style>\n",
       "<table border=\"1\" class=\"dataframe\">\n",
       "  <thead>\n",
       "    <tr style=\"text-align: right;\">\n",
       "      <th></th>\n",
       "      <th>date</th>\n",
       "      <th>id_prod</th>\n",
       "      <th>session_id</th>\n",
       "      <th>client_id</th>\n",
       "      <th>sex</th>\n",
       "      <th>birth</th>\n",
       "      <th>price</th>\n",
       "      <th>categ</th>\n",
       "      <th>année</th>\n",
       "      <th>mois</th>\n",
       "      <th>heure</th>\n",
       "      <th>jour</th>\n",
       "      <th>date2</th>\n",
       "    </tr>\n",
       "  </thead>\n",
       "  <tbody>\n",
       "    <tr>\n",
       "      <th>0</th>\n",
       "      <td>2021-10-23 21:58:50.700370</td>\n",
       "      <td>0_1518</td>\n",
       "      <td>s_109153</td>\n",
       "      <td>c_6714</td>\n",
       "      <td>f</td>\n",
       "      <td>1968</td>\n",
       "      <td>4.18</td>\n",
       "      <td>0</td>\n",
       "      <td>2021</td>\n",
       "      <td>10</td>\n",
       "      <td>21</td>\n",
       "      <td>Saturday</td>\n",
       "      <td>23-10-2021</td>\n",
       "    </tr>\n",
       "    <tr>\n",
       "      <th>1</th>\n",
       "      <td>2021-10-13 18:00:08.691379</td>\n",
       "      <td>0_1518</td>\n",
       "      <td>s_104281</td>\n",
       "      <td>c_1609</td>\n",
       "      <td>m</td>\n",
       "      <td>1980</td>\n",
       "      <td>4.18</td>\n",
       "      <td>0</td>\n",
       "      <td>2021</td>\n",
       "      <td>10</td>\n",
       "      <td>18</td>\n",
       "      <td>Wednesday</td>\n",
       "      <td>13-10-2021</td>\n",
       "    </tr>\n",
       "    <tr>\n",
       "      <th>2</th>\n",
       "      <td>2021-10-18 05:08:38.451377</td>\n",
       "      <td>0_1518</td>\n",
       "      <td>s_106465</td>\n",
       "      <td>c_1609</td>\n",
       "      <td>m</td>\n",
       "      <td>1980</td>\n",
       "      <td>4.18</td>\n",
       "      <td>0</td>\n",
       "      <td>2021</td>\n",
       "      <td>10</td>\n",
       "      <td>5</td>\n",
       "      <td>Monday</td>\n",
       "      <td>18-10-2021</td>\n",
       "    </tr>\n",
       "    <tr>\n",
       "      <th>3</th>\n",
       "      <td>2021-10-06 02:28:00.146255</td>\n",
       "      <td>0_1518</td>\n",
       "      <td>s_100641</td>\n",
       "      <td>c_6726</td>\n",
       "      <td>f</td>\n",
       "      <td>1974</td>\n",
       "      <td>4.18</td>\n",
       "      <td>0</td>\n",
       "      <td>2021</td>\n",
       "      <td>10</td>\n",
       "      <td>2</td>\n",
       "      <td>Wednesday</td>\n",
       "      <td>06-10-2021</td>\n",
       "    </tr>\n",
       "    <tr>\n",
       "      <th>4</th>\n",
       "      <td>2021-10-12 07:31:49.081831</td>\n",
       "      <td>0_1518</td>\n",
       "      <td>s_103594</td>\n",
       "      <td>c_846</td>\n",
       "      <td>f</td>\n",
       "      <td>1981</td>\n",
       "      <td>4.18</td>\n",
       "      <td>0</td>\n",
       "      <td>2021</td>\n",
       "      <td>10</td>\n",
       "      <td>7</td>\n",
       "      <td>Tuesday</td>\n",
       "      <td>12-10-2021</td>\n",
       "    </tr>\n",
       "  </tbody>\n",
       "</table>\n",
       "</div>"
      ],
      "text/plain": [
       "                        date id_prod session_id client_id sex  birth  price  \\\n",
       "0 2021-10-23 21:58:50.700370  0_1518   s_109153    c_6714   f   1968   4.18   \n",
       "1 2021-10-13 18:00:08.691379  0_1518   s_104281    c_1609   m   1980   4.18   \n",
       "2 2021-10-18 05:08:38.451377  0_1518   s_106465    c_1609   m   1980   4.18   \n",
       "3 2021-10-06 02:28:00.146255  0_1518   s_100641    c_6726   f   1974   4.18   \n",
       "4 2021-10-12 07:31:49.081831  0_1518   s_103594     c_846   f   1981   4.18   \n",
       "\n",
       "  categ  année  mois  heure       jour       date2  \n",
       "0     0   2021    10     21   Saturday  23-10-2021  \n",
       "1     0   2021    10     18  Wednesday  13-10-2021  \n",
       "2     0   2021    10      5     Monday  18-10-2021  \n",
       "3     0   2021    10      2  Wednesday  06-10-2021  \n",
       "4     0   2021    10      7    Tuesday  12-10-2021  "
      ]
     },
     "execution_count": 64,
     "metadata": {},
     "output_type": "execute_result"
    }
   ],
   "source": [
    "# afficher un graph du mois d'octobre par jour\n",
    "oct_jour=join2[join2.index.strftime('%Y-%m') == '2021-10'].reset_index()\n",
    "oct_jour['date2']= oct_jour['date'].dt.strftime('%d-%m-%Y')\n",
    "oct_jour.head(5)"
   ]
  },
  {
   "cell_type": "markdown",
   "id": "a1b156ef",
   "metadata": {},
   "source": [
    "#### Explorer l'évolution du nombre de commandes journalier pour les 3 catégories"
   ]
  },
  {
   "cell_type": "code",
   "execution_count": 78,
   "id": "27261b75",
   "metadata": {
    "scrolled": true
   },
   "outputs": [
    {
     "data": {
      "image/png": "[encoded data removed]",
      "text/plain": [
       "<Figure size 1008x288 with 1 Axes>"
      ]
     },
     "metadata": {
      "needs_background": "light"
     },
     "output_type": "display_data"
    }
   ],
   "source": [
    "# Afficher le graphique du nombre de commandes par jour pour la catégorie 0\n",
    "plt.rcParams[\"figure.figsize\"] = (14,4)\n",
    "oct_jour.loc[oct_jour.categ==0, ['date2','categ']].groupby('date2')['categ'].agg([\"count\"]).plot(linestyle = 'dashed',marker = 'o')\n",
    "plt.xticks(rotation='vertical')\n",
    "plt.title('Evolution du nombre de commandes journalier pour la catégorie 0')\n",
    "plt.xlabel('Jours')\n",
    "plt.ylabel('Nombre de commandes')\n",
    "plt.grid()\n",
    "plt.show()"
   ]
  },
  {
   "cell_type": "code",
   "execution_count": 79,
   "id": "1cc0aa3a",
   "metadata": {},
   "outputs": [
    {
     "data": {
      "image/png": "[encoded data removed]",
      "text/plain": [
       "<Figure size 1008x288 with 1 Axes>"
      ]
     },
     "metadata": {
      "needs_background": "light"
     },
     "output_type": "display_data"
    }
   ],
   "source": [
    "# Afficher le graphique du nombre de commandes par jour pour la catégorie 1\n",
    "plt.rcParams[\"figure.figsize\"] = (14,4)\n",
    "oct_jour.loc[oct_jour.categ==1, ['date2','categ']].groupby('date2')['categ'].agg([\"count\"]).plot(linestyle = 'dashed',marker = 'o')\n",
    "plt.xticks(rotation='vertical')\n",
    "plt.title('Evolution du nombre de commandes journalier pour la catégorie 1')\n",
    "plt.xlabel('Jours')\n",
    "plt.ylabel('Nombre de commandes')\n",
    "plt.grid()\n",
    "plt.show()"
   ]
  },
  {
   "cell_type": "code",
   "execution_count": 80,
   "id": "15fac676",
   "metadata": {},
   "outputs": [
    {
     "data": {
      "image/png": "[encoded data removed]",
      "text/plain": [
       "<Figure size 1008x288 with 1 Axes>"
      ]
     },
     "metadata": {
      "needs_background": "light"
     },
     "output_type": "display_data"
    }
   ],
   "source": [
    "# Afficher le graphique du nombre de commandes par jour pour la catégorie 2\n",
    "plt.rcParams[\"figure.figsize\"] = (14,4)\n",
    "oct_jour.loc[oct_jour.categ==2, ['date2','categ']].groupby('date2')['categ'].agg([\"count\"]).plot(linestyle = 'dashed',marker = 'o')\n",
    "plt.xticks(rotation='vertical')\n",
    "plt.title('Evolution du nombre de commandes journalier pour la catégorie 2')\n",
    "plt.xlabel('Jours')\n",
    "plt.ylabel('Nombre de commandes')\n",
    "plt.grid()\n",
    "plt.show()"
   ]
  },
  {
   "cell_type": "markdown",
   "id": "e6fe059d",
   "metadata": {},
   "source": [
    "### Suppression des valeurs du chiffre d'affaire du mois d'octobre 2021 (outlier)"
   ]
  },
  {
   "cell_type": "code",
   "execution_count": 81,
   "id": "f47acb1d",
   "metadata": {
    "scrolled": true
   },
   "outputs": [
    {
     "data": {
      "text/html": [
       "<div>\n",
       "<style scoped>\n",
       "    .dataframe tbody tr th:only-of-type {\n",
       "        vertical-align: middle;\n",
       "    }\n",
       "\n",
       "    .dataframe tbody tr th {\n",
       "        vertical-align: top;\n",
       "    }\n",
       "\n",
       "    .dataframe thead th {\n",
       "        text-align: right;\n",
       "    }\n",
       "</style>\n",
       "<table border=\"1\" class=\"dataframe\">\n",
       "  <thead>\n",
       "    <tr style=\"text-align: right;\">\n",
       "      <th></th>\n",
       "      <th>date</th>\n",
       "      <th>chiffre_affaire</th>\n",
       "      <th>z_score</th>\n",
       "    </tr>\n",
       "  </thead>\n",
       "  <tbody>\n",
       "    <tr>\n",
       "      <th>0</th>\n",
       "      <td>2021-03-31</td>\n",
       "      <td>482440.61</td>\n",
       "      <td>-0.278212</td>\n",
       "    </tr>\n",
       "    <tr>\n",
       "      <th>1</th>\n",
       "      <td>2021-04-30</td>\n",
       "      <td>476109.30</td>\n",
       "      <td>-0.431852</td>\n",
       "    </tr>\n",
       "    <tr>\n",
       "      <th>2</th>\n",
       "      <td>2021-05-31</td>\n",
       "      <td>492943.47</td>\n",
       "      <td>-0.023342</td>\n",
       "    </tr>\n",
       "    <tr>\n",
       "      <th>3</th>\n",
       "      <td>2021-06-30</td>\n",
       "      <td>484088.56</td>\n",
       "      <td>-0.238221</td>\n",
       "    </tr>\n",
       "    <tr>\n",
       "      <th>4</th>\n",
       "      <td>2021-07-31</td>\n",
       "      <td>482835.40</td>\n",
       "      <td>-0.268631</td>\n",
       "    </tr>\n",
       "    <tr>\n",
       "      <th>5</th>\n",
       "      <td>2021-08-31</td>\n",
       "      <td>482284.79</td>\n",
       "      <td>-0.281993</td>\n",
       "    </tr>\n",
       "    <tr>\n",
       "      <th>6</th>\n",
       "      <td>2021-09-30</td>\n",
       "      <td>507240.68</td>\n",
       "      <td>0.323604</td>\n",
       "    </tr>\n",
       "    <tr>\n",
       "      <th>8</th>\n",
       "      <td>2021-11-30</td>\n",
       "      <td>516167.73</td>\n",
       "      <td>0.540234</td>\n",
       "    </tr>\n",
       "    <tr>\n",
       "      <th>9</th>\n",
       "      <td>2021-12-31</td>\n",
       "      <td>525917.28</td>\n",
       "      <td>0.776824</td>\n",
       "    </tr>\n",
       "    <tr>\n",
       "      <th>10</th>\n",
       "      <td>2022-01-31</td>\n",
       "      <td>525338.99</td>\n",
       "      <td>0.762790</td>\n",
       "    </tr>\n",
       "  </tbody>\n",
       "</table>\n",
       "</div>"
      ],
      "text/plain": [
       "         date  chiffre_affaire   z_score\n",
       "0  2021-03-31        482440.61 -0.278212\n",
       "1  2021-04-30        476109.30 -0.431852\n",
       "2  2021-05-31        492943.47 -0.023342\n",
       "3  2021-06-30        484088.56 -0.238221\n",
       "4  2021-07-31        482835.40 -0.268631\n",
       "5  2021-08-31        482284.79 -0.281993\n",
       "6  2021-09-30        507240.68  0.323604\n",
       "8  2021-11-30        516167.73  0.540234\n",
       "9  2021-12-31        525917.28  0.776824\n",
       "10 2022-01-31        525338.99  0.762790"
      ]
     },
     "execution_count": 81,
     "metadata": {},
     "output_type": "execute_result"
    }
   ],
   "source": [
    "# Afficher le df du chiffres d'affaires mensuels sans le chiffre d'affaire d'octobre\n",
    "t= chiff_affai_mensuel[chiff_affai_mensuel.date !='2021-10-31']\n",
    "t.head(10)"
   ]
  },
  {
   "cell_type": "code",
   "execution_count": 82,
   "id": "a31adc9d",
   "metadata": {
    "scrolled": true
   },
   "outputs": [
    {
     "data": {
      "image/png": "[encoded data removed]",
      "text/plain": [
       "<Figure size 1008x288 with 1 Axes>"
      ]
     },
     "metadata": {
      "needs_background": "light"
     },
     "output_type": "display_data"
    }
   ],
   "source": [
    "mois=['Mars-2021','Avril-2021','Mai-2021','Juin-2021','Juillet-2021','Aôut-2021','Septembre-2021','Novembre-2021','Décembre-2021','Janvier-2022','Février-2022','Mars-2022','Avril-2022','Mai-2022','Juin-2022','Juillet-2022','Aôut-2022','Septembre-2022','Octobre-2022','Novembre-2022','Décembre-2022','Janvier-2023','Février-2023']\n",
    "t.plot(x='date', y='chiffre_affaire',linestyle = 'dashed',marker = 'o')\n",
    "plt.xticks(t['date'],mois,rotation='vertical')\n",
    "plt.title('Evolution mensuelle du chiffre d\\'affaire')\n",
    "plt.xlabel('Mois')\n",
    "plt.ylabel('Chiffre d\\'affaire')\n",
    "plt.gcf().set_size_inches(14, 4)\n",
    "plt.grid()\n",
    "#plt.savefig('image.png', transparent = True)\n",
    "plt.show()\n",
    "plt.savefig('image.png'); plt.close()"
   ]
  },
  {
   "cell_type": "code",
   "execution_count": 83,
   "id": "99a35234",
   "metadata": {},
   "outputs": [
    {
     "data": {
      "text/plain": [
       "-0.3662836480063725"
      ]
     },
     "execution_count": 83,
     "metadata": {},
     "output_type": "execute_result"
    }
   ],
   "source": [
    "# Vérification de l'asymétrie de la distribution\n",
    "t['chiffre_affaire'].skew()"
   ]
  },
  {
   "cell_type": "code",
   "execution_count": 84,
   "id": "a88a2e0c",
   "metadata": {
    "scrolled": false
   },
   "outputs": [
    {
     "data": {
      "text/plain": [
       "<matplotlib.lines.Line2D at 0x1dca4513d30>"
      ]
     },
     "execution_count": 84,
     "metadata": {},
     "output_type": "execute_result"
    },
    {
     "data": {
      "image/png": "[encoded data removed]",
      "text/plain": [
       "<Figure size 1008x288 with 1 Axes>"
      ]
     },
     "metadata": {
      "needs_background": "light"
     },
     "output_type": "display_data"
    }
   ],
   "source": [
    "# Afficher l'histograme des valeurs après avoir supprimé le outlier (mois d'octobre)\n",
    "t['chiffre_affaire'].hist(density=True,bins=20)\n",
    "plt.axvline(t['chiffre_affaire'].mean(), color='k', linestyle='dashed', linewidth=2)"
   ]
  },
  {
   "attachments": {},
   "cell_type": "markdown",
   "id": "41fb1d71",
   "metadata": {},
   "source": [
    "##### Résultats :\n",
    "- Chiffre d'affaire total :11853728€\n",
    "- Chiffres d'affaires annuels : 2021 = 40.2%, 2022 = 51.5%, 2023 = 8.2%   (2021 et 2023 sont incomplètes)\n",
    "- Chiffre d'affaire du mois d'octobre (320798€)est anormalement bas, nous le considérons comme outlier et le supprimons pour ne pas biaiser nos analyses :\n",
    "   - Cat0 : 62% (199251€)\n",
    "   - Cat1 : 11% (33762€) correspond à seulement 5 jours de commandes\n",
    "   - Cat2 : 27% (87786€)\n",
    "   \n",
    "##### Interprétation :\n",
    "\n",
    "- La catégorie 1 en particulier et la catégorie 2 présentent un chiffre d'affaire très bas, cela est probablement à l'origine du chiffre d'affaire anormalement bas, les raisons sont à explorer, mais nous pouvons emettre une hypothèse de rupture de stock.\n",
    "\n",
    "###### Evolution du chiffre d'affaire mensuel\n",
    "- Période 03/2021-08/2021 : un chiffre d'affaire relativement stable oscillant entre 476109.30€ et 492943.47€\n",
    "- Période 09/2021-02/2022 : un chiffre d'affaire en augmentation constante de 507240.68€ à 535571.50€\n",
    "- Période 03/2022-02/2023 : un chiffre d'affaire oscillant entre 517132.60€ et 456679.76€, fin des relevés de chiffres d'affaires\n",
    "- Le faible chiffre d’affaire de la catégorie 1 est dû au grand nombre de jours durant lesquels il n’y a eu aucune commande"
   ]
  },
  {
   "cell_type": "markdown",
   "id": "020d43bd",
   "metadata": {},
   "source": [
    "------\n",
    "### 2. REPARTITION DU CHIFFRE D'AFFAIRE PAR CATEGORIE DE PRODUITS\n",
    "------\n",
    "##### Démarche :\n",
    "\n",
    "- Exclure les valeurs du mois d'octobre 2021 du dataset initial\n",
    "- Calculer les proportions de chiffre d'affaire pour chaque catégorie\n",
    "- Afficher une représentation graphique des résultats en utilisant un camembert"
   ]
  },
  {
   "cell_type": "code",
   "execution_count": 85,
   "id": "ba2d0c1e",
   "metadata": {
    "scrolled": false
   },
   "outputs": [
    {
     "data": {
      "text/html": [
       "<div>\n",
       "<style scoped>\n",
       "    .dataframe tbody tr th:only-of-type {\n",
       "        vertical-align: middle;\n",
       "    }\n",
       "\n",
       "    .dataframe tbody tr th {\n",
       "        vertical-align: top;\n",
       "    }\n",
       "\n",
       "    .dataframe thead th {\n",
       "        text-align: right;\n",
       "    }\n",
       "</style>\n",
       "<table border=\"1\" class=\"dataframe\">\n",
       "  <thead>\n",
       "    <tr style=\"text-align: right;\">\n",
       "      <th></th>\n",
       "      <th>id_prod</th>\n",
       "      <th>session_id</th>\n",
       "      <th>client_id</th>\n",
       "      <th>sex</th>\n",
       "      <th>birth</th>\n",
       "      <th>price</th>\n",
       "      <th>categ</th>\n",
       "      <th>année</th>\n",
       "      <th>mois</th>\n",
       "      <th>heure</th>\n",
       "      <th>jour</th>\n",
       "    </tr>\n",
       "    <tr>\n",
       "      <th>date</th>\n",
       "      <th></th>\n",
       "      <th></th>\n",
       "      <th></th>\n",
       "      <th></th>\n",
       "      <th></th>\n",
       "      <th></th>\n",
       "      <th></th>\n",
       "      <th></th>\n",
       "      <th></th>\n",
       "      <th></th>\n",
       "      <th></th>\n",
       "    </tr>\n",
       "  </thead>\n",
       "  <tbody>\n",
       "    <tr>\n",
       "      <th>2022-05-20 13:21:29.043970</th>\n",
       "      <td>0_1518</td>\n",
       "      <td>s_211425</td>\n",
       "      <td>c_103</td>\n",
       "      <td>f</td>\n",
       "      <td>1986</td>\n",
       "      <td>4.18</td>\n",
       "      <td>0</td>\n",
       "      <td>2022</td>\n",
       "      <td>5</td>\n",
       "      <td>13</td>\n",
       "      <td>Friday</td>\n",
       "    </tr>\n",
       "    <tr>\n",
       "      <th>2021-07-20 13:21:29.043970</th>\n",
       "      <td>0_1518</td>\n",
       "      <td>s_64849</td>\n",
       "      <td>c_103</td>\n",
       "      <td>f</td>\n",
       "      <td>1986</td>\n",
       "      <td>4.18</td>\n",
       "      <td>0</td>\n",
       "      <td>2021</td>\n",
       "      <td>7</td>\n",
       "      <td>13</td>\n",
       "      <td>Tuesday</td>\n",
       "    </tr>\n",
       "    <tr>\n",
       "      <th>2022-08-20 13:21:29.043970</th>\n",
       "      <td>0_1518</td>\n",
       "      <td>s_255965</td>\n",
       "      <td>c_103</td>\n",
       "      <td>f</td>\n",
       "      <td>1986</td>\n",
       "      <td>4.18</td>\n",
       "      <td>0</td>\n",
       "      <td>2022</td>\n",
       "      <td>8</td>\n",
       "      <td>13</td>\n",
       "      <td>Saturday</td>\n",
       "    </tr>\n",
       "    <tr>\n",
       "      <th>2021-05-09 11:52:55.100386</th>\n",
       "      <td>0_1518</td>\n",
       "      <td>s_32104</td>\n",
       "      <td>c_6714</td>\n",
       "      <td>f</td>\n",
       "      <td>1968</td>\n",
       "      <td>4.18</td>\n",
       "      <td>0</td>\n",
       "      <td>2021</td>\n",
       "      <td>5</td>\n",
       "      <td>11</td>\n",
       "      <td>Sunday</td>\n",
       "    </tr>\n",
       "    <tr>\n",
       "      <th>2022-05-30 01:17:07.487046</th>\n",
       "      <td>0_1518</td>\n",
       "      <td>s_216118</td>\n",
       "      <td>c_6714</td>\n",
       "      <td>f</td>\n",
       "      <td>1968</td>\n",
       "      <td>4.18</td>\n",
       "      <td>0</td>\n",
       "      <td>2022</td>\n",
       "      <td>5</td>\n",
       "      <td>1</td>\n",
       "      <td>Monday</td>\n",
       "    </tr>\n",
       "  </tbody>\n",
       "</table>\n",
       "</div>"
      ],
      "text/plain": [
       "                           id_prod session_id client_id sex  birth  price  \\\n",
       "date                                                                        \n",
       "2022-05-20 13:21:29.043970  0_1518   s_211425     c_103   f   1986   4.18   \n",
       "2021-07-20 13:21:29.043970  0_1518    s_64849     c_103   f   1986   4.18   \n",
       "2022-08-20 13:21:29.043970  0_1518   s_255965     c_103   f   1986   4.18   \n",
       "2021-05-09 11:52:55.100386  0_1518    s_32104    c_6714   f   1968   4.18   \n",
       "2022-05-30 01:17:07.487046  0_1518   s_216118    c_6714   f   1968   4.18   \n",
       "\n",
       "                           categ  année  mois  heure      jour  \n",
       "date                                                            \n",
       "2022-05-20 13:21:29.043970     0   2022     5     13    Friday  \n",
       "2021-07-20 13:21:29.043970     0   2021     7     13   Tuesday  \n",
       "2022-08-20 13:21:29.043970     0   2022     8     13  Saturday  \n",
       "2021-05-09 11:52:55.100386     0   2021     5     11    Sunday  \n",
       "2022-05-30 01:17:07.487046     0   2022     5      1    Monday  "
      ]
     },
     "execution_count": 85,
     "metadata": {},
     "output_type": "execute_result"
    }
   ],
   "source": [
    "#Afficher le dataframe sans les valeurs du mois d'octobre 2021 \n",
    "analyse=join2[join2.index.strftime('%Y-%m') != '2021-10']\n",
    "analyse.head()"
   ]
  },
  {
   "cell_type": "code",
   "execution_count": 86,
   "id": "bb0dfc4c",
   "metadata": {},
   "outputs": [
    {
     "data": {
      "text/html": [
       "<div>\n",
       "<style scoped>\n",
       "    .dataframe tbody tr th:only-of-type {\n",
       "        vertical-align: middle;\n",
       "    }\n",
       "\n",
       "    .dataframe tbody tr th {\n",
       "        vertical-align: top;\n",
       "    }\n",
       "\n",
       "    .dataframe thead th {\n",
       "        text-align: right;\n",
       "    }\n",
       "</style>\n",
       "<table border=\"1\" class=\"dataframe\">\n",
       "  <thead>\n",
       "    <tr style=\"text-align: right;\">\n",
       "      <th></th>\n",
       "      <th>nombre_vente</th>\n",
       "    </tr>\n",
       "    <tr>\n",
       "      <th>categ</th>\n",
       "      <th></th>\n",
       "    </tr>\n",
       "  </thead>\n",
       "  <tbody>\n",
       "    <tr>\n",
       "      <th>0</th>\n",
       "      <td>396697</td>\n",
       "    </tr>\n",
       "    <tr>\n",
       "      <th>1</th>\n",
       "      <td>225503</td>\n",
       "    </tr>\n",
       "    <tr>\n",
       "      <th>2</th>\n",
       "      <td>35312</td>\n",
       "    </tr>\n",
       "  </tbody>\n",
       "</table>\n",
       "</div>"
      ],
      "text/plain": [
       "       nombre_vente\n",
       "categ              \n",
       "0            396697\n",
       "1            225503\n",
       "2             35312"
      ]
     },
     "execution_count": 86,
     "metadata": {},
     "output_type": "execute_result"
    }
   ],
   "source": [
    "# Nombre de vente par catégorie\n",
    "nombre_vente=round(analyse.groupby('categ')['price'].agg(['count']))\n",
    "nombre_vente.rename(columns ={\"count\": \"nombre_vente\"}, inplace= True)\n",
    "nombre_vente.head()"
   ]
  },
  {
   "cell_type": "code",
   "execution_count": 87,
   "id": "621c9af3",
   "metadata": {
    "scrolled": true
   },
   "outputs": [
    {
     "data": {
      "text/html": [
       "<div>\n",
       "<style scoped>\n",
       "    .dataframe tbody tr th:only-of-type {\n",
       "        vertical-align: middle;\n",
       "    }\n",
       "\n",
       "    .dataframe tbody tr th {\n",
       "        vertical-align: top;\n",
       "    }\n",
       "\n",
       "    .dataframe thead th {\n",
       "        text-align: right;\n",
       "    }\n",
       "</style>\n",
       "<table border=\"1\" class=\"dataframe\">\n",
       "  <thead>\n",
       "    <tr style=\"text-align: right;\">\n",
       "      <th></th>\n",
       "      <th>chiffre_affaire</th>\n",
       "    </tr>\n",
       "    <tr>\n",
       "      <th>categ</th>\n",
       "      <th></th>\n",
       "    </tr>\n",
       "  </thead>\n",
       "  <tbody>\n",
       "    <tr>\n",
       "      <th>0</th>\n",
       "      <td>4220480.0</td>\n",
       "    </tr>\n",
       "    <tr>\n",
       "      <th>1</th>\n",
       "      <td>4619960.0</td>\n",
       "    </tr>\n",
       "    <tr>\n",
       "      <th>2</th>\n",
       "      <td>2692489.0</td>\n",
       "    </tr>\n",
       "  </tbody>\n",
       "</table>\n",
       "</div>"
      ],
      "text/plain": [
       "       chiffre_affaire\n",
       "categ                 \n",
       "0            4220480.0\n",
       "1            4619960.0\n",
       "2            2692489.0"
      ]
     },
     "execution_count": 87,
     "metadata": {},
     "output_type": "execute_result"
    }
   ],
   "source": [
    "ch_cat=round(analyse.groupby('categ')['price'].agg(['sum']))\n",
    "ch_cat.rename(columns ={\"sum\": \"chiffre_affaire\"}, inplace= True)\n",
    "ch_cat.head()"
   ]
  },
  {
   "cell_type": "code",
   "execution_count": 88,
   "id": "a459dd66",
   "metadata": {
    "scrolled": true
   },
   "outputs": [
    {
     "data": {
      "image/png": "[encoded data removed]",
      "text/plain": [
       "<Figure size 360x360 with 1 Axes>"
      ]
     },
     "metadata": {},
     "output_type": "display_data"
    }
   ],
   "source": [
    "# Affichage du graphique (camembert) du chiffre d'affaire réalisé par année\n",
    "plt.figure(figsize = (5, 5))\n",
    "explode = (0,0,0) # explode \"Alimentation des touristes\"\n",
    "plt.pie(ch_cat['chiffre_affaire'],explode= explode,labels=['Catégorie 0','Catégorie 1','Catégorie 2'],autopct='%1.1f%%', shadow=True, startangle=70)\n",
    "plt.title('Chiffre d\\'affaire par catégorie de produits')\n",
    "plt.axis('equal')\n",
    "plt.show()"
   ]
  },
  {
   "cell_type": "markdown",
   "id": "d8eeb9ed",
   "metadata": {},
   "source": [
    "##### Résultats\n",
    "\n",
    "    - Les catégories de produits peuvent être classées sur la période 03/2021 à 02/2023 en fonction du chiffre d'affaire              généré comme ci-dessous :\n",
    "        a- Catégorie 0 --> 4220480€ (36.6%)\n",
    "        b- Catégorie 1 --> 4619960€ (40.1%)\n",
    "        c- Catégorie 2 --> 2692489€ (23.3%)\n",
    "\n",
    "##### Inteprétation :\n",
    "Le chiffre d'affaire par catégorie dans l'ordre croissant : cat2 ==> cat0 ==> cat1\n",
    "\n",
    "##### Conclusion :\n",
    "Les produits de la cétégorie 1 sont les plus vendus"
   ]
  },
  {
   "cell_type": "markdown",
   "id": "6cfe9ca2",
   "metadata": {},
   "source": [
    "------\n",
    "## 3. REPARTITION DU CHIFFRE D'AFFAIRE PAR GENRE DU CLIENT\n",
    "------\n",
    "##### Démarche :\n",
    "\n",
    "- Calculer la répartition du chiffre d'affaire par sex\n",
    "- Calculer la répartition du chiffre d'affaire par sex et catégorie de produits \n",
    "- Représenter graphiquement les résultats\n"
   ]
  },
  {
   "cell_type": "code",
   "execution_count": 89,
   "id": "573f0f09",
   "metadata": {},
   "outputs": [
    {
     "data": {
      "text/html": [
       "<div>\n",
       "<style scoped>\n",
       "    .dataframe tbody tr th:only-of-type {\n",
       "        vertical-align: middle;\n",
       "    }\n",
       "\n",
       "    .dataframe tbody tr th {\n",
       "        vertical-align: top;\n",
       "    }\n",
       "\n",
       "    .dataframe thead th {\n",
       "        text-align: right;\n",
       "    }\n",
       "</style>\n",
       "<table border=\"1\" class=\"dataframe\">\n",
       "  <thead>\n",
       "    <tr style=\"text-align: right;\">\n",
       "      <th></th>\n",
       "      <th>chiffre_affaire</th>\n",
       "    </tr>\n",
       "    <tr>\n",
       "      <th>sex</th>\n",
       "      <th></th>\n",
       "    </tr>\n",
       "  </thead>\n",
       "  <tbody>\n",
       "    <tr>\n",
       "      <th>f</th>\n",
       "      <td>5704395.0</td>\n",
       "    </tr>\n",
       "    <tr>\n",
       "      <th>m</th>\n",
       "      <td>5828535.0</td>\n",
       "    </tr>\n",
       "  </tbody>\n",
       "</table>\n",
       "</div>"
      ],
      "text/plain": [
       "     chiffre_affaire\n",
       "sex                 \n",
       "f          5704395.0\n",
       "m          5828535.0"
      ]
     },
     "execution_count": 89,
     "metadata": {},
     "output_type": "execute_result"
    }
   ],
   "source": [
    "ch_sex=round(analyse.groupby('sex')['price'].agg(['sum']))\n",
    "ch_sex.rename(columns ={\"sum\": \"chiffre_affaire\"}, inplace= True)\n",
    "ch_sex.head()"
   ]
  },
  {
   "cell_type": "code",
   "execution_count": 90,
   "id": "8557412b",
   "metadata": {
    "scrolled": true
   },
   "outputs": [
    {
     "data": {
      "image/png": "[encoded data removed]",
      "text/plain": [
       "<Figure size 360x360 with 1 Axes>"
      ]
     },
     "metadata": {},
     "output_type": "display_data"
    }
   ],
   "source": [
    "# Affichage du graphique (camembert) du chiffre d'affaire réalisé par année\n",
    "plt.figure(figsize = (5, 5))\n",
    "explode = (0,0) # explode \"Alimentation des touristes\"\n",
    "plt.pie(ch_sex['chiffre_affaire'],explode= explode,labels=['Femmes','Hommes'],autopct='%1.1f%%', shadow=True, startangle=70)\n",
    "plt.title('Chiffre d\\'affaire par genre du client')\n",
    "plt.axis('equal')\n",
    "plt.show()"
   ]
  },
  {
   "cell_type": "markdown",
   "id": "22ae0b31",
   "metadata": {},
   "source": [
    "#### Répartition du chiffre d'affaire entre les femmes et les hommes par catégories de produits"
   ]
  },
  {
   "cell_type": "code",
   "execution_count": 91,
   "id": "691d4f19",
   "metadata": {
    "scrolled": true
   },
   "outputs": [
    {
     "data": {
      "text/html": [
       "<div>\n",
       "<style scoped>\n",
       "    .dataframe tbody tr th:only-of-type {\n",
       "        vertical-align: middle;\n",
       "    }\n",
       "\n",
       "    .dataframe tbody tr th {\n",
       "        vertical-align: top;\n",
       "    }\n",
       "\n",
       "    .dataframe thead th {\n",
       "        text-align: right;\n",
       "    }\n",
       "</style>\n",
       "<table border=\"1\" class=\"dataframe\">\n",
       "  <thead>\n",
       "    <tr style=\"text-align: right;\">\n",
       "      <th></th>\n",
       "      <th></th>\n",
       "      <th>chiffre_affaire</th>\n",
       "      <th>sex</th>\n",
       "    </tr>\n",
       "    <tr>\n",
       "      <th>sex</th>\n",
       "      <th>categ</th>\n",
       "      <th></th>\n",
       "      <th></th>\n",
       "    </tr>\n",
       "  </thead>\n",
       "  <tbody>\n",
       "    <tr>\n",
       "      <th rowspan=\"3\" valign=\"top\">f</th>\n",
       "      <th>0</th>\n",
       "      <td>2093117.0</td>\n",
       "      <td>(f, 0)</td>\n",
       "    </tr>\n",
       "    <tr>\n",
       "      <th>1</th>\n",
       "      <td>2341981.0</td>\n",
       "      <td>(f, 1)</td>\n",
       "    </tr>\n",
       "    <tr>\n",
       "      <th>2</th>\n",
       "      <td>1269296.0</td>\n",
       "      <td>(f, 2)</td>\n",
       "    </tr>\n",
       "    <tr>\n",
       "      <th rowspan=\"3\" valign=\"top\">m</th>\n",
       "      <th>0</th>\n",
       "      <td>2127363.0</td>\n",
       "      <td>(m, 0)</td>\n",
       "    </tr>\n",
       "    <tr>\n",
       "      <th>1</th>\n",
       "      <td>2277979.0</td>\n",
       "      <td>(m, 1)</td>\n",
       "    </tr>\n",
       "    <tr>\n",
       "      <th>2</th>\n",
       "      <td>1423193.0</td>\n",
       "      <td>(m, 2)</td>\n",
       "    </tr>\n",
       "  </tbody>\n",
       "</table>\n",
       "</div>"
      ],
      "text/plain": [
       "           chiffre_affaire     sex\n",
       "sex categ                         \n",
       "f   0            2093117.0  (f, 0)\n",
       "    1            2341981.0  (f, 1)\n",
       "    2            1269296.0  (f, 2)\n",
       "m   0            2127363.0  (m, 0)\n",
       "    1            2277979.0  (m, 1)\n",
       "    2            1423193.0  (m, 2)"
      ]
     },
     "execution_count": 91,
     "metadata": {},
     "output_type": "execute_result"
    }
   ],
   "source": [
    "#Méthode .pivot_table() pour affiner davantage la répartition des hommes et des femmes selon la catégorie d'achat\n",
    "#Utilisation de df (étape suivante)obtenu par jointure avec df_customers et df_transactionsv1_products\n",
    "fem_hom = round(analyse.groupby(['sex', 'categ'])['price'].agg(['sum']))\n",
    "fem_hom.rename(columns ={\"sum\": \"chiffre_affaire\"}, inplace= True)\n",
    "fem_hom['sex']=fem_hom.index\n",
    "fem_hom.head(6)"
   ]
  },
  {
   "cell_type": "code",
   "execution_count": 92,
   "id": "ef5dd51a",
   "metadata": {},
   "outputs": [
    {
     "data": {
      "text/plain": [
       "11532929.0"
      ]
     },
     "execution_count": 92,
     "metadata": {},
     "output_type": "execute_result"
    }
   ],
   "source": [
    "fem_hom['chiffre_affaire'].sum()"
   ]
  },
  {
   "cell_type": "code",
   "execution_count": 93,
   "id": "78c34b2e",
   "metadata": {
    "scrolled": true
   },
   "outputs": [
    {
     "data": {
      "image/png": "[encoded data removed]",
      "text/plain": [
       "<Figure size 360x360 with 1 Axes>"
      ]
     },
     "metadata": {},
     "output_type": "display_data"
    }
   ],
   "source": [
    "# Affichage du graphique (camembert) du chiffre d'affaire par sexet catégorie\n",
    "plt.figure(figsize = (5, 5))\n",
    "explode = (0,0,0,0,0,0) # explode \"Alimentation des touristes\"\n",
    "plt.pie(fem_hom['chiffre_affaire'],explode= explode,labels=['F0','F1','F2','H0','H1','H2'],autopct='%1.1f%%', shadow=True, startangle=70)\n",
    "plt.title('Chiffre d\\'affaire par sex et catégorie de produits')\n",
    "plt.axis('equal')\n",
    "plt.show()"
   ]
  },
  {
   "cell_type": "markdown",
   "id": "a818f74f",
   "metadata": {},
   "source": [
    "##### Résultats :\n",
    "- Le chiffre d'affaire par genre de client sur la période de référence 03/2021 à 02/2023 se presente comme ci-dessous :\n",
    "     - FEMMES --> 4619960€ (49.5%)\n",
    "     - HOMMES --> 4220480€ (50.5%)\n",
    "- Le chiffre d'affaire par genre et catégorie de produits\n",
    "     - FEMMES :\n",
    "         - CAT0 --> 2093117€ (18.1 %)\n",
    "         - CAT1 --> 2341981€ (20.3 %)\n",
    "         - CAT2 --> 1269296€ (11 %)\n",
    "     - HOMMES :\n",
    "        - CAT0 --> 2127363€ (18.4 %)\n",
    "        - CAT1 --> 2277979€ (19.8 %)\n",
    "        - CAT2 --> 1423193€ (12.3 %)\n",
    "        \n",
    "##### Interprétation :\n",
    "- La répartition du chiffre d'affaire est quasiment identique entre les hommes et les femmes, et c'est le cas également pour la répartition par sex et catégorie"
   ]
  },
  {
   "cell_type": "markdown",
   "id": "bd095dc7",
   "metadata": {},
   "source": [
    "### 4. LISTE DES CLIENTS QUI ONT GENERES LE PLUS DE CHIFFRE D'AFFAIRE \n",
    "\n",
    "##### Démarche :\n",
    "\n",
    "- Filtrer les clients par montant du chiffre d'affaire généré"
   ]
  },
  {
   "cell_type": "code",
   "execution_count": 94,
   "id": "0788e91d",
   "metadata": {},
   "outputs": [
    {
     "data": {
      "text/html": [
       "<div>\n",
       "<style scoped>\n",
       "    .dataframe tbody tr th:only-of-type {\n",
       "        vertical-align: middle;\n",
       "    }\n",
       "\n",
       "    .dataframe tbody tr th {\n",
       "        vertical-align: top;\n",
       "    }\n",
       "\n",
       "    .dataframe thead th {\n",
       "        text-align: right;\n",
       "    }\n",
       "</style>\n",
       "<table border=\"1\" class=\"dataframe\">\n",
       "  <thead>\n",
       "    <tr style=\"text-align: right;\">\n",
       "      <th></th>\n",
       "      <th>chiffre_affaire</th>\n",
       "    </tr>\n",
       "    <tr>\n",
       "      <th>client_id</th>\n",
       "      <th></th>\n",
       "    </tr>\n",
       "  </thead>\n",
       "  <tbody>\n",
       "    <tr>\n",
       "      <th>c_1609</th>\n",
       "      <td>312755.08</td>\n",
       "    </tr>\n",
       "    <tr>\n",
       "      <th>c_4958</th>\n",
       "      <td>282654.61</td>\n",
       "    </tr>\n",
       "    <tr>\n",
       "      <th>c_6714</th>\n",
       "      <td>149783.75</td>\n",
       "    </tr>\n",
       "    <tr>\n",
       "      <th>c_3454</th>\n",
       "      <td>111766.71</td>\n",
       "    </tr>\n",
       "    <tr>\n",
       "      <th>c_2899</th>\n",
       "      <td>5214.05</td>\n",
       "    </tr>\n",
       "    <tr>\n",
       "      <th>c_1570</th>\n",
       "      <td>5136.14</td>\n",
       "    </tr>\n",
       "    <tr>\n",
       "      <th>c_3263</th>\n",
       "      <td>5129.89</td>\n",
       "    </tr>\n",
       "    <tr>\n",
       "      <th>c_7319</th>\n",
       "      <td>5120.55</td>\n",
       "    </tr>\n",
       "    <tr>\n",
       "      <th>c_8026</th>\n",
       "      <td>4969.41</td>\n",
       "    </tr>\n",
       "    <tr>\n",
       "      <th>c_5263</th>\n",
       "      <td>4964.87</td>\n",
       "    </tr>\n",
       "  </tbody>\n",
       "</table>\n",
       "</div>"
      ],
      "text/plain": [
       "           chiffre_affaire\n",
       "client_id                 \n",
       "c_1609           312755.08\n",
       "c_4958           282654.61\n",
       "c_6714           149783.75\n",
       "c_3454           111766.71\n",
       "c_2899             5214.05\n",
       "c_1570             5136.14\n",
       "c_3263             5129.89\n",
       "c_7319             5120.55\n",
       "c_8026             4969.41\n",
       "c_5263             4964.87"
      ]
     },
     "execution_count": 94,
     "metadata": {},
     "output_type": "execute_result"
    }
   ],
   "source": [
    "# afficher les 10 meilleurs clients en terme de chiffre d'affaire généré\n",
    "top_clients=analyse.groupby('client_id')['price'].agg(['sum'])\n",
    "top_clients.rename(columns ={\"sum\": \"chiffre_affaire\"}, inplace= True)\n",
    "top_clients.sort_values(by='chiffre_affaire' , ascending = False).head(10)"
   ]
  },
  {
   "cell_type": "code",
   "execution_count": 95,
   "id": "c3eade2a",
   "metadata": {},
   "outputs": [
    {
     "data": {
      "image/png": "[encoded data removed]",
      "text/plain": [
       "<Figure size 1008x288 with 1 Axes>"
      ]
     },
     "metadata": {
      "needs_background": "light"
     },
     "output_type": "display_data"
    }
   ],
   "source": [
    "# générer un graphique barplot pour illutrer les 10 meilleurs clients\n",
    "tp=top_clients.sort_values(by='chiffre_affaire' , ascending = False).head(10)\n",
    "plt.figure(figsize = (14, 4))\n",
    "height =tp.\tchiffre_affaire\n",
    "bars =  tp.index\n",
    "y_pos = np.arange(len(bars))\n",
    " \n",
    "# Create horizontal bars\n",
    "plt.barh(y_pos, height)\n",
    " \n",
    "# Create names on the x-axis\n",
    "plt.yticks(y_pos, bars)\n",
    "plt.grid()\n",
    "plt.title(\"Les meilleurs clients en terme de de chiffre d\\'affaire généré\")\n",
    "plt.xlabel('Chiffre d\\'affaire')\n",
    "plt.ylabel(\"Clients\")\n",
    "plt.show()"
   ]
  },
  {
   "cell_type": "markdown",
   "id": "707743ee",
   "metadata": {},
   "source": [
    "##### Interprétation :\n",
    "\n",
    "- 4 meilleurs clients génèrent des chiffres d'affaires très élevés :\n",
    "    - c_1609 : 312755€ \n",
    "    - c_4958 : 282654€\n",
    "    - c_6714 : 149783€\n",
    "    - c_3454 : 111766€"
   ]
  },
  {
   "cell_type": "markdown",
   "id": "51a7bbeb",
   "metadata": {},
   "source": [
    "-----\n",
    "## 4. LES REFERENCES LES PLUS/MOINS VENDUES\n",
    "-----\n",
    "#### Démarche :\n",
    "\n",
    "- Lister les produits qui se sont le mieux vendus.\n",
    "- Lister les produits qui se sont le moins bien vendus.\n"
   ]
  },
  {
   "cell_type": "markdown",
   "id": "d9a5ac8a",
   "metadata": {},
   "source": [
    "### Les produits qui se sont le mieux vendus"
   ]
  },
  {
   "cell_type": "code",
   "execution_count": 96,
   "id": "557ac95e",
   "metadata": {},
   "outputs": [
    {
     "data": {
      "text/html": [
       "<div>\n",
       "<style scoped>\n",
       "    .dataframe tbody tr th:only-of-type {\n",
       "        vertical-align: middle;\n",
       "    }\n",
       "\n",
       "    .dataframe tbody tr th {\n",
       "        vertical-align: top;\n",
       "    }\n",
       "\n",
       "    .dataframe thead th {\n",
       "        text-align: right;\n",
       "    }\n",
       "</style>\n",
       "<table border=\"1\" class=\"dataframe\">\n",
       "  <thead>\n",
       "    <tr style=\"text-align: right;\">\n",
       "      <th></th>\n",
       "      <th>nombre_commande</th>\n",
       "    </tr>\n",
       "    <tr>\n",
       "      <th>id_prod</th>\n",
       "      <th></th>\n",
       "    </tr>\n",
       "  </thead>\n",
       "  <tbody>\n",
       "    <tr>\n",
       "      <th>1_369</th>\n",
       "      <td>2237</td>\n",
       "    </tr>\n",
       "    <tr>\n",
       "      <th>1_417</th>\n",
       "      <td>2173</td>\n",
       "    </tr>\n",
       "    <tr>\n",
       "      <th>1_414</th>\n",
       "      <td>2166</td>\n",
       "    </tr>\n",
       "    <tr>\n",
       "      <th>1_498</th>\n",
       "      <td>2117</td>\n",
       "    </tr>\n",
       "    <tr>\n",
       "      <th>1_425</th>\n",
       "      <td>2084</td>\n",
       "    </tr>\n",
       "    <tr>\n",
       "      <th>1_403</th>\n",
       "      <td>1950</td>\n",
       "    </tr>\n",
       "    <tr>\n",
       "      <th>1_412</th>\n",
       "      <td>1938</td>\n",
       "    </tr>\n",
       "    <tr>\n",
       "      <th>1_413</th>\n",
       "      <td>1931</td>\n",
       "    </tr>\n",
       "    <tr>\n",
       "      <th>1_406</th>\n",
       "      <td>1931</td>\n",
       "    </tr>\n",
       "    <tr>\n",
       "      <th>1_407</th>\n",
       "      <td>1923</td>\n",
       "    </tr>\n",
       "  </tbody>\n",
       "</table>\n",
       "</div>"
      ],
      "text/plain": [
       "         nombre_commande\n",
       "id_prod                 \n",
       "1_369               2237\n",
       "1_417               2173\n",
       "1_414               2166\n",
       "1_498               2117\n",
       "1_425               2084\n",
       "1_403               1950\n",
       "1_412               1938\n",
       "1_413               1931\n",
       "1_406               1931\n",
       "1_407               1923"
      ]
     },
     "execution_count": 96,
     "metadata": {},
     "output_type": "execute_result"
    }
   ],
   "source": [
    "# Afficher les produits qui se sont le mieux vendus par nombre de commandes \n",
    "top_vente=analyse.groupby('id_prod')['price'].agg(['count'])\n",
    "top_vente.rename(columns ={\"count\": \"nombre_commande\"}, inplace= True)\n",
    "top_vente.sort_values(by='nombre_commande' , ascending = False).head(10)\n"
   ]
  },
  {
   "cell_type": "markdown",
   "id": "7419e3c6",
   "metadata": {},
   "source": [
    "### Les produits qui se sont le moins bien vendus"
   ]
  },
  {
   "cell_type": "code",
   "execution_count": 97,
   "id": "9434aa5c",
   "metadata": {
    "scrolled": true
   },
   "outputs": [
    {
     "data": {
      "text/html": [
       "<div>\n",
       "<style scoped>\n",
       "    .dataframe tbody tr th:only-of-type {\n",
       "        vertical-align: middle;\n",
       "    }\n",
       "\n",
       "    .dataframe tbody tr th {\n",
       "        vertical-align: top;\n",
       "    }\n",
       "\n",
       "    .dataframe thead th {\n",
       "        text-align: right;\n",
       "    }\n",
       "</style>\n",
       "<table border=\"1\" class=\"dataframe\">\n",
       "  <thead>\n",
       "    <tr style=\"text-align: right;\">\n",
       "      <th></th>\n",
       "      <th>nombre_commande</th>\n",
       "    </tr>\n",
       "    <tr>\n",
       "      <th>id_prod</th>\n",
       "      <th></th>\n",
       "    </tr>\n",
       "  </thead>\n",
       "  <tbody>\n",
       "    <tr>\n",
       "      <th>0_1151</th>\n",
       "      <td>1</td>\n",
       "    </tr>\n",
       "    <tr>\n",
       "      <th>0_898</th>\n",
       "      <td>1</td>\n",
       "    </tr>\n",
       "    <tr>\n",
       "      <th>0_886</th>\n",
       "      <td>1</td>\n",
       "    </tr>\n",
       "    <tr>\n",
       "      <th>0_833</th>\n",
       "      <td>1</td>\n",
       "    </tr>\n",
       "    <tr>\n",
       "      <th>0_807</th>\n",
       "      <td>1</td>\n",
       "    </tr>\n",
       "    <tr>\n",
       "      <th>2_23</th>\n",
       "      <td>1</td>\n",
       "    </tr>\n",
       "    <tr>\n",
       "      <th>0_1498</th>\n",
       "      <td>1</td>\n",
       "    </tr>\n",
       "    <tr>\n",
       "      <th>0_541</th>\n",
       "      <td>1</td>\n",
       "    </tr>\n",
       "    <tr>\n",
       "      <th>0_1533</th>\n",
       "      <td>1</td>\n",
       "    </tr>\n",
       "    <tr>\n",
       "      <th>0_1539</th>\n",
       "      <td>1</td>\n",
       "    </tr>\n",
       "  </tbody>\n",
       "</table>\n",
       "</div>"
      ],
      "text/plain": [
       "         nombre_commande\n",
       "id_prod                 \n",
       "0_1151                 1\n",
       "0_898                  1\n",
       "0_886                  1\n",
       "0_833                  1\n",
       "0_807                  1\n",
       "2_23                   1\n",
       "0_1498                 1\n",
       "0_541                  1\n",
       "0_1533                 1\n",
       "0_1539                 1"
      ]
     },
     "execution_count": 97,
     "metadata": {},
     "output_type": "execute_result"
    }
   ],
   "source": [
    "# Afficher les produits qui se sont le moins vendus  \n",
    "top_vente.sort_values(by='nombre_commande' , ascending = True).head(10)\n"
   ]
  },
  {
   "cell_type": "code",
   "execution_count": 98,
   "id": "07cecbb5",
   "metadata": {},
   "outputs": [
    {
     "data": {
      "text/plain": [
       "nombre_commande    1580\n",
       "dtype: int64"
      ]
     },
     "execution_count": 98,
     "metadata": {},
     "output_type": "execute_result"
    }
   ],
   "source": [
    "# Afficher les produits qui se sont vendus à moins de 50 exemplaires\n",
    "top_vente[top_vente['nombre_commande']<50].count()"
   ]
  },
  {
   "cell_type": "markdown",
   "id": "bfd4fc62",
   "metadata": {},
   "source": [
    "##### Résultat :\n",
    "\n",
    "###### 10 produits les mieux vendus:\n",
    "(1_369, 1_417, 1_41, 1_498, 1_425, 1_403, 1_412, 1_413, 1_406, 1_407)\n",
    "###### 10 produits les moins bien vendus:\n",
    "(0_1151, 0_898, 0_886, 0_833, 0_807, 2_23, 0_1498, 0_541, 0_1533, 0_1539)\n",
    "- 1580 produits se sont vendus à moins de 50 exemplaires\n",
    "\n",
    "##### Interprétation et Conclusion :\n",
    "\n",
    "- Il semnlerait que les produits qui ont le plus de succès appartiennent à la catégrie 1\n",
    "- Il sembelrait également que les produits qui se sont le moins vendus appartiennent à la catégorie 0\n",
    "- 1580 produits commandés à moins de 50 exemplaires sur toute la période 2021, 2022 et 2023\n"
   ]
  },
  {
   "cell_type": "markdown",
   "id": "239e7ce7",
   "metadata": {},
   "source": [
    "------\n",
    "## 5. REPARTITION DU CHIFFRE D'AFFAIRE ENTRE LES CLIENTS\n",
    "------\n",
    "##### Démarche :\n",
    "\n",
    "- Pour illuster la répartition du chiffre d'affaire entre les clients nous utiliserons une courbe de lorenz\n",
    "- Calculer l'indice gini"
   ]
  },
  {
   "cell_type": "code",
   "execution_count": 99,
   "id": "b9453fed",
   "metadata": {
    "scrolled": true
   },
   "outputs": [
    {
     "data": {
      "text/html": [
       "<div>\n",
       "<style scoped>\n",
       "    .dataframe tbody tr th:only-of-type {\n",
       "        vertical-align: middle;\n",
       "    }\n",
       "\n",
       "    .dataframe tbody tr th {\n",
       "        vertical-align: top;\n",
       "    }\n",
       "\n",
       "    .dataframe thead th {\n",
       "        text-align: right;\n",
       "    }\n",
       "</style>\n",
       "<table border=\"1\" class=\"dataframe\">\n",
       "  <thead>\n",
       "    <tr style=\"text-align: right;\">\n",
       "      <th></th>\n",
       "      <th>chiffre_affaire</th>\n",
       "    </tr>\n",
       "    <tr>\n",
       "      <th>client_id</th>\n",
       "      <th></th>\n",
       "    </tr>\n",
       "  </thead>\n",
       "  <tbody>\n",
       "    <tr>\n",
       "      <th>c_1</th>\n",
       "      <td>550.19</td>\n",
       "    </tr>\n",
       "    <tr>\n",
       "      <th>c_10</th>\n",
       "      <td>1353.60</td>\n",
       "    </tr>\n",
       "    <tr>\n",
       "      <th>c_100</th>\n",
       "      <td>254.85</td>\n",
       "    </tr>\n",
       "    <tr>\n",
       "      <th>c_1000</th>\n",
       "      <td>2209.92</td>\n",
       "    </tr>\n",
       "    <tr>\n",
       "      <th>c_1001</th>\n",
       "      <td>1720.08</td>\n",
       "    </tr>\n",
       "  </tbody>\n",
       "</table>\n",
       "</div>"
      ],
      "text/plain": [
       "           chiffre_affaire\n",
       "client_id                 \n",
       "c_1                 550.19\n",
       "c_10               1353.60\n",
       "c_100               254.85\n",
       "c_1000             2209.92\n",
       "c_1001             1720.08"
      ]
     },
     "execution_count": 99,
     "metadata": {},
     "output_type": "execute_result"
    }
   ],
   "source": [
    "# afficher un dataset du chiffre d'affaire par client\n",
    "repart_par_client=analyse.groupby('client_id')['price'].agg(['sum'])\n",
    "repart_par_client.rename(columns ={\"sum\": \"chiffre_affaire\"}, inplace= True)\n",
    "repart_par_client.head()"
   ]
  },
  {
   "cell_type": "code",
   "execution_count": 100,
   "id": "276ce39b",
   "metadata": {},
   "outputs": [
    {
     "data": {
      "image/png": "[encoded data removed]",
      "text/plain": [
       "<Figure size 576x360 with 1 Axes>"
      ]
     },
     "metadata": {
      "needs_background": "light"
     },
     "output_type": "display_data"
    }
   ],
   "source": [
    "\n",
    "#Courbe de Lorenz sur la variable des âges \n",
    "fig, ax = plt.subplots(figsize=[8,5])\n",
    "dep = repart_par_client['chiffre_affaire'].values\n",
    "# Sélection du sous-échantillon de travail que l'on appelle dep\n",
    "\n",
    "#On place les observations dans une variable\n",
    "lorenz = np.cumsum(np.sort(dep)) / dep.sum()\n",
    "#Tri des individus dans l'ordre croissant des valeurs de la variable, \n",
    "#Calcul de la somme cumulée et normalisation en divisant par la somme des observations\n",
    "\n",
    "plt.plot(np.linspace(0,1,len(lorenz)), lorenz, drawstyle='steps-post', color='rosybrown', label='Lorenz')\n",
    "plt.fill_between(np.linspace(0,1,len(lorenz)) ,lorenz , color='#539ecd')\n",
    "plt.plot([0, 1], [0, 1], 'r-', lw=2, label='Distribution égalitaire')\n",
    "plt.vlines(x=.79, ymin=0, ymax=.5, color='blue', linestyle='--', linewidth=1, label='Medial')\n",
    "plt.hlines(xmin=.79, xmax=0, y=.5, color='blue', linestyle='--', linewidth=1)\n",
    "\n",
    "plt.title('Distribution du chiffre d\\'affaire par client\\n S = 0.44')\n",
    "plt.xlabel(\"Distribution des chiffres d\\'affaires (%)\")\n",
    "plt.ylabel(\"Cumul des Chiffres d\\'affaires clients (%)\")\n",
    "\n",
    "plt.legend(loc=\"best\")\n",
    "#plt.savefig(\"p6_graphic/lorenz_ca.png\")\n",
    "plt.grid()\n",
    "plt.show()\n"
   ]
  },
  {
   "cell_type": "code",
   "execution_count": 101,
   "id": "10f9d518",
   "metadata": {},
   "outputs": [
    {
     "data": {
      "text/plain": [
       "0.4473981710517282"
      ]
     },
     "execution_count": 101,
     "metadata": {},
     "output_type": "execute_result"
    }
   ],
   "source": [
    "# Calculer l'indice de gini\n",
    "n=len(dep)\n",
    "AUC = (lorenz.sum() -lorenz[-1]/2 -lorenz[0]/2)/n\n",
    "S = 0.5 - AUC # surface entre la première bissectrice et le courbe de Lorenz\n",
    "gini = 2*S\n",
    "gini"
   ]
  },
  {
   "cell_type": "markdown",
   "id": "88449294",
   "metadata": {},
   "source": [
    "##### Résultats\n",
    "- Indice de gini : 0.44\n",
    "\n",
    "##### Interprétation\n",
    "\n",
    "- indice de gini élevé\n",
    "- 50% du chiffre d'affaire pour 79% des clients\n",
    "- 21% des clients restants représentent les 50% du chiffre d'affaire restant\n",
    "\n",
    "\n",
    "##### Conclusion\n",
    "\n",
    "La répartition du montant du chiffre d'affaire n'est pas égalitaire entre les client puisque seulement 21% des clients ont dépensés 50% du CA"
   ]
  },
  {
   "cell_type": "markdown",
   "id": "8f61c371",
   "metadata": {},
   "source": [
    "------\n",
    "------\n",
    "## 6. ANALYSE DES CORRELATIONS\n",
    "------\n",
    "\n",
    "------\n",
    "### A. LIEN ENTRE LE GENRE DU CLIENT ET LA CATEGORIE DE LIVRES ACHETES\n",
    "-----\n",
    "-----\n",
    "##### Démarche :\n",
    "\n",
    "##### Rechercher une éventuelle association entre ces 2 variables en utilisant le test  CHI 2\n",
    "\n",
    "Pour cela émettons les 2 hypothèse du test:\n",
    "\n",
    "- Hypothèse nulle H0 : il n'existe pas d'association entre la variable sex et la variable catégorie de produit ==> ces 2 variables sont indépendantes\n",
    "- Hypohtèse H1 : il existe une association entre la variable âge et la variable catégorie de produit ==> ces 2 variables sont dépendantes\n",
    "- Degré de liberté calculé = 2\n",
    "- Valeur critique du chi 2 observé est calculé haut dela de laquelle l'hypotuèse nulle H0 sera rejeter : une valeur de chi 2 seuil corespondant à une erreur strandard de α = 5% avec un degrès de liberté de 2 donc chi2 seuil = 5.99\n",
    "\n"
   ]
  },
  {
   "cell_type": "markdown",
   "id": "7da13759",
   "metadata": {},
   "source": [
    "#### 2 VARIABLES QUALITATIVES"
   ]
  },
  {
   "cell_type": "code",
   "execution_count": 102,
   "id": "691b8c17",
   "metadata": {},
   "outputs": [
    {
     "data": {
      "text/html": [
       "<div>\n",
       "<style scoped>\n",
       "    .dataframe tbody tr th:only-of-type {\n",
       "        vertical-align: middle;\n",
       "    }\n",
       "\n",
       "    .dataframe tbody tr th {\n",
       "        vertical-align: top;\n",
       "    }\n",
       "\n",
       "    .dataframe thead th {\n",
       "        text-align: right;\n",
       "    }\n",
       "</style>\n",
       "<table border=\"1\" class=\"dataframe\">\n",
       "  <thead>\n",
       "    <tr style=\"text-align: right;\">\n",
       "      <th>categ</th>\n",
       "      <th>0</th>\n",
       "      <th>1</th>\n",
       "      <th>2</th>\n",
       "      <th>Total</th>\n",
       "    </tr>\n",
       "    <tr>\n",
       "      <th>sex</th>\n",
       "      <th></th>\n",
       "      <th></th>\n",
       "      <th></th>\n",
       "      <th></th>\n",
       "    </tr>\n",
       "  </thead>\n",
       "  <tbody>\n",
       "    <tr>\n",
       "      <th>f</th>\n",
       "      <td>196986.0</td>\n",
       "      <td>114087.0</td>\n",
       "      <td>16722.0</td>\n",
       "      <td>327795.0</td>\n",
       "    </tr>\n",
       "    <tr>\n",
       "      <th>m</th>\n",
       "      <td>199711.0</td>\n",
       "      <td>111416.0</td>\n",
       "      <td>18590.0</td>\n",
       "      <td>329717.0</td>\n",
       "    </tr>\n",
       "    <tr>\n",
       "      <th>Total</th>\n",
       "      <td>396697.0</td>\n",
       "      <td>225503.0</td>\n",
       "      <td>35312.0</td>\n",
       "      <td>657512.0</td>\n",
       "    </tr>\n",
       "  </tbody>\n",
       "</table>\n",
       "</div>"
      ],
      "text/plain": [
       "categ         0         1        2     Total\n",
       "sex                                         \n",
       "f      196986.0  114087.0  16722.0  327795.0\n",
       "m      199711.0  111416.0  18590.0  329717.0\n",
       "Total  396697.0  225503.0  35312.0  657512.0"
      ]
     },
     "execution_count": 102,
     "metadata": {},
     "output_type": "execute_result"
    }
   ],
   "source": [
    "# Afficher le tableau de contingence (resultats observés) des 2 variables 'sex' et 'catégorie'\n",
    "gen_cat=analyse.pivot_table( index= 'sex', columns = 'categ', values='price', aggfunc = len,margins=True, margins_name=\"Total\").fillna(0)\n",
    "gen_cat.head()"
   ]
  },
  {
   "cell_type": "code",
   "execution_count": 103,
   "id": "647b664f",
   "metadata": {
    "scrolled": true
   },
   "outputs": [
    {
     "data": {
      "text/html": [
       "<div>\n",
       "<style scoped>\n",
       "    .dataframe tbody tr th:only-of-type {\n",
       "        vertical-align: middle;\n",
       "    }\n",
       "\n",
       "    .dataframe tbody tr th {\n",
       "        vertical-align: top;\n",
       "    }\n",
       "\n",
       "    .dataframe thead th {\n",
       "        text-align: right;\n",
       "    }\n",
       "</style>\n",
       "<table border=\"1\" class=\"dataframe\">\n",
       "  <thead>\n",
       "    <tr style=\"text-align: right;\">\n",
       "      <th>categ</th>\n",
       "      <th>0</th>\n",
       "      <th>1</th>\n",
       "      <th>2</th>\n",
       "    </tr>\n",
       "    <tr>\n",
       "      <th>sex</th>\n",
       "      <th></th>\n",
       "      <th></th>\n",
       "      <th></th>\n",
       "    </tr>\n",
       "  </thead>\n",
       "  <tbody>\n",
       "    <tr>\n",
       "      <th>f</th>\n",
       "      <td>196986.0</td>\n",
       "      <td>114087.0</td>\n",
       "      <td>16722.0</td>\n",
       "    </tr>\n",
       "    <tr>\n",
       "      <th>m</th>\n",
       "      <td>199711.0</td>\n",
       "      <td>111416.0</td>\n",
       "      <td>18590.0</td>\n",
       "    </tr>\n",
       "  </tbody>\n",
       "</table>\n",
       "</div>"
      ],
      "text/plain": [
       "categ         0         1        2\n",
       "sex                               \n",
       "f      196986.0  114087.0  16722.0\n",
       "m      199711.0  111416.0  18590.0"
      ]
     },
     "execution_count": 103,
     "metadata": {},
     "output_type": "execute_result"
    }
   ],
   "source": [
    "# Afficher le tableau de contingence (résultats observés) sans les totaux\n",
    "gen=analyse.pivot_table( index= 'sex', columns = 'categ', values='price', aggfunc = len).fillna(0)\n",
    "gen.head()"
   ]
  },
  {
   "cell_type": "markdown",
   "id": "fdb59e67",
   "metadata": {},
   "source": [
    "### Calcule du critère du test khi 2 observé "
   ]
  },
  {
   "cell_type": "code",
   "execution_count": 104,
   "id": "ec8de228",
   "metadata": {},
   "outputs": [
    {
     "name": "stdout",
     "output_type": "stream",
     "text": [
      "chi2 observé : 143.5555396400573 \n",
      "p-value : 6.719092869603587e-32 \n",
      "degré de liberté : 2 \n",
      "resultas attendus : [[197768.69945339 112421.91151644  17604.38903016]\n",
      " [198928.30054661 113081.08848356  17707.61096984]]\n"
     ]
    }
   ],
   "source": [
    "# Afficher les valeurs de : chi2 observé, p-value, degré de liberté, les resultas attendus\n",
    "st_chi2, st_p, st_dof, st_exp = st.chi2_contingency(gen)\n",
    "print('chi2 observé :', st_chi2,'\\np-value :',st_p,'\\ndegré de liberté :',st_dof,'\\nresultas attendus :',st_exp)"
   ]
  },
  {
   "cell_type": "code",
   "execution_count": 105,
   "id": "849f52d1",
   "metadata": {},
   "outputs": [
    {
     "data": {
      "text/plain": [
       "True"
      ]
     },
     "execution_count": 105,
     "metadata": {},
     "output_type": "execute_result"
    }
   ],
   "source": [
    "# comparaison de la p-value à la valeur d'erreur standard\n",
    "st_p < 0.05"
   ]
  },
  {
   "cell_type": "markdown",
   "id": "303129de",
   "metadata": {},
   "source": [
    "##### Resultat\n",
    "\n",
    "- chi2 seuil = 5.99\n",
    "- p-value extrêmement petite < α = 5% \n",
    "- chi2 observé = 143.55 largement superieur au chi2 seuil\n",
    "\n",
    "##### Conclusion\n",
    "\n",
    "- La valeur de p-value obtenue est inferieur à la valeur d'erreur standard de 5%\n",
    "- Le chi2 oservé est largement superieur au khi2 seuil, on peut par conséquent rejeter l'hypothèse H0\n",
    "- On peut conclure qu'il y'a bien une association (dépendance) entre la variable sexe et la catégorie des produits achetés\n",
    "\n"
   ]
  },
  {
   "cell_type": "markdown",
   "id": "e589b7d4",
   "metadata": {},
   "source": [
    "-----\n",
    "-----\n",
    "### B. LE LIEN ENTRE L'AGE DES CLIENTS ET LE MONTANT TOTAL DES ACHATS\n",
    "-----\n",
    "-----\n",
    "##### Démarche :\n",
    "\n",
    "- Création d'une colonne âge.\n",
    "- Création d'un dataset en filtrant par âge et aggrégation en appliquant la somme de la variable price. \n",
    "- Calculer le coefficient de corrélation (Pearson) pour vérifier une éventuelle corrélation entre l'âge des clients et le montant total des achats.\n",
    "- Calculer également le coefficient de spearman\n",
    "- Vérification graphique d'une éventuelle corrélation entre la variable âge et le montant total des achats."
   ]
  },
  {
   "cell_type": "code",
   "execution_count": 106,
   "id": "074124e1",
   "metadata": {
    "scrolled": false
   },
   "outputs": [
    {
     "data": {
      "text/html": [
       "<div>\n",
       "<style scoped>\n",
       "    .dataframe tbody tr th:only-of-type {\n",
       "        vertical-align: middle;\n",
       "    }\n",
       "\n",
       "    .dataframe tbody tr th {\n",
       "        vertical-align: top;\n",
       "    }\n",
       "\n",
       "    .dataframe thead th {\n",
       "        text-align: right;\n",
       "    }\n",
       "</style>\n",
       "<table border=\"1\" class=\"dataframe\">\n",
       "  <thead>\n",
       "    <tr style=\"text-align: right;\">\n",
       "      <th></th>\n",
       "      <th>id_prod</th>\n",
       "      <th>session_id</th>\n",
       "      <th>client_id</th>\n",
       "      <th>sex</th>\n",
       "      <th>birth</th>\n",
       "      <th>price</th>\n",
       "      <th>categ</th>\n",
       "      <th>année</th>\n",
       "      <th>mois</th>\n",
       "      <th>heure</th>\n",
       "      <th>jour</th>\n",
       "      <th>age</th>\n",
       "    </tr>\n",
       "    <tr>\n",
       "      <th>date</th>\n",
       "      <th></th>\n",
       "      <th></th>\n",
       "      <th></th>\n",
       "      <th></th>\n",
       "      <th></th>\n",
       "      <th></th>\n",
       "      <th></th>\n",
       "      <th></th>\n",
       "      <th></th>\n",
       "      <th></th>\n",
       "      <th></th>\n",
       "      <th></th>\n",
       "    </tr>\n",
       "  </thead>\n",
       "  <tbody>\n",
       "    <tr>\n",
       "      <th>2022-05-20 13:21:29.043970</th>\n",
       "      <td>0_1518</td>\n",
       "      <td>s_211425</td>\n",
       "      <td>c_103</td>\n",
       "      <td>f</td>\n",
       "      <td>1986</td>\n",
       "      <td>4.18</td>\n",
       "      <td>0</td>\n",
       "      <td>2022</td>\n",
       "      <td>5</td>\n",
       "      <td>13</td>\n",
       "      <td>Friday</td>\n",
       "      <td>36.0</td>\n",
       "    </tr>\n",
       "    <tr>\n",
       "      <th>2021-07-20 13:21:29.043970</th>\n",
       "      <td>0_1518</td>\n",
       "      <td>s_64849</td>\n",
       "      <td>c_103</td>\n",
       "      <td>f</td>\n",
       "      <td>1986</td>\n",
       "      <td>4.18</td>\n",
       "      <td>0</td>\n",
       "      <td>2021</td>\n",
       "      <td>7</td>\n",
       "      <td>13</td>\n",
       "      <td>Tuesday</td>\n",
       "      <td>35.0</td>\n",
       "    </tr>\n",
       "    <tr>\n",
       "      <th>2022-08-20 13:21:29.043970</th>\n",
       "      <td>0_1518</td>\n",
       "      <td>s_255965</td>\n",
       "      <td>c_103</td>\n",
       "      <td>f</td>\n",
       "      <td>1986</td>\n",
       "      <td>4.18</td>\n",
       "      <td>0</td>\n",
       "      <td>2022</td>\n",
       "      <td>8</td>\n",
       "      <td>13</td>\n",
       "      <td>Saturday</td>\n",
       "      <td>36.0</td>\n",
       "    </tr>\n",
       "    <tr>\n",
       "      <th>2021-05-09 11:52:55.100386</th>\n",
       "      <td>0_1518</td>\n",
       "      <td>s_32104</td>\n",
       "      <td>c_6714</td>\n",
       "      <td>f</td>\n",
       "      <td>1968</td>\n",
       "      <td>4.18</td>\n",
       "      <td>0</td>\n",
       "      <td>2021</td>\n",
       "      <td>5</td>\n",
       "      <td>11</td>\n",
       "      <td>Sunday</td>\n",
       "      <td>53.0</td>\n",
       "    </tr>\n",
       "    <tr>\n",
       "      <th>2022-05-30 01:17:07.487046</th>\n",
       "      <td>0_1518</td>\n",
       "      <td>s_216118</td>\n",
       "      <td>c_6714</td>\n",
       "      <td>f</td>\n",
       "      <td>1968</td>\n",
       "      <td>4.18</td>\n",
       "      <td>0</td>\n",
       "      <td>2022</td>\n",
       "      <td>5</td>\n",
       "      <td>1</td>\n",
       "      <td>Monday</td>\n",
       "      <td>54.0</td>\n",
       "    </tr>\n",
       "  </tbody>\n",
       "</table>\n",
       "</div>"
      ],
      "text/plain": [
       "                           id_prod session_id client_id sex  birth  price  \\\n",
       "date                                                                        \n",
       "2022-05-20 13:21:29.043970  0_1518   s_211425     c_103   f   1986   4.18   \n",
       "2021-07-20 13:21:29.043970  0_1518    s_64849     c_103   f   1986   4.18   \n",
       "2022-08-20 13:21:29.043970  0_1518   s_255965     c_103   f   1986   4.18   \n",
       "2021-05-09 11:52:55.100386  0_1518    s_32104    c_6714   f   1968   4.18   \n",
       "2022-05-30 01:17:07.487046  0_1518   s_216118    c_6714   f   1968   4.18   \n",
       "\n",
       "                           categ  année  mois  heure      jour   age  \n",
       "date                                                                  \n",
       "2022-05-20 13:21:29.043970     0   2022     5     13    Friday  36.0  \n",
       "2021-07-20 13:21:29.043970     0   2021     7     13   Tuesday  35.0  \n",
       "2022-08-20 13:21:29.043970     0   2022     8     13  Saturday  36.0  \n",
       "2021-05-09 11:52:55.100386     0   2021     5     11    Sunday  53.0  \n",
       "2022-05-30 01:17:07.487046     0   2022     5      1    Monday  54.0  "
      ]
     },
     "execution_count": 106,
     "metadata": {},
     "output_type": "execute_result"
    }
   ],
   "source": [
    "# Créer une colonne age\n",
    "analyse['age']=analyse['année']-analyse['birth']\n",
    "analyse['age'] = analyse['age'].astype('float')\n",
    "analyse.head()"
   ]
  },
  {
   "cell_type": "code",
   "execution_count": 107,
   "id": "b0690c49",
   "metadata": {},
   "outputs": [
    {
     "data": {
      "text/plain": [
       "id_prod       0\n",
       "session_id    0\n",
       "client_id     0\n",
       "sex           0\n",
       "birth         0\n",
       "price         0\n",
       "categ         0\n",
       "année         0\n",
       "mois          0\n",
       "heure         0\n",
       "jour          0\n",
       "age           0\n",
       "dtype: int64"
      ]
     },
     "execution_count": 107,
     "metadata": {},
     "output_type": "execute_result"
    }
   ],
   "source": [
    "analyse.isnull().sum()"
   ]
  },
  {
   "cell_type": "code",
   "execution_count": 108,
   "id": "54e794bc",
   "metadata": {},
   "outputs": [
    {
     "data": {
      "text/html": [
       "<div>\n",
       "<style scoped>\n",
       "    .dataframe tbody tr th:only-of-type {\n",
       "        vertical-align: middle;\n",
       "    }\n",
       "\n",
       "    .dataframe tbody tr th {\n",
       "        vertical-align: top;\n",
       "    }\n",
       "\n",
       "    .dataframe thead th {\n",
       "        text-align: right;\n",
       "    }\n",
       "</style>\n",
       "<table border=\"1\" class=\"dataframe\">\n",
       "  <thead>\n",
       "    <tr style=\"text-align: right;\">\n",
       "      <th></th>\n",
       "      <th>montant_achat</th>\n",
       "      <th>age</th>\n",
       "    </tr>\n",
       "    <tr>\n",
       "      <th>age</th>\n",
       "      <th></th>\n",
       "      <th></th>\n",
       "    </tr>\n",
       "  </thead>\n",
       "  <tbody>\n",
       "    <tr>\n",
       "      <th>17.0</th>\n",
       "      <td>223666.37</td>\n",
       "      <td>17.0</td>\n",
       "    </tr>\n",
       "    <tr>\n",
       "      <th>18.0</th>\n",
       "      <td>379228.40</td>\n",
       "      <td>18.0</td>\n",
       "    </tr>\n",
       "    <tr>\n",
       "      <th>19.0</th>\n",
       "      <td>216489.94</td>\n",
       "      <td>19.0</td>\n",
       "    </tr>\n",
       "    <tr>\n",
       "      <th>20.0</th>\n",
       "      <td>172955.24</td>\n",
       "      <td>20.0</td>\n",
       "    </tr>\n",
       "    <tr>\n",
       "      <th>21.0</th>\n",
       "      <td>167638.98</td>\n",
       "      <td>21.0</td>\n",
       "    </tr>\n",
       "  </tbody>\n",
       "</table>\n",
       "</div>"
      ],
      "text/plain": [
       "      montant_achat   age\n",
       "age                      \n",
       "17.0      223666.37  17.0\n",
       "18.0      379228.40  18.0\n",
       "19.0      216489.94  19.0\n",
       "20.0      172955.24  20.0\n",
       "21.0      167638.98  21.0"
      ]
     },
     "execution_count": 108,
     "metadata": {},
     "output_type": "execute_result"
    }
   ],
   "source": [
    "age_ca=analyse.groupby('age')['price'].agg(['sum'])\n",
    "age_ca.rename(columns ={\"sum\": \"montant_achat\"}, inplace= True)\n",
    "age_ca['age']=age_ca.index\n",
    "age_ca.head()"
   ]
  },
  {
   "cell_type": "markdown",
   "id": "bbf3ae30",
   "metadata": {},
   "source": [
    "##### Utilisation d'un indicateur numérique : coefficient de corrélation (Pearson) pour vérifier une éventuelle corrélation entre l'âge des clients et le montant total des achats "
   ]
  },
  {
   "cell_type": "code",
   "execution_count": 109,
   "id": "d4a570b3",
   "metadata": {
    "scrolled": true
   },
   "outputs": [
    {
     "data": {
      "text/html": [
       "<div>\n",
       "<style scoped>\n",
       "    .dataframe tbody tr th:only-of-type {\n",
       "        vertical-align: middle;\n",
       "    }\n",
       "\n",
       "    .dataframe tbody tr th {\n",
       "        vertical-align: top;\n",
       "    }\n",
       "\n",
       "    .dataframe thead th {\n",
       "        text-align: right;\n",
       "    }\n",
       "</style>\n",
       "<table border=\"1\" class=\"dataframe\">\n",
       "  <thead>\n",
       "    <tr style=\"text-align: right;\">\n",
       "      <th></th>\n",
       "      <th>montant_achat</th>\n",
       "      <th>age</th>\n",
       "    </tr>\n",
       "  </thead>\n",
       "  <tbody>\n",
       "    <tr>\n",
       "      <th>montant_achat</th>\n",
       "      <td>1.000000</td>\n",
       "      <td>-0.855734</td>\n",
       "    </tr>\n",
       "    <tr>\n",
       "      <th>age</th>\n",
       "      <td>-0.855734</td>\n",
       "      <td>1.000000</td>\n",
       "    </tr>\n",
       "  </tbody>\n",
       "</table>\n",
       "</div>"
      ],
      "text/plain": [
       "               montant_achat       age\n",
       "montant_achat       1.000000 -0.855734\n",
       "age                -0.855734  1.000000"
      ]
     },
     "execution_count": 109,
     "metadata": {},
     "output_type": "execute_result"
    }
   ],
   "source": [
    "# Calculer le coefficient de corrélation (Pearson)\n",
    "age_ca.corr()"
   ]
  },
  {
   "cell_type": "code",
   "execution_count": 110,
   "id": "0e31d079",
   "metadata": {},
   "outputs": [
    {
     "data": {
      "text/plain": [
       "-0.8708633139012885"
      ]
     },
     "execution_count": 110,
     "metadata": {},
     "output_type": "execute_result"
    }
   ],
   "source": [
    "# Calculer le coéfficient de Spearman\n",
    "age_ca['montant_achat'].corr(age_ca['age'],method='spearman')"
   ]
  },
  {
   "cell_type": "markdown",
   "id": "1dbdd0ee",
   "metadata": {},
   "source": [
    "#### Vérification avec un diagramme de dispersion "
   ]
  },
  {
   "cell_type": "code",
   "execution_count": 111,
   "id": "c8588fe9",
   "metadata": {},
   "outputs": [
    {
     "data": {
      "image/png": "[encoded data removed]",
      "text/plain": [
       "<Figure size 1008x288 with 1 Axes>"
      ]
     },
     "metadata": {
      "needs_background": "light"
     },
     "output_type": "display_data"
    }
   ],
   "source": [
    "# Afficher un graphique du chiffre d'affaire en fonction du prix produit\n",
    "plt.figure(figsize = (14, 4))\n",
    "plt.scatter(age_ca['age'],age_ca['montant_achat'])\n",
    "plt.ylim(0, 500000)\n",
    "plt.title(\"Montant total des achats par âge du client\\nr = - 0.85\")\n",
    "plt.xlabel('Age')\n",
    "plt.ylabel(\"Montant total des achats\")\n",
    "plt.grid()\n",
    "plt.show()"
   ]
  },
  {
   "cell_type": "markdown",
   "id": "9930a528",
   "metadata": {},
   "source": [
    "##### Résultat :\n",
    "\n",
    "- Le coefficient de corrélation (Pearson) r = -0.85\n",
    "- Le coefficient de Spearman = -0.87 \n",
    "- Le graphique de dispersion indique une relation liniaire entre ces 2 variables\n",
    "\n",
    "##### Conclusion :\n",
    "\n",
    "Les 2 variables étudiées, présentent une forte corrélation négative, à savoir le montant total des achats diminue avec l'augmentation de l'âge avec une tendance linéaire et monotone"
   ]
  },
  {
   "cell_type": "markdown",
   "id": "d046a3c2",
   "metadata": {},
   "source": [
    "----\n",
    "----\n",
    "### C. LE LIEN ENTRE L'AGE DES CLIENTS ET LA FREQUENCE D'ACHAT\n",
    "----\n",
    "----\n",
    "##### Démarche :\n",
    "- Création d'un dataset fréquence d'achat par âge du client \n",
    "- Utilisation de la fonction corr() pour calculer le coefficient de corrélation (Pearson) et spearman pour vérifier une éventuelle corrélation entre l'âge des clients et la fréquence des achats.\n",
    "- Vérification graphique d'une éventuelle corrélation entre la variable âge et la fréquence des achats."
   ]
  },
  {
   "cell_type": "code",
   "execution_count": 112,
   "id": "da9d0dba",
   "metadata": {},
   "outputs": [
    {
     "data": {
      "text/html": [
       "<div>\n",
       "<style scoped>\n",
       "    .dataframe tbody tr th:only-of-type {\n",
       "        vertical-align: middle;\n",
       "    }\n",
       "\n",
       "    .dataframe tbody tr th {\n",
       "        vertical-align: top;\n",
       "    }\n",
       "\n",
       "    .dataframe thead th {\n",
       "        text-align: right;\n",
       "    }\n",
       "</style>\n",
       "<table border=\"1\" class=\"dataframe\">\n",
       "  <thead>\n",
       "    <tr style=\"text-align: right;\">\n",
       "      <th></th>\n",
       "      <th>frequence_achat</th>\n",
       "      <th>age</th>\n",
       "    </tr>\n",
       "    <tr>\n",
       "      <th>age</th>\n",
       "      <th></th>\n",
       "      <th></th>\n",
       "    </tr>\n",
       "  </thead>\n",
       "  <tbody>\n",
       "    <tr>\n",
       "      <th>17.0</th>\n",
       "      <td>0.008449</td>\n",
       "      <td>17.0</td>\n",
       "    </tr>\n",
       "    <tr>\n",
       "      <th>18.0</th>\n",
       "      <td>0.014453</td>\n",
       "      <td>18.0</td>\n",
       "    </tr>\n",
       "    <tr>\n",
       "      <th>19.0</th>\n",
       "      <td>0.008044</td>\n",
       "      <td>19.0</td>\n",
       "    </tr>\n",
       "    <tr>\n",
       "      <th>20.0</th>\n",
       "      <td>0.006599</td>\n",
       "      <td>20.0</td>\n",
       "    </tr>\n",
       "    <tr>\n",
       "      <th>21.0</th>\n",
       "      <td>0.006371</td>\n",
       "      <td>21.0</td>\n",
       "    </tr>\n",
       "  </tbody>\n",
       "</table>\n",
       "</div>"
      ],
      "text/plain": [
       "      frequence_achat   age\n",
       "age                        \n",
       "17.0         0.008449  17.0\n",
       "18.0         0.014453  18.0\n",
       "19.0         0.008044  19.0\n",
       "20.0         0.006599  20.0\n",
       "21.0         0.006371  21.0"
      ]
     },
     "execution_count": 112,
     "metadata": {},
     "output_type": "execute_result"
    }
   ],
   "source": [
    "u=analyse.groupby('age')[['session_id']].count() / analyse['session_id'].count()\n",
    "u.rename(columns ={\"session_id\": \"frequence_achat\"}, inplace= True)\n",
    "u['age']=u.index\n",
    "u.head()"
   ]
  },
  {
   "cell_type": "code",
   "execution_count": 113,
   "id": "83ffaf36",
   "metadata": {},
   "outputs": [
    {
     "data": {
      "text/html": [
       "<div>\n",
       "<style scoped>\n",
       "    .dataframe tbody tr th:only-of-type {\n",
       "        vertical-align: middle;\n",
       "    }\n",
       "\n",
       "    .dataframe tbody tr th {\n",
       "        vertical-align: top;\n",
       "    }\n",
       "\n",
       "    .dataframe thead th {\n",
       "        text-align: right;\n",
       "    }\n",
       "</style>\n",
       "<table border=\"1\" class=\"dataframe\">\n",
       "  <thead>\n",
       "    <tr style=\"text-align: right;\">\n",
       "      <th></th>\n",
       "      <th>frequence_achat</th>\n",
       "      <th>age</th>\n",
       "    </tr>\n",
       "  </thead>\n",
       "  <tbody>\n",
       "    <tr>\n",
       "      <th>frequence_achat</th>\n",
       "      <td>1.000000</td>\n",
       "      <td>-0.555721</td>\n",
       "    </tr>\n",
       "    <tr>\n",
       "      <th>age</th>\n",
       "      <td>-0.555721</td>\n",
       "      <td>1.000000</td>\n",
       "    </tr>\n",
       "  </tbody>\n",
       "</table>\n",
       "</div>"
      ],
      "text/plain": [
       "                 frequence_achat       age\n",
       "frequence_achat         1.000000 -0.555721\n",
       "age                    -0.555721  1.000000"
      ]
     },
     "execution_count": 113,
     "metadata": {},
     "output_type": "execute_result"
    }
   ],
   "source": [
    "# Calculer le coefficient de corrélation (Pearson)\n",
    "u.corr()"
   ]
  },
  {
   "cell_type": "code",
   "execution_count": 114,
   "id": "beaecb46",
   "metadata": {},
   "outputs": [
    {
     "data": {
      "text/plain": [
       "-0.7020953729814489"
      ]
     },
     "execution_count": 114,
     "metadata": {},
     "output_type": "execute_result"
    }
   ],
   "source": [
    "# Calculer le coéfficient de Spearman\n",
    "u['frequence_achat'].corr(u['age'],method='spearman')"
   ]
  },
  {
   "cell_type": "code",
   "execution_count": 115,
   "id": "0fe99898",
   "metadata": {
    "scrolled": true
   },
   "outputs": [
    {
     "data": {
      "image/png": "[encoded data removed]",
      "text/plain": [
       "<Figure size 1008x288 with 1 Axes>"
      ]
     },
     "metadata": {
      "needs_background": "light"
     },
     "output_type": "display_data"
    }
   ],
   "source": [
    "# Afficher le graphique de dispersion de la fréquence des achats par âge de client\n",
    "plt.figure(figsize = (14, 4))\n",
    "plt.scatter(u['age'],u['frequence_achat'])\n",
    "plt.ylim(0, 0.08)\n",
    "plt.title(\"Fréquence des achats par âge de client\\n r = - 0.55\")\n",
    "plt.xlabel('Age')\n",
    "plt.ylabel(\"Fréquence des achats\")\n",
    "plt.grid()\n",
    "plt.show()"
   ]
  },
  {
   "cell_type": "markdown",
   "id": "076659f5",
   "metadata": {},
   "source": [
    "##### Résultat :\n",
    "\n",
    "- Le coefficient de corrélation (Pearson) r = - 0.55 , on constate qu'il est négatif\n",
    "- Le coefficient de corrélation de Spearman = - 0.70 , on constate également qu'il est négatif\n",
    "- Comme on peut le voir sur le nuage de dispersion, les données ne suivent pas une tendance linéaire \n",
    "\n",
    "##### Conclusion :\n",
    "\n",
    "Nous pouvons conclure que cette distribution suit une tendance monotone, non linéaire avec une corrélation négative entre l'âge et la fréquence d'achat"
   ]
  },
  {
   "cell_type": "markdown",
   "id": "7f7aa5d0",
   "metadata": {},
   "source": [
    "-----\n",
    "-----\n",
    "### D. LE LIEN ENTRE L'AGE DES CLIENTS ET  LA TAILLE DU PANIER MOYEN\n",
    "-----\n",
    "-----\n",
    "##### Démarche :\n",
    "\n",
    "- Création d'un dataframe en filtrant par âge et aggrégation en appliquant la moyenne de la variable price. \n",
    "- Utilisation de la fonction corr() pour calculer le coefficient de corrélation (Pearson) pour vérifier une éventuelle corrélation entre l'âge des clients et la taille du panier moyen.\n",
    "- Vérification graphique d'une éventuelle corrélation entre la variable âge et la taille du panier moyen."
   ]
  },
  {
   "cell_type": "code",
   "execution_count": 116,
   "id": "a347c117",
   "metadata": {
    "scrolled": true
   },
   "outputs": [
    {
     "data": {
      "text/html": [
       "<div>\n",
       "<style scoped>\n",
       "    .dataframe tbody tr th:only-of-type {\n",
       "        vertical-align: middle;\n",
       "    }\n",
       "\n",
       "    .dataframe tbody tr th {\n",
       "        vertical-align: top;\n",
       "    }\n",
       "\n",
       "    .dataframe thead th {\n",
       "        text-align: right;\n",
       "    }\n",
       "</style>\n",
       "<table border=\"1\" class=\"dataframe\">\n",
       "  <thead>\n",
       "    <tr style=\"text-align: right;\">\n",
       "      <th></th>\n",
       "      <th>id_prod</th>\n",
       "      <th>session_id</th>\n",
       "      <th>client_id</th>\n",
       "      <th>sex</th>\n",
       "      <th>birth</th>\n",
       "      <th>price</th>\n",
       "      <th>categ</th>\n",
       "      <th>année</th>\n",
       "      <th>mois</th>\n",
       "      <th>heure</th>\n",
       "      <th>jour</th>\n",
       "      <th>age</th>\n",
       "    </tr>\n",
       "    <tr>\n",
       "      <th>date</th>\n",
       "      <th></th>\n",
       "      <th></th>\n",
       "      <th></th>\n",
       "      <th></th>\n",
       "      <th></th>\n",
       "      <th></th>\n",
       "      <th></th>\n",
       "      <th></th>\n",
       "      <th></th>\n",
       "      <th></th>\n",
       "      <th></th>\n",
       "      <th></th>\n",
       "    </tr>\n",
       "  </thead>\n",
       "  <tbody>\n",
       "    <tr>\n",
       "      <th>2022-05-20 13:21:29.043970</th>\n",
       "      <td>0_1518</td>\n",
       "      <td>s_211425</td>\n",
       "      <td>c_103</td>\n",
       "      <td>f</td>\n",
       "      <td>1986</td>\n",
       "      <td>4.18</td>\n",
       "      <td>0</td>\n",
       "      <td>2022</td>\n",
       "      <td>5</td>\n",
       "      <td>13</td>\n",
       "      <td>Friday</td>\n",
       "      <td>36.0</td>\n",
       "    </tr>\n",
       "    <tr>\n",
       "      <th>2021-07-20 13:21:29.043970</th>\n",
       "      <td>0_1518</td>\n",
       "      <td>s_64849</td>\n",
       "      <td>c_103</td>\n",
       "      <td>f</td>\n",
       "      <td>1986</td>\n",
       "      <td>4.18</td>\n",
       "      <td>0</td>\n",
       "      <td>2021</td>\n",
       "      <td>7</td>\n",
       "      <td>13</td>\n",
       "      <td>Tuesday</td>\n",
       "      <td>35.0</td>\n",
       "    </tr>\n",
       "    <tr>\n",
       "      <th>2022-08-20 13:21:29.043970</th>\n",
       "      <td>0_1518</td>\n",
       "      <td>s_255965</td>\n",
       "      <td>c_103</td>\n",
       "      <td>f</td>\n",
       "      <td>1986</td>\n",
       "      <td>4.18</td>\n",
       "      <td>0</td>\n",
       "      <td>2022</td>\n",
       "      <td>8</td>\n",
       "      <td>13</td>\n",
       "      <td>Saturday</td>\n",
       "      <td>36.0</td>\n",
       "    </tr>\n",
       "    <tr>\n",
       "      <th>2021-05-09 11:52:55.100386</th>\n",
       "      <td>0_1518</td>\n",
       "      <td>s_32104</td>\n",
       "      <td>c_6714</td>\n",
       "      <td>f</td>\n",
       "      <td>1968</td>\n",
       "      <td>4.18</td>\n",
       "      <td>0</td>\n",
       "      <td>2021</td>\n",
       "      <td>5</td>\n",
       "      <td>11</td>\n",
       "      <td>Sunday</td>\n",
       "      <td>53.0</td>\n",
       "    </tr>\n",
       "    <tr>\n",
       "      <th>2022-05-30 01:17:07.487046</th>\n",
       "      <td>0_1518</td>\n",
       "      <td>s_216118</td>\n",
       "      <td>c_6714</td>\n",
       "      <td>f</td>\n",
       "      <td>1968</td>\n",
       "      <td>4.18</td>\n",
       "      <td>0</td>\n",
       "      <td>2022</td>\n",
       "      <td>5</td>\n",
       "      <td>1</td>\n",
       "      <td>Monday</td>\n",
       "      <td>54.0</td>\n",
       "    </tr>\n",
       "  </tbody>\n",
       "</table>\n",
       "</div>"
      ],
      "text/plain": [
       "                           id_prod session_id client_id sex  birth  price  \\\n",
       "date                                                                        \n",
       "2022-05-20 13:21:29.043970  0_1518   s_211425     c_103   f   1986   4.18   \n",
       "2021-07-20 13:21:29.043970  0_1518    s_64849     c_103   f   1986   4.18   \n",
       "2022-08-20 13:21:29.043970  0_1518   s_255965     c_103   f   1986   4.18   \n",
       "2021-05-09 11:52:55.100386  0_1518    s_32104    c_6714   f   1968   4.18   \n",
       "2022-05-30 01:17:07.487046  0_1518   s_216118    c_6714   f   1968   4.18   \n",
       "\n",
       "                           categ  année  mois  heure      jour   age  \n",
       "date                                                                  \n",
       "2022-05-20 13:21:29.043970     0   2022     5     13    Friday  36.0  \n",
       "2021-07-20 13:21:29.043970     0   2021     7     13   Tuesday  35.0  \n",
       "2022-08-20 13:21:29.043970     0   2022     8     13  Saturday  36.0  \n",
       "2021-05-09 11:52:55.100386     0   2021     5     11    Sunday  53.0  \n",
       "2022-05-30 01:17:07.487046     0   2022     5      1    Monday  54.0  "
      ]
     },
     "execution_count": 116,
     "metadata": {},
     "output_type": "execute_result"
    }
   ],
   "source": [
    "analyse.head()"
   ]
  },
  {
   "cell_type": "code",
   "execution_count": 117,
   "id": "997ac152",
   "metadata": {
    "scrolled": true
   },
   "outputs": [
    {
     "data": {
      "text/html": [
       "<div>\n",
       "<style scoped>\n",
       "    .dataframe tbody tr th:only-of-type {\n",
       "        vertical-align: middle;\n",
       "    }\n",
       "\n",
       "    .dataframe tbody tr th {\n",
       "        vertical-align: top;\n",
       "    }\n",
       "\n",
       "    .dataframe thead th {\n",
       "        text-align: right;\n",
       "    }\n",
       "</style>\n",
       "<table border=\"1\" class=\"dataframe\">\n",
       "  <thead>\n",
       "    <tr style=\"text-align: right;\">\n",
       "      <th></th>\n",
       "      <th>taille_panier_moyen</th>\n",
       "      <th>age</th>\n",
       "    </tr>\n",
       "    <tr>\n",
       "      <th>age</th>\n",
       "      <th></th>\n",
       "      <th></th>\n",
       "    </tr>\n",
       "  </thead>\n",
       "  <tbody>\n",
       "    <tr>\n",
       "      <th>17.0</th>\n",
       "      <td>12.770115</td>\n",
       "      <td>17.0</td>\n",
       "    </tr>\n",
       "    <tr>\n",
       "      <th>18.0</th>\n",
       "      <td>16.555749</td>\n",
       "      <td>18.0</td>\n",
       "    </tr>\n",
       "    <tr>\n",
       "      <th>19.0</th>\n",
       "      <td>8.713344</td>\n",
       "      <td>19.0</td>\n",
       "    </tr>\n",
       "    <tr>\n",
       "      <th>20.0</th>\n",
       "      <td>11.822888</td>\n",
       "      <td>20.0</td>\n",
       "    </tr>\n",
       "    <tr>\n",
       "      <th>21.0</th>\n",
       "      <td>11.766854</td>\n",
       "      <td>21.0</td>\n",
       "    </tr>\n",
       "  </tbody>\n",
       "</table>\n",
       "</div>"
      ],
      "text/plain": [
       "      taille_panier_moyen   age\n",
       "age                            \n",
       "17.0            12.770115  17.0\n",
       "18.0            16.555749  18.0\n",
       "19.0             8.713344  19.0\n",
       "20.0            11.822888  20.0\n",
       "21.0            11.766854  21.0"
      ]
     },
     "execution_count": 117,
     "metadata": {},
     "output_type": "execute_result"
    }
   ],
   "source": [
    "#h=analyse.groupby(['age'])[['price']].mean()\n",
    "h = analyse.groupby(['client_id', 'age'])[['price']].count().groupby(level=\"age\").mean()\n",
    "h.rename(columns ={\"price\": \"taille_panier_moyen\"}, inplace= True)\n",
    "h['age']=h.index\n",
    "h.head()"
   ]
  },
  {
   "cell_type": "code",
   "execution_count": 118,
   "id": "27c8e6dc",
   "metadata": {
    "scrolled": false
   },
   "outputs": [
    {
     "data": {
      "image/png": "[encoded data removed]",
      "text/plain": [
       "<Figure size 1008x288 with 1 Axes>"
      ]
     },
     "metadata": {
      "needs_background": "light"
     },
     "output_type": "display_data"
    }
   ],
   "source": [
    "# Afficher le graphique de dispersion de la fréquence des achats par âge de client\n",
    "plt.figure(figsize = (14, 4))\n",
    "plt.scatter(h['age'],h['taille_panier_moyen'])\n",
    "plt.ylim(0, 50)\n",
    "plt.title(\"Taille du panier moyen par âge de client\\n r = - 0.29\")\n",
    "plt.xlabel('Age')\n",
    "plt.ylabel(\"Taille du panier moyen\")\n",
    "plt.grid()\n",
    "plt.show()"
   ]
  },
  {
   "cell_type": "markdown",
   "id": "16e49959",
   "metadata": {},
   "source": [
    "##### Etudier la répartition de ces 2 variables séparément avec des histogrammes "
   ]
  },
  {
   "cell_type": "code",
   "execution_count": 119,
   "id": "84f36e23",
   "metadata": {},
   "outputs": [
    {
     "data": {
      "image/png": "[encoded data removed]",
      "text/plain": [
       "<Figure size 864x28800 with 2 Axes>"
      ]
     },
     "metadata": {
      "needs_background": "light"
     },
     "output_type": "display_data"
    }
   ],
   "source": [
    "plt.figure(figsize=(12, 400))\n",
    "plt.grid()\n",
    "plt.subplot(78,1,1)\n",
    "plt.hist(h['taille_panier_moyen'])\n",
    "plt.xlabel('Taille du panier moyen')\n",
    "plt.subplot(78,1,2)\n",
    "plt.hist(h['age'])\n",
    "plt.xlabel('Age')\n",
    "plt.show()"
   ]
  },
  {
   "cell_type": "code",
   "execution_count": 120,
   "id": "f33617b2",
   "metadata": {
    "scrolled": true
   },
   "outputs": [
    {
     "data": {
      "text/html": [
       "<div>\n",
       "<style scoped>\n",
       "    .dataframe tbody tr th:only-of-type {\n",
       "        vertical-align: middle;\n",
       "    }\n",
       "\n",
       "    .dataframe tbody tr th {\n",
       "        vertical-align: top;\n",
       "    }\n",
       "\n",
       "    .dataframe thead th {\n",
       "        text-align: right;\n",
       "    }\n",
       "</style>\n",
       "<table border=\"1\" class=\"dataframe\">\n",
       "  <thead>\n",
       "    <tr style=\"text-align: right;\">\n",
       "      <th></th>\n",
       "      <th>taille_panier_moyen</th>\n",
       "      <th>age</th>\n",
       "    </tr>\n",
       "  </thead>\n",
       "  <tbody>\n",
       "    <tr>\n",
       "      <th>taille_panier_moyen</th>\n",
       "      <td>1.000000</td>\n",
       "      <td>-0.292222</td>\n",
       "    </tr>\n",
       "    <tr>\n",
       "      <th>age</th>\n",
       "      <td>-0.292222</td>\n",
       "      <td>1.000000</td>\n",
       "    </tr>\n",
       "  </tbody>\n",
       "</table>\n",
       "</div>"
      ],
      "text/plain": [
       "                     taille_panier_moyen       age\n",
       "taille_panier_moyen             1.000000 -0.292222\n",
       "age                            -0.292222  1.000000"
      ]
     },
     "execution_count": 120,
     "metadata": {},
     "output_type": "execute_result"
    }
   ],
   "source": [
    "# Calculer le coéfficient de corrélation Pearson\n",
    "h.corr()"
   ]
  },
  {
   "cell_type": "code",
   "execution_count": 121,
   "id": "6366c6db",
   "metadata": {
    "scrolled": true
   },
   "outputs": [
    {
     "data": {
      "text/plain": [
       "-0.1692105362991439"
      ]
     },
     "execution_count": 121,
     "metadata": {},
     "output_type": "execute_result"
    }
   ],
   "source": [
    "# Calculer le coéfficient de corrélation Spearman\n",
    "h['age'].corr(h['taille_panier_moyen'],method='spearman')"
   ]
  },
  {
   "cell_type": "code",
   "execution_count": 122,
   "id": "179b3d8d",
   "metadata": {},
   "outputs": [
    {
     "data": {
      "text/plain": [
       "-0.20679320679320679"
      ]
     },
     "execution_count": 122,
     "metadata": {},
     "output_type": "execute_result"
    }
   ],
   "source": [
    "h['age'].corr(h['taille_panier_moyen'],method='kendall')"
   ]
  },
  {
   "cell_type": "markdown",
   "id": "98853a51",
   "metadata": {},
   "source": [
    "##### Résultat :\n",
    "\n",
    "- Une bonne répartition de la variable âge\n",
    "- Une asymétrie évidente de la distribution de la variable taille du panier avec 2 concentration 10€-20€ et 40€-42€ \n",
    "- Le coefficient de corrélation (Pearson) r = - 0.29, on constate également qu'il est négatif\n",
    "- Le coefficient de corrélation de Spearman = - 0.16 , on constate également qu'il est négatif \n",
    "- Comme on peut le voir sur le nuage de dispersion, les données ne suivent pas une tendance linéaire \n",
    "\n",
    "##### Interprétation :\n",
    "\n",
    "- Les 2 variabes âge et taille du panier moyen ne présentent une relation non liniaire\n",
    "- La relation est également non monotone\n",
    "\n",
    "##### Conclusion :\n",
    "\n",
    "Nous pouvons conclure que cette distribution suit une tendance non monotone, non linéaire avec une corrélation négative entre l’âge et la taille du panier moyen."
   ]
  },
  {
   "cell_type": "markdown",
   "id": "0033bdad",
   "metadata": {},
   "source": [
    "-----\n",
    "-----\n",
    "### E. LE LIEN ENTRE L'AGE DES CLIENTS ET  LA CATEGORIE DE LIVRES ACHETES\n",
    "-----\n",
    "-----\n",
    "\n",
    "##### Démarche :\n",
    " - Analyse graphique : la forme des distributions, les moyennes\n",
    " - Analyse de la variance  :\n",
    "     - Un test statistique de l'égalité des moyennes (ANOVA)\n",
    "     - tester la significativité pour le facteur considéré ?\n",
    "     - Hypothèse nulle H0 : égalité des moyennes des 3 catégories de produits\n",
    "     - Hypothèse inverse H1 : non égalité des moyennes\n",
    " - Donc ici nous allons évaluer l'homogénéité de la moyenne par l'analyse de la variance"
   ]
  },
  {
   "cell_type": "code",
   "execution_count": 123,
   "id": "f119f4cd",
   "metadata": {
    "scrolled": false
   },
   "outputs": [
    {
     "data": {
      "text/html": [
       "<div>\n",
       "<style scoped>\n",
       "    .dataframe tbody tr th:only-of-type {\n",
       "        vertical-align: middle;\n",
       "    }\n",
       "\n",
       "    .dataframe tbody tr th {\n",
       "        vertical-align: top;\n",
       "    }\n",
       "\n",
       "    .dataframe thead th {\n",
       "        text-align: right;\n",
       "    }\n",
       "</style>\n",
       "<table border=\"1\" class=\"dataframe\">\n",
       "  <thead>\n",
       "    <tr style=\"text-align: right;\">\n",
       "      <th>categ</th>\n",
       "      <th>0</th>\n",
       "      <th>1</th>\n",
       "      <th>2</th>\n",
       "    </tr>\n",
       "    <tr>\n",
       "      <th>age</th>\n",
       "      <th></th>\n",
       "      <th></th>\n",
       "      <th></th>\n",
       "    </tr>\n",
       "  </thead>\n",
       "  <tbody>\n",
       "    <tr>\n",
       "      <th>17.0</th>\n",
       "      <td>1265</td>\n",
       "      <td>2102</td>\n",
       "      <td>2188</td>\n",
       "    </tr>\n",
       "    <tr>\n",
       "      <th>18.0</th>\n",
       "      <td>2059</td>\n",
       "      <td>3705</td>\n",
       "      <td>3739</td>\n",
       "    </tr>\n",
       "    <tr>\n",
       "      <th>19.0</th>\n",
       "      <td>1111</td>\n",
       "      <td>2020</td>\n",
       "      <td>2158</td>\n",
       "    </tr>\n",
       "    <tr>\n",
       "      <th>20.0</th>\n",
       "      <td>957</td>\n",
       "      <td>1676</td>\n",
       "      <td>1706</td>\n",
       "    </tr>\n",
       "    <tr>\n",
       "      <th>21.0</th>\n",
       "      <td>989</td>\n",
       "      <td>1562</td>\n",
       "      <td>1638</td>\n",
       "    </tr>\n",
       "  </tbody>\n",
       "</table>\n",
       "</div>"
      ],
      "text/plain": [
       "categ     0     1     2\n",
       "age                    \n",
       "17.0   1265  2102  2188\n",
       "18.0   2059  3705  3739\n",
       "19.0   1111  2020  2158\n",
       "20.0    957  1676  1706\n",
       "21.0    989  1562  1638"
      ]
     },
     "execution_count": 123,
     "metadata": {},
     "output_type": "execute_result"
    }
   ],
   "source": [
    "d=pd.crosstab(analyse['age'], analyse['categ'])\n",
    "\n",
    "d.head()"
   ]
  },
  {
   "cell_type": "code",
   "execution_count": 124,
   "id": "e3af012a",
   "metadata": {},
   "outputs": [
    {
     "data": {
      "text/html": [
       "<div>\n",
       "<style scoped>\n",
       "    .dataframe tbody tr th:only-of-type {\n",
       "        vertical-align: middle;\n",
       "    }\n",
       "\n",
       "    .dataframe tbody tr th {\n",
       "        vertical-align: top;\n",
       "    }\n",
       "\n",
       "    .dataframe thead th {\n",
       "        text-align: right;\n",
       "    }\n",
       "</style>\n",
       "<table border=\"1\" class=\"dataframe\">\n",
       "  <thead>\n",
       "    <tr style=\"text-align: right;\">\n",
       "      <th></th>\n",
       "      <th>mean</th>\n",
       "    </tr>\n",
       "    <tr>\n",
       "      <th>categ</th>\n",
       "      <th></th>\n",
       "    </tr>\n",
       "  </thead>\n",
       "  <tbody>\n",
       "    <tr>\n",
       "      <th>0</th>\n",
       "      <td>43.585391</td>\n",
       "    </tr>\n",
       "    <tr>\n",
       "      <th>1</th>\n",
       "      <td>47.357645</td>\n",
       "    </tr>\n",
       "    <tr>\n",
       "      <th>2</th>\n",
       "      <td>25.650912</td>\n",
       "    </tr>\n",
       "  </tbody>\n",
       "</table>\n",
       "</div>"
      ],
      "text/plain": [
       "            mean\n",
       "categ           \n",
       "0      43.585391\n",
       "1      47.357645\n",
       "2      25.650912"
      ]
     },
     "execution_count": 124,
     "metadata": {},
     "output_type": "execute_result"
    }
   ],
   "source": [
    "# calculer la moyenne d'age pour chaque catégorie\n",
    "analyse.groupby('categ')['age'].agg(['mean'])"
   ]
  },
  {
   "cell_type": "markdown",
   "id": "3c6bf380",
   "metadata": {},
   "source": [
    "##### Etudier la répartition de ces 2 variables séparément avec des histogrammes "
   ]
  },
  {
   "cell_type": "code",
   "execution_count": 125,
   "id": "525f4fa4",
   "metadata": {},
   "outputs": [
    {
     "data": {
      "text/plain": [
       "<Figure size 648x432 with 0 Axes>"
      ]
     },
     "metadata": {},
     "output_type": "display_data"
    },
    {
     "data": {
      "image/png": "[encoded data removed]",
      "text/plain": [
       "<Figure size 1008x288 with 1 Axes>"
      ]
     },
     "metadata": {
      "needs_background": "light"
     },
     "output_type": "display_data"
    }
   ],
   "source": [
    "plt.figure(figsize = (9, 6))\n",
    "d.plot()\n",
    "plt.title('figure : Catégorie de livres achetés par âge de client')\n",
    "plt.ylabel('Nombre de produits achetés')\n",
    "plt.grid()"
   ]
  },
  {
   "cell_type": "code",
   "execution_count": 126,
   "id": "1c221a18",
   "metadata": {
    "scrolled": true
   },
   "outputs": [
    {
     "data": {
      "image/png": "[encoded data removed]",
      "text/plain": [
       "<Figure size 576x360 with 1 Axes>"
      ]
     },
     "metadata": {
      "needs_background": "light"
     },
     "output_type": "display_data"
    }
   ],
   "source": [
    "X='categ'\n",
    "Y='age'\n",
    "modalites = analyse[X].unique()\n",
    "groupes = []\n",
    "for m in modalites:\n",
    "    groupes.append(analyse[analyse[X]==m][Y])\n",
    "\n",
    "# Propriétés graphiques (pas très importantes)    \n",
    "medianprops = {'color':\"black\"}\n",
    "meanprops = {'marker':'o', 'markeredgecolor':'black',\n",
    "            'markerfacecolor':'firebrick'}\n",
    "plt.figure(figsize = (8, 5))   \n",
    "plt.boxplot(groupes, labels=modalites, showfliers=False, medianprops=medianprops, \n",
    "            vert=False, patch_artist=True, showmeans=True, meanprops=meanprops)\n",
    "plt.xlabel('Age')\n",
    "plt.ylabel(\"Catégorie\")\n",
    "plt.grid()\n",
    "plt.show()"
   ]
  },
  {
   "cell_type": "code",
   "execution_count": 127,
   "id": "44feac38",
   "metadata": {},
   "outputs": [],
   "source": [
    "cat0=analyse['age'][analyse['categ']==0]\n",
    "cat1=analyse['age'][analyse['categ']==1]\n",
    "cat2=analyse['age'][analyse['categ']==2]"
   ]
  },
  {
   "cell_type": "code",
   "execution_count": 128,
   "id": "c9684513",
   "metadata": {},
   "outputs": [
    {
     "data": {
      "text/plain": [
       "1.0043134381319176"
      ]
     },
     "execution_count": 128,
     "metadata": {},
     "output_type": "execute_result"
    }
   ],
   "source": [
    "# vérifier l'asymétrie de la distribution de la variable âge pour la catégorie 0\n",
    "cat0.skew()"
   ]
  },
  {
   "cell_type": "code",
   "execution_count": 129,
   "id": "8e16fb18",
   "metadata": {
    "scrolled": true
   },
   "outputs": [
    {
     "data": {
      "image/png": "[encoded data removed]",
      "text/plain": [
       "<Figure size 1008x288 with 1 Axes>"
      ]
     },
     "metadata": {
      "needs_background": "light"
     },
     "output_type": "display_data"
    }
   ],
   "source": [
    "cat0.hist(density=True,bins=20)\n",
    "plt.axvline(cat0.mean(), color='k', linestyle='dashed', linewidth=2)\n",
    "plt.title( 'Distribution de l\\'âge pour la catégorie 0 \\n Mean: {:.2f}'.format(cat2.mean()))\n",
    "plt.xlabel('Age')\n",
    "plt.show()"
   ]
  },
  {
   "cell_type": "code",
   "execution_count": 130,
   "id": "4148fbfd",
   "metadata": {},
   "outputs": [
    {
     "data": {
      "text/plain": [
       "0.18621905333472422"
      ]
     },
     "execution_count": 130,
     "metadata": {},
     "output_type": "execute_result"
    }
   ],
   "source": [
    "# vérifier l'asymétrie de la distribution de la variable âge pour la catégorie 1\n",
    "cat1.skew()"
   ]
  },
  {
   "cell_type": "code",
   "execution_count": 131,
   "id": "c556d5a8",
   "metadata": {},
   "outputs": [
    {
     "data": {
      "image/png": "[encoded data removed]",
      "text/plain": [
       "<Figure size 1008x288 with 1 Axes>"
      ]
     },
     "metadata": {
      "needs_background": "light"
     },
     "output_type": "display_data"
    }
   ],
   "source": [
    "cat1.hist(density=True,bins=20)\n",
    "plt.axvline(cat1.mean(), color='k', linestyle='dashed', linewidth=2)\n",
    "plt.title( 'Distribution de l\\'âge pour la catégorie 1 \\n Mean: {:.2f}'.format(cat2.mean()))\n",
    "plt.xlabel('Age')\n",
    "plt.show()"
   ]
  },
  {
   "cell_type": "code",
   "execution_count": 132,
   "id": "9a20fb08",
   "metadata": {},
   "outputs": [
    {
     "data": {
      "text/plain": [
       "2.9139294986717394"
      ]
     },
     "execution_count": 132,
     "metadata": {},
     "output_type": "execute_result"
    }
   ],
   "source": [
    "# vérifier l'asymétrie de la distribution de la variable âge pour la catégorie 2\n",
    "cat2.skew()"
   ]
  },
  {
   "cell_type": "code",
   "execution_count": 133,
   "id": "0815dee3",
   "metadata": {},
   "outputs": [
    {
     "data": {
      "image/png": "[encoded data removed]",
      "text/plain": [
       "<Figure size 1008x288 with 1 Axes>"
      ]
     },
     "metadata": {
      "needs_background": "light"
     },
     "output_type": "display_data"
    }
   ],
   "source": [
    "cat2.hist(density=True,bins=20)\n",
    "plt.axvline(cat2.mean(), color='k', linestyle='dashed', linewidth=2)\n",
    "plt.title( 'Distribution de l\\'âge pour la catégorie 2 \\n Mean: {:.2f}'.format(cat2.mean()))\n",
    "plt.xlabel('Age')\n",
    "plt.show()"
   ]
  },
  {
   "cell_type": "code",
   "execution_count": 134,
   "id": "bf1c1000",
   "metadata": {},
   "outputs": [
    {
     "name": "stdout",
     "output_type": "stream",
     "text": [
      "F : 27.908303755709838 \n",
      "p : 1.3927964388024685e-11\n"
     ]
    }
   ],
   "source": [
    "# appliquer le test anova pour confirmer ou infirmer l'hypothèse H0\n",
    "F,p=st.f_oneway(d[0],d[1],d[2])\n",
    "print('F :', F,'\\np :',p)"
   ]
  },
  {
   "cell_type": "code",
   "execution_count": 135,
   "id": "2d22994c",
   "metadata": {},
   "outputs": [
    {
     "data": {
      "text/plain": [
       "True"
      ]
     },
     "execution_count": 135,
     "metadata": {},
     "output_type": "execute_result"
    }
   ],
   "source": [
    "p<0.05"
   ]
  },
  {
   "cell_type": "markdown",
   "id": "126dd870",
   "metadata": {},
   "source": [
    "### Vu que l'âge pour les catégories 0 et 2 ne présente pas une distribution normale, nous allons réaliser un test non paramétrique 'test Kruskal-Wallis'  "
   ]
  },
  {
   "cell_type": "code",
   "execution_count": 136,
   "id": "7ef184b3",
   "metadata": {},
   "outputs": [
    {
     "data": {
      "text/plain": [
       "True"
      ]
     },
     "execution_count": 136,
     "metadata": {},
     "output_type": "execute_result"
    }
   ],
   "source": [
    "# Utiliser un test non parametrique\n",
    "f,p=st.kruskal(d[0],d[1],d[2])\n",
    "p<0.05"
   ]
  },
  {
   "cell_type": "markdown",
   "id": "9ac20bab",
   "metadata": {},
   "source": [
    "##### Résultats\n",
    "\n",
    "- Une asymétrie positive pour la catégorie 0 skew = 1\n",
    "- L'âge de la catégorie 1 se rapproche de la distribution normale, skew = 0.18 \n",
    "- Une asymétrie positive importante pour la catégorie 2, skew = 2.91\n",
    "- p1 < 0.05 (test anova paramétrique)\n",
    "- p2 < 0.05 (test Kruskal-Wallis non paramétrique)\n",
    "\n",
    "##### Interprétation\n",
    "- p < 0.05 l'hypothèse H0 rejeté\n",
    "- Les moyennes sont sygnificativement différentes\n",
    "La valeur p2 étant à nouveau extrêmement petite, on peut rejeter l’hypothèse d’indépendance et considérer que les distributions des âges dans les 3 catégorie sont différentes.\n",
    "##### Conclusion\n",
    "\n",
    "- Il y'a bien une corrélation entre la variable âge et catégories des livres achetés\n"
   ]
  },
  {
   "cell_type": "markdown",
   "id": "feaaaef5",
   "metadata": {},
   "source": [
    "-------\n",
    "-------\n",
    "### 7. Calcule de la probabilité qu’un client achète la référence 0_525 sachant qu’il a acheté la référence 2_159\n",
    "-------\n",
    "-------\n",
    "##### Démarche :\n",
    "\n",
    "Effectuer les calculs su un dataset créé en selectionnant les références unique des produits achetés par chaque client\n",
    "\n",
    "##### Calculer :\n",
    "   - p_A : probabilité qu'un client achète le produit 2_159\n",
    "   - p_A_int_B : probabilité qu'un client achète à la fois la référence 0_525 et 2_159\n",
    "   - p_finale =  p_A_int_B / p_A"
   ]
  },
  {
   "cell_type": "code",
   "execution_count": 137,
   "id": "ca9ddbdc",
   "metadata": {
    "scrolled": false
   },
   "outputs": [
    {
     "data": {
      "text/html": [
       "<div>\n",
       "<style scoped>\n",
       "    .dataframe tbody tr th:only-of-type {\n",
       "        vertical-align: middle;\n",
       "    }\n",
       "\n",
       "    .dataframe tbody tr th {\n",
       "        vertical-align: top;\n",
       "    }\n",
       "\n",
       "    .dataframe thead th {\n",
       "        text-align: right;\n",
       "    }\n",
       "</style>\n",
       "<table border=\"1\" class=\"dataframe\">\n",
       "  <thead>\n",
       "    <tr style=\"text-align: right;\">\n",
       "      <th></th>\n",
       "      <th>id_prod</th>\n",
       "      <th>session_id</th>\n",
       "      <th>client_id</th>\n",
       "      <th>sex</th>\n",
       "      <th>birth</th>\n",
       "      <th>price</th>\n",
       "      <th>categ</th>\n",
       "      <th>année</th>\n",
       "      <th>mois</th>\n",
       "      <th>heure</th>\n",
       "      <th>jour</th>\n",
       "      <th>age</th>\n",
       "    </tr>\n",
       "    <tr>\n",
       "      <th>date</th>\n",
       "      <th></th>\n",
       "      <th></th>\n",
       "      <th></th>\n",
       "      <th></th>\n",
       "      <th></th>\n",
       "      <th></th>\n",
       "      <th></th>\n",
       "      <th></th>\n",
       "      <th></th>\n",
       "      <th></th>\n",
       "      <th></th>\n",
       "      <th></th>\n",
       "    </tr>\n",
       "  </thead>\n",
       "  <tbody>\n",
       "    <tr>\n",
       "      <th>2022-05-20 13:21:29.043970</th>\n",
       "      <td>0_1518</td>\n",
       "      <td>s_211425</td>\n",
       "      <td>c_103</td>\n",
       "      <td>f</td>\n",
       "      <td>1986</td>\n",
       "      <td>4.18</td>\n",
       "      <td>0</td>\n",
       "      <td>2022</td>\n",
       "      <td>5</td>\n",
       "      <td>13</td>\n",
       "      <td>Friday</td>\n",
       "      <td>36.0</td>\n",
       "    </tr>\n",
       "    <tr>\n",
       "      <th>2021-07-20 13:21:29.043970</th>\n",
       "      <td>0_1518</td>\n",
       "      <td>s_64849</td>\n",
       "      <td>c_103</td>\n",
       "      <td>f</td>\n",
       "      <td>1986</td>\n",
       "      <td>4.18</td>\n",
       "      <td>0</td>\n",
       "      <td>2021</td>\n",
       "      <td>7</td>\n",
       "      <td>13</td>\n",
       "      <td>Tuesday</td>\n",
       "      <td>35.0</td>\n",
       "    </tr>\n",
       "    <tr>\n",
       "      <th>2022-08-20 13:21:29.043970</th>\n",
       "      <td>0_1518</td>\n",
       "      <td>s_255965</td>\n",
       "      <td>c_103</td>\n",
       "      <td>f</td>\n",
       "      <td>1986</td>\n",
       "      <td>4.18</td>\n",
       "      <td>0</td>\n",
       "      <td>2022</td>\n",
       "      <td>8</td>\n",
       "      <td>13</td>\n",
       "      <td>Saturday</td>\n",
       "      <td>36.0</td>\n",
       "    </tr>\n",
       "    <tr>\n",
       "      <th>2021-05-09 11:52:55.100386</th>\n",
       "      <td>0_1518</td>\n",
       "      <td>s_32104</td>\n",
       "      <td>c_6714</td>\n",
       "      <td>f</td>\n",
       "      <td>1968</td>\n",
       "      <td>4.18</td>\n",
       "      <td>0</td>\n",
       "      <td>2021</td>\n",
       "      <td>5</td>\n",
       "      <td>11</td>\n",
       "      <td>Sunday</td>\n",
       "      <td>53.0</td>\n",
       "    </tr>\n",
       "    <tr>\n",
       "      <th>2022-05-30 01:17:07.487046</th>\n",
       "      <td>0_1518</td>\n",
       "      <td>s_216118</td>\n",
       "      <td>c_6714</td>\n",
       "      <td>f</td>\n",
       "      <td>1968</td>\n",
       "      <td>4.18</td>\n",
       "      <td>0</td>\n",
       "      <td>2022</td>\n",
       "      <td>5</td>\n",
       "      <td>1</td>\n",
       "      <td>Monday</td>\n",
       "      <td>54.0</td>\n",
       "    </tr>\n",
       "  </tbody>\n",
       "</table>\n",
       "</div>"
      ],
      "text/plain": [
       "                           id_prod session_id client_id sex  birth  price  \\\n",
       "date                                                                        \n",
       "2022-05-20 13:21:29.043970  0_1518   s_211425     c_103   f   1986   4.18   \n",
       "2021-07-20 13:21:29.043970  0_1518    s_64849     c_103   f   1986   4.18   \n",
       "2022-08-20 13:21:29.043970  0_1518   s_255965     c_103   f   1986   4.18   \n",
       "2021-05-09 11:52:55.100386  0_1518    s_32104    c_6714   f   1968   4.18   \n",
       "2022-05-30 01:17:07.487046  0_1518   s_216118    c_6714   f   1968   4.18   \n",
       "\n",
       "                           categ  année  mois  heure      jour   age  \n",
       "date                                                                  \n",
       "2022-05-20 13:21:29.043970     0   2022     5     13    Friday  36.0  \n",
       "2021-07-20 13:21:29.043970     0   2021     7     13   Tuesday  35.0  \n",
       "2022-08-20 13:21:29.043970     0   2022     8     13  Saturday  36.0  \n",
       "2021-05-09 11:52:55.100386     0   2021     5     11    Sunday  53.0  \n",
       "2022-05-30 01:17:07.487046     0   2022     5      1    Monday  54.0  "
      ]
     },
     "execution_count": 137,
     "metadata": {},
     "output_type": "execute_result"
    }
   ],
   "source": [
    "analyse.head()"
   ]
  },
  {
   "cell_type": "code",
   "execution_count": 138,
   "id": "e6f27e8f",
   "metadata": {
    "scrolled": true
   },
   "outputs": [
    {
     "name": "stdout",
     "output_type": "stream",
     "text": [
      "client_id\n",
      "c_1       [0_1547, 0_1571, 0_1410, 0_1090, 0_1475, 0_147...\n",
      "c_10      [1_249, 1_398, 0_1383, 0_1623, 1_395, 1_265, 1...\n",
      "c_100            [0_1111, 1_442, 1_547, 1_57, 2_194, 0_312]\n",
      "c_1000    [0_1537, 0_1033, 0_1644, 1_376, 1_249, 0_1090,...\n",
      "c_1001    [0_2054, 1_457, 0_1640, 1_253, 0_1489, 0_1380,...\n",
      "                                ...                        \n",
      "c_995     [0_1397, 0_1432, 1_441, 1_436, 0_1514, 1_607, ...\n",
      "c_996     [0_1537, 1_249, 1_708, 1_398, 0_1399, 0_1334, ...\n",
      "c_997     [0_1640, 1_397, 1_381, 1_388, 0_1405, 1_456, 1...\n",
      "c_998     [1_370, 0_1385, 1_417, 1_365, 0_1115, 0_1386, ...\n",
      "c_999     [0_1418, 1_381, 1_251, 0_1442, 1_247, 1_724, 1...\n",
      "Name: id_prod, Length: 8598, dtype: object\n"
     ]
    },
    {
     "data": {
      "text/plain": [
       "0.87890625"
      ]
     },
     "execution_count": 138,
     "metadata": {},
     "output_type": "execute_result"
    }
   ],
   "source": [
    "# Isoler les id_prod uniques achetés par chaque client\n",
    "list_client_prod = analyse.groupby('client_id')['id_prod'].unique()\n",
    "print( list_client_prod  )\n",
    "\n",
    "i = 0 # Variable incrémenter si la référence 2_159 est trouvé chez l'achat d'un client\n",
    "j = 0 # Variable incrémenter si la référence 0_525 est trouvé chez l'achat d'un client\n",
    "\n",
    "# Rechercher la présence de 2_159 uniquement puis de 0_525 et 2_159 simultanément dans les achats de chaque client'''\n",
    "for element in list_client_prod :\n",
    "    if '2_159' in element :\n",
    "        i += 1\n",
    "        \n",
    "    if ('0_525' in element) and ('2_159' in element) :\n",
    "        j += 1\n",
    "        \n",
    "        p_A = i / len(list_client_prod)# Probabilité que le client achéte la référence 2_159\n",
    "        p_A_int_B = j / len(list_client_prod)# Probabilité que le client achète à la fois la référence 0_525 et 2_159\n",
    "\n",
    "# Probabilité qu’un client achète la référence 0_525 sachant qu’il a acheté la référence 2_159\n",
    "# d'après la formule des probabilités conditionnelles\n",
    "\n",
    "p_finale = p_A_int_B / p_A\n",
    "p_finale"
   ]
  },
  {
   "cell_type": "code",
   "execution_count": 139,
   "id": "5625cec6",
   "metadata": {},
   "outputs": [
    {
     "data": {
      "text/plain": [
       "0.052337752965806"
      ]
     },
     "execution_count": 139,
     "metadata": {},
     "output_type": "execute_result"
    }
   ],
   "source": [
    "p_A_int_B"
   ]
  },
  {
   "cell_type": "code",
   "execution_count": 140,
   "id": "7a50fe4a",
   "metadata": {},
   "outputs": [
    {
     "data": {
      "text/plain": [
       "0.05954873226331705"
      ]
     },
     "execution_count": 140,
     "metadata": {},
     "output_type": "execute_result"
    }
   ],
   "source": [
    "p_A"
   ]
  },
  {
   "cell_type": "markdown",
   "id": "c2447ee0",
   "metadata": {},
   "source": [
    "##### Resultats :\n",
    "\n",
    "- p_A (probabilité qu'un client achète le produit 2_159) = 0.05954873226331705\n",
    "- p_A_int_B (probabilité qu'un client achète à la fois les 2 produits 0_525 et 2_159) = 0.052337752965806\n",
    "- p_finale (probabilité qu'un client achète le produit 0_525 schant qu'il a acheté le produit 2_159) = 0.87890625\n",
    "\n",
    "##### Interprétation :\n",
    "\n",
    "- La probabilité qu'un client achète le produit 0_525 schant qu'il a acheté le produit 2_159 est fortement élevée\n",
    "\n",
    "##### Conclusion :\n",
    "\n",
    "- Nous constatons qu'il y'a un lien évident entre les 2 produits 0_525 et 2_159\n"
   ]
  },
  {
   "cell_type": "markdown",
   "id": "a5983f05",
   "metadata": {},
   "source": [
    "-------\n",
    "### 8. Exploration des jours et heures des commandes \n",
    "-------"
   ]
  },
  {
   "cell_type": "markdown",
   "id": "b246d4f5",
   "metadata": {},
   "source": [
    "##### Démarche :\n",
    "- Analyse graphique des jours et heures de commandes"
   ]
  },
  {
   "cell_type": "code",
   "execution_count": 141,
   "id": "1ba9caa8",
   "metadata": {},
   "outputs": [
    {
     "data": {
      "image/png": "[encoded data removed]",
      "text/plain": [
       "<Figure size 1008x288 with 1 Axes>"
      ]
     },
     "metadata": {
      "needs_background": "light"
     },
     "output_type": "display_data"
    }
   ],
   "source": [
    "# Afficher le graphique des commandes (connexion) par jours\n",
    "plt.figure(figsize = (14, 4))\n",
    "analyse.groupby('jour')['jour'].count().plot(linestyle = 'dashed',marker = 'o')\n",
    "plt.title('Nombre de commandes par jour de semaine')\n",
    "plt.xlabel('jours')\n",
    "plt.ylabel(\"Nombres de commandes\")\n",
    "plt.grid()\n",
    "plt.show()"
   ]
  },
  {
   "cell_type": "code",
   "execution_count": 142,
   "id": "90b36f2b",
   "metadata": {
    "scrolled": false
   },
   "outputs": [
    {
     "data": {
      "image/png": "[encoded data removed]",
      "text/plain": [
       "<Figure size 1008x288 with 1 Axes>"
      ]
     },
     "metadata": {
      "needs_background": "light"
     },
     "output_type": "display_data"
    }
   ],
   "source": [
    "# Afficher le graphique des commandes (connexion) par heures\n",
    "plt.figure(figsize = (14, 4))\n",
    "analyse.groupby('heure')['heure'].count().plot(linestyle = 'dashed',marker = 'o')\n",
    "plt.title('Nombre de commandes par heures de la journée')\n",
    "plt.xlabel('Heures')\n",
    "plt.ylabel(\"Nombres de commandes\")\n",
    "plt.grid()\n",
    "plt.show()"
   ]
  },
  {
   "cell_type": "markdown",
   "id": "f97be0cd",
   "metadata": {},
   "source": [
    "##### Interprétation\n",
    "- Les jours les plus riches en nombre de commandes :\n",
    "       - Vendredi : 95900\n",
    "       - Lundi : 95250\n",
    "       - Samedi : 94900\n",
    "- Les heures les plus riches en nombre de commandes :\n",
    "     - Toutes les heures mis à part 5h sont incluses dans l'intrevalle en nombre de commandes de 27000-27900 avec des pics à 9h et 19h \n",
    "       "
   ]
  },
  {
   "cell_type": "markdown",
   "id": "53226ddd",
   "metadata": {},
   "source": [
    "-------\n",
    "-------\n",
    "# CONCLUSION\n",
    "\n",
    "- Un certain nombre de clients totalement  inactifs(21), ainsi que certains produits sans aucune commande(21),\n",
    "- Un produit 0_2245 commandé 221 fois ne présente aucune référence prix, à explorer !\n",
    "- Un chiffre d’affaire total de 11853728 €\n",
    "- Un chiffre d’affaire du mois d’octobre 2021 anormalement bas, dû probablement à une rupture de stocks des produits de la catégorie 1 (5 jours seulement de commandes durant tout le mois)\n",
    "- Un chiffre d’affaire mensuel oscillant entre 456679.76€ et 535571.50€\n",
    "- Concernant les chiffre d’affaire par catégorie de produits  la CAT1 est en tête alors qu’elle est derrière la CAT0 en terme de nombre de ventes\n",
    "- La répartition du chiffre d’affaire est quasi parfaite entre les hommes et les femmes, c’est le cas également par catégories entre les 2 genres\n",
    "- Sur le podium des meilleurs ventes les produits de la catégorie 1 sont au sommet, contrairement au produits de la catégorie 0 qui sont les moins biens vendus\n",
    "- Le chiffre d’affaire est inégalitairement réparti entre les clients(21% des clients ont dépensés 50% du chiffre d’affaire)\n",
    "- Il y’a bien une corrélation entre le genre et la catégorie des produits\n",
    "- Il semble bien y avoir une corrélation entre l’âge du client et :\n",
    "  - Le montant total des achats\n",
    "  - La fréquence d’achat\n",
    "  - La taille du panier moyen  \n",
    "  - La catégorie des livres achetés \n",
    "- Il est également évident qu’il y’a un lien fort entre les 2 produits 0_525 et 2_159\n",
    "- Il est également observé que le vendredi, lundi et le samedi sont les jours où les clients sont les plus actifs en nombre d’achats\n",
    "- Les pics en terme de nombre d’achats sont atteints à 9h et 19h\n",
    "\n",
    "-------"
   ]
  }
 ],
 "metadata": {
  "kernelspec": {
   "display_name": "Python 3",
   "language": "python",
   "name": "python3"
  },
  "language_info": {
   "codemirror_mode": {
    "name": "ipython",
    "version": 3
   },
   "file_extension": ".py",
   "mimetype": "text/x-python",
   "name": "python",
   "nbconvert_exporter": "python",
   "pygments_lexer": "ipython3",
   "version": "3.8.8"
  }
 },
 "nbformat": 4,
 "nbformat_minor": 5
}
